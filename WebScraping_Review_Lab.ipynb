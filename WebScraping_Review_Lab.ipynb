{
 "cells": [
  {
   "cell_type": "markdown",
   "metadata": {},
   "source": [
    "<p style=\"text-align:center\">\n",
    "    <a href=\"https://skills.network/?utm_medium=Exinfluencer&utm_source=Exinfluencer&utm_content=000026UJ&utm_term=10006555&utm_id=NA-SkillsNetwork-Channel-SkillsNetworkCoursesIBMDeveloperSkillsNetworkPY0220ENSkillsNetwork900-2022-01-01\" target=\"_blank\">\n",
    "    <img src=\"https://cf-courses-data.s3.us.cloud-object-storage.appdomain.cloud/assets/logos/SN_web_lightmode.png\" width=\"200\" alt=\"Skills Network Logo\"  />\n",
    "    </a>\n",
    "</p>\n"
   ]
  },
  {
   "cell_type": "markdown",
   "metadata": {},
   "source": [
    "# **Web Scraping Lab**\n"
   ]
  },
  {
   "cell_type": "markdown",
   "metadata": {},
   "source": [
    "Estimated time needed: **30** minutes\n"
   ]
  },
  {
   "cell_type": "markdown",
   "metadata": {},
   "source": [
    "## Objectives\n"
   ]
  },
  {
   "cell_type": "markdown",
   "metadata": {},
   "source": [
    "After completing this lab you will be able to:\n"
   ]
  },
  {
   "cell_type": "markdown",
   "metadata": {},
   "source": [
    "<h2>Table of Contents</h2>\n",
    "<div class=\"alert alert-block alert-info\" style=\"margin-top: 20px\">\n",
    "    <ul>\n",
    "        <li>\n",
    "            <a href=\"https://bso/?utm_medium=Exinfluencer&utm_source=Exinfluencer&utm_content=000026UJ&utm_term=10006555&utm_id=NA-SkillsNetwork-Channel-SkillsNetworkCoursesIBMDeveloperSkillsNetworkPY0220ENSkillsNetwork23455606-2021-01-01\">Beautiful Soup Object</a>\n",
    "            <ul>\n",
    "                <li>Tag</li>\n",
    "                <li>Children, Parents, and Siblings</li>\n",
    "                <li>HTML Attributes</li>\n",
    "                <li>Navigable String</li>\n",
    "            </ul>\n",
    "        </li>\n",
    "     </ul>\n",
    "    <ul>\n",
    "        <li>\n",
    "            <a href=\"https://filter/?utm_medium=Exinfluencer&utm_source=Exinfluencer&utm_content=000026UJ&utm_term=10006555&utm_id=NA-SkillsNetwork-Channel-SkillsNetworkCoursesIBMDeveloperSkillsNetworkPY0220ENSkillsNetwork23455606-2021-01-01\">Filter</a>\n",
    "            <ul>\n",
    "                <li>find All</li>\n",
    "                <li>find </li>\n",
    "                <li>HTML Attributes</li>\n",
    "                <li>Navigable String</li>\n",
    "            </ul>\n",
    "        </li>\n",
    "     </ul>\n",
    "     <ul>\n",
    "        <li>\n",
    "            <a href=\"https://dscw/?utm_medium=Exinfluencer&utm_source=Exinfluencer&utm_content=000026UJ&utm_term=10006555&utm_id=NA-SkillsNetwork-Channel-SkillsNetworkCoursesIBMDeveloperSkillsNetworkPY0220ENSkillsNetwork23455606-2021-01-01\">Downloading And Scraping The Contents Of A Web</a>\n",
    "    </li>\n",
    "         </ul>\n",
    "    <p>\n",
    "        Estimated time needed: <strong>25 min</strong>\n",
    "    </p>\n",
    "\n",
    "</div>\n",
    "\n",
    "<hr>\n"
   ]
  },
  {
   "cell_type": "markdown",
   "metadata": {},
   "source": [
    "For this lab, we are going to be using Python and several Python libraries. Some of these libraries might be installed in your lab environment or in SN Labs. Others may need to be installed by you. The cells below will install these libraries when executed.\n"
   ]
  },
  {
   "cell_type": "code",
   "execution_count": 2,
   "metadata": {},
   "outputs": [
    {
     "name": "stdout",
     "output_type": "stream",
     "text": [
      "\n",
      "                  __    __    __    __\n",
      "                 /  \\  /  \\  /  \\  /  \\\n",
      "                /    \\/    \\/    \\/    \\\n",
      "███████████████/  /██/  /██/  /██/  /████████████████████████\n",
      "              /  / \\   / \\   / \\   / \\  \\____\n",
      "             /  /   \\_/   \\_/   \\_/   \\    o \\__,\n",
      "            / _/                       \\_____/  `\n",
      "            |/\n",
      "        ███╗   ███╗ █████╗ ███╗   ███╗██████╗  █████╗\n",
      "        ████╗ ████║██╔══██╗████╗ ████║██╔══██╗██╔══██╗\n",
      "        ██╔████╔██║███████║██╔████╔██║██████╔╝███████║\n",
      "        ██║╚██╔╝██║██╔══██║██║╚██╔╝██║██╔══██╗██╔══██║\n",
      "        ██║ ╚═╝ ██║██║  ██║██║ ╚═╝ ██║██████╔╝██║  ██║\n",
      "        ╚═╝     ╚═╝╚═╝  ╚═╝╚═╝     ╚═╝╚═════╝ ╚═╝  ╚═╝\n",
      "\n",
      "        mamba (0.15.3) supported by @QuantStack\n",
      "\n",
      "        GitHub:  https://github.com/mamba-org/mamba\n",
      "        Twitter: https://twitter.com/QuantStack\n",
      "\n",
      "█████████████████████████████████████████████████████████████\n",
      "\n",
      "\n",
      "Looking for: ['bs4==4.10.0']\n",
      "\n",
      "pkgs/main/linux-64       [<=>                 ] (00m:00s) \n",
      "pkgs/main/linux-64       [=>                ] (00m:00s) 497  B / ?? (3.19 KB/s)\n",
      "pkgs/main/linux-64       [<=>               ] (00m:00s) 497  B / ?? (3.19 KB/s)\n",
      "pkgs/main/linux-64       [<=>               ] (00m:00s) 720 KB / ?? (2.32 MB/s)\n",
      "pkgs/main/linux-64       [<=>               ] (00m:00s) 720 KB / ?? (2.32 MB/s)\n",
      "pkgs/main/noarch         [<=>                 ] (00m:00s) \n",
      "pkgs/main/linux-64       [<=>               ] (00m:00s) 720 KB / ?? (2.32 MB/s)\n",
      "pkgs/main/noarch         [=>                ] (00m:00s) 584 KB / ?? (1.88 MB/s)\n",
      "pkgs/main/linux-64       [<=>               ] (00m:00s) 720 KB / ?? (2.32 MB/s)\n",
      "pkgs/main/noarch         [=>                ] (00m:00s) 584 KB / ?? (1.88 MB/s)\n",
      "pkgs/r/linux-64          [<=>                 ] (00m:00s) \n",
      "pkgs/main/linux-64       [<=>               ] (00m:00s) 720 KB / ?? (2.32 MB/s)\n",
      "pkgs/main/noarch         [=>                ] (00m:00s) 584 KB / ?? (1.88 MB/s)\n",
      "pkgs/r/linux-64          [=>                ] (00m:00s) 668 KB / ?? (2.15 MB/s)\n",
      "pkgs/main/linux-64       [<=>               ] (00m:00s) 720 KB / ?? (2.32 MB/s)\n",
      "pkgs/main/noarch         [=>                ] (00m:00s) 584 KB / ?? (1.88 MB/s)\n",
      "pkgs/r/linux-64          [=>                ] (00m:00s) 668 KB / ?? (2.15 MB/s)\n",
      "pkgs/r/noarch            [<=>                 ] (00m:00s) \n",
      "pkgs/main/linux-64       [<=>               ] (00m:00s) 720 KB / ?? (2.32 MB/s)\n",
      "pkgs/main/noarch         [=>                ] (00m:00s) 584 KB / ?? (1.88 MB/s)\n",
      "pkgs/r/linux-64          [=>                ] (00m:00s) 668 KB / ?? (2.15 MB/s)\n",
      "pkgs/r/noarch            [=>                ] (00m:00s) 652 KB / ?? (2.10 MB/s)\n",
      "pkgs/main/linux-64       [<=>               ] (00m:00s) 720 KB / ?? (2.32 MB/s)\n",
      "pkgs/main/noarch         [<=>                 ] (00m:00s) Finalizing...\n",
      "pkgs/r/linux-64          [=>                ] (00m:00s) 668 KB / ?? (2.15 MB/s)\n",
      "pkgs/r/noarch            [=>                ] (00m:00s) 652 KB / ?? (2.10 MB/s)\n",
      "pkgs/main/linux-64       [<=>               ] (00m:00s) 720 KB / ?? (2.32 MB/s)\n",
      "pkgs/main/noarch         [<=>                 ] (00m:00s) Done\n",
      "pkgs/r/linux-64          [=>                ] (00m:00s) 668 KB / ?? (2.15 MB/s)\n",
      "pkgs/r/noarch            [=>                ] (00m:00s) 652 KB / ?? (2.10 MB/s)\n",
      "pkgs/main/noarch         [====================] (00m:00s) Done\n",
      "pkgs/main/linux-64       [<=>               ] (00m:00s) 720 KB / ?? (2.32 MB/s)\n",
      "pkgs/r/linux-64          [=>                ] (00m:00s) 668 KB / ?? (2.15 MB/s)\n",
      "pkgs/r/noarch            [=>                ] (00m:00s) 652 KB / ?? (2.10 MB/s)\n",
      "pkgs/main/linux-64       [<=>               ] (00m:00s) 720 KB / ?? (2.32 MB/s)\n",
      "pkgs/r/linux-64          [=>                ] (00m:00s) 668 KB / ?? (2.15 MB/s)\n",
      "pkgs/r/noarch            [<=>                 ] (00m:00s) Finalizing...\n",
      "pkgs/main/linux-64       [<=>               ] (00m:00s) 720 KB / ?? (2.32 MB/s)\n",
      "pkgs/r/linux-64          [=>                ] (00m:00s) 668 KB / ?? (2.15 MB/s)\n",
      "pkgs/r/noarch            [<=>                 ] (00m:00s) Done\n",
      "pkgs/r/noarch            [====================] (00m:00s) Done\n",
      "pkgs/main/linux-64       [<=>               ] (00m:00s) 720 KB / ?? (2.32 MB/s)\n",
      "pkgs/r/linux-64          [=>                ] (00m:00s) 668 KB / ?? (2.15 MB/s)\n",
      "pkgs/main/linux-64       [ <=>              ] (00m:00s) 720 KB / ?? (2.32 MB/s)\n",
      "pkgs/r/linux-64          [=>                ] (00m:00s) 668 KB / ?? (2.15 MB/s)\n",
      "pkgs/main/linux-64       [  <=>               ] (00m:00s) 1 MB / ?? (2.97 MB/s)\n",
      "pkgs/r/linux-64          [=>                ] (00m:00s) 668 KB / ?? (2.15 MB/s)\n",
      "pkgs/main/linux-64       [  <=>               ] (00m:00s) 1 MB / ?? (2.97 MB/s)\n",
      "pkgs/r/linux-64          [<=>               ] (00m:00s) 668 KB / ?? (2.15 MB/s)\n",
      "pkgs/main/linux-64       [  <=>               ] (00m:00s) 1 MB / ?? (2.97 MB/s)\n",
      "pkgs/r/linux-64          [ <=>                ] (00m:00s) 1 MB / ?? (2.87 MB/s)\n",
      "pkgs/main/linux-64       [  <=>               ] (00m:00s) 1 MB / ?? (2.97 MB/s)\n",
      "pkgs/r/linux-64          [ <=>                ] (00m:00s) Finalizing...\n",
      "pkgs/main/linux-64       [  <=>               ] (00m:00s) 1 MB / ?? (2.97 MB/s)\n",
      "pkgs/r/linux-64          [ <=>                ] (00m:00s) Done\n",
      "pkgs/r/linux-64          [====================] (00m:00s) Done\n",
      "pkgs/main/linux-64       [  <=>               ] (00m:00s) 1 MB / ?? (2.97 MB/s)\n",
      "pkgs/main/linux-64       [   <=>              ] (00m:00s) 1 MB / ?? (2.97 MB/s)\n",
      "pkgs/main/linux-64       [   <=>              ] (00m:00s) 2 MB / ?? (3.55 MB/s)\n",
      "pkgs/main/linux-64       [    <=>             ] (00m:00s) 2 MB / ?? (3.55 MB/s)\n",
      "pkgs/main/linux-64       [    <=>             ] (00m:00s) 3 MB / ?? (3.74 MB/s)\n",
      "pkgs/main/linux-64       [     <=>            ] (00m:00s) 3 MB / ?? (3.74 MB/s)\n",
      "pkgs/main/linux-64       [     <=>            ] (00m:00s) 4 MB / ?? (3.84 MB/s)\n",
      "pkgs/main/linux-64       [      <=>           ] (00m:00s) 4 MB / ?? (3.84 MB/s)\n",
      "pkgs/main/linux-64       [      <=>           ] (00m:00s) 4 MB / ?? (3.96 MB/s)\n",
      "pkgs/main/linux-64       [      <=>           ] (00m:01s) Finalizing...\n",
      "pkgs/main/linux-64       [      <=>           ] (00m:01s) Done\n",
      "pkgs/main/linux-64       [====================] (00m:01s) Done\n",
      "\n",
      "Pinned packages:\n",
      "  - python 3.7.*\n",
      "\n",
      "\n",
      "Transaction\n",
      "\n",
      "  Prefix: /home/jupyterlab/conda/envs/python\n",
      "\n",
      "  Updating specs:\n",
      "\n",
      "   - bs4==4.10.0\n",
      "   - ca-certificates\n",
      "   - certifi\n",
      "   - openssl\n",
      "\n",
      "\n",
      "  Package               Version  Build           Channel                  Size\n",
      "────────────────────────────────────────────────────────────────────────────────\n",
      "  Install:\n",
      "────────────────────────────────────────────────────────────────────────────────\n",
      "\n",
      "\u001b[32m  + bs4            \u001b[00m      4.10.0  hd3eb1b0_0      pkgs/main/noarch        10 KB\n",
      "\n",
      "  Change:\n",
      "────────────────────────────────────────────────────────────────────────────────\n",
      "\n",
      "\u001b[31m  - certifi        \u001b[00m   2022.9.24  pyhd8ed1ab_0    installed                    \n",
      "\u001b[32m  + certifi        \u001b[00m   2022.9.24  py37h06a4308_0  pkgs/main/linux-64     154 KB\n",
      "\u001b[31m  - openssl        \u001b[00m      1.1.1s  h0b41bf4_1      installed                    \n",
      "\u001b[32m  + openssl        \u001b[00m      1.1.1s  h7f8727e_0      pkgs/main/linux-64       4 MB\n",
      "\n",
      "  Upgrade:\n",
      "────────────────────────────────────────────────────────────────────────────────\n",
      "\n",
      "\u001b[31m  - ca-certificates\u001b[00m   2022.9.24  ha878542_0      installed                    \n",
      "\u001b[32m  + ca-certificates\u001b[00m  2022.10.11  h06a4308_0      pkgs/main/linux-64     124 KB\n",
      "\n",
      "  Downgrade:\n",
      "────────────────────────────────────────────────────────────────────────────────\n",
      "\n",
      "\u001b[31m  - beautifulsoup4 \u001b[00m      4.11.1  pyha770c72_0    installed                    \n",
      "\u001b[32m  + beautifulsoup4 \u001b[00m      4.10.0  pyh06a4308_0    pkgs/main/noarch        85 KB\n",
      "\n",
      "  Summary:\n",
      "\n",
      "  Install: 1 packages\n",
      "  Change: 2 packages\n",
      "  Upgrade: 1 packages\n",
      "  Downgrade: 1 packages\n",
      "\n",
      "  Total download: 4 MB\n",
      "\n",
      "────────────────────────────────────────────────────────────────────────────────\n",
      "\n",
      "Downloading  [>                                        ] (00m:00s)    3.43 KB/s\n",
      "Extracting   [>                                                      ] (--:--) \n",
      "Downloading  [>                                        ] (00m:00s)    3.43 KB/s\n",
      "Extracting   [>                                                      ] (--:--) \n",
      "Downloading  [>                                        ] (00m:00s)   66.27 KB/s\n",
      "Extracting   [>                                                      ] (--:--) \n",
      "\u001b[2A\u001b[0KFinished bs4                                  (00m:00s)              10 KB     66 KB/s\n",
      "Downloading  [>                                        ] (00m:00s)   66.27 KB/s\n",
      "Extracting   [>                                                      ] (--:--) \n",
      "Downloading  [>                                        ] (00m:00s)   66.27 KB/s\n",
      "Extracting   [>                                                      ] (--:--) \n",
      "Downloading  [>                                        ] (00m:00s)   66.27 KB/s\n",
      "Extracting   [>                                                      ] (--:--) \n",
      "Downloading  [>                                        ] (00m:00s)   66.27 KB/s\n",
      "Extracting   [========>                                ] (00m:00s)        1 / 5\n",
      "Downloading  [>                                        ] (00m:00s)  364.99 KB/s\n",
      "Extracting   [========>                                ] (00m:00s)        1 / 5\n",
      "\u001b[2A\u001b[0KFinished beautifulsoup4                       (00m:00s)              85 KB    326 KB/s\n",
      "Downloading  [>                                        ] (00m:00s)  364.99 KB/s\n",
      "Extracting   [========>                                ] (00m:00s)        1 / 5\n",
      "Downloading  [>                                        ] (00m:00s)  364.99 KB/s\n",
      "Extracting   [========>                                ] (00m:00s)        1 / 5\n",
      "Downloading  [>                                        ] (00m:00s)  364.99 KB/s\n",
      "Extracting   [========>                                ] (00m:00s)        1 / 5\n",
      "Downloading  [==>                                      ] (00m:00s)  842.42 KB/s\n",
      "Extracting   [========>                                ] (00m:00s)        1 / 5\n",
      "Downloading  [===>                                     ] (00m:00s)    1.40 MB/s\n",
      "Extracting   [========>                                ] (00m:00s)        1 / 5\n",
      "\u001b[2A\u001b[0KFinished ca-certificates                      (00m:00s)             124 KB    480 KB/s\n",
      "Downloading  [===>                                     ] (00m:00s)    1.40 MB/s\n",
      "Extracting   [========>                                ] (00m:00s)        1 / 5\n",
      "Downloading  [===>                                     ] (00m:00s)    1.40 MB/s\n",
      "Extracting   [========>                                ] (00m:00s)        1 / 5\n",
      "\u001b[2A\u001b[0KFinished certifi                              (00m:00s)             154 KB    591 KB/s\n",
      "Downloading  [===>                                     ] (00m:00s)    1.40 MB/s\n",
      "Extracting   [========>                                ] (00m:00s)        1 / 5\n",
      "Downloading  [===>                                     ] (00m:00s)    1.40 MB/s\n",
      "Extracting   [========>                                ] (00m:00s)        1 / 5\n",
      "Downloading  [===>                                     ] (00m:00s)    1.40 MB/s\n",
      "Extracting   [================>                        ] (00m:00s)        2 / 5\n",
      "Downloading  [===>                                     ] (00m:00s)    1.40 MB/s\n",
      "Extracting   [================>                        ] (00m:00s)        2 / 5\n",
      "Downloading  [===>                                     ] (00m:00s)    1.40 MB/s\n",
      "Extracting   [========================>                ] (00m:00s)        3 / 5\n",
      "Downloading  [===>                                     ] (00m:00s)    1.40 MB/s\n",
      "Extracting   [========================>                ] (00m:00s)        3 / 5\n",
      "Downloading  [===>                                     ] (00m:00s)    1.40 MB/s\n",
      "Extracting   [================================>        ] (00m:00s)        4 / 5\n",
      "Downloading  [====================>                    ] (00m:00s)    6.55 MB/s\n",
      "Extracting   [================================>        ] (00m:00s)        4 / 5\n",
      "Downloading  [====================>                    ] (00m:00s)    6.55 MB/s\n",
      "Extracting   [================================>        ] (00m:00s)        4 / 5\n",
      "Downloading  [=========================================] (00m:00s)   12.36 MB/s\n",
      "Extracting   [================================>        ] (00m:00s)        4 / 5\n",
      "\u001b[2A\u001b[0KFinished openssl                              (00m:00s)               4 MB     11 MB/s\n",
      "Downloading  [=========================================] (00m:00s)   12.36 MB/s\n",
      "Extracting   [================================>        ] (00m:00s)        4 / 5\n",
      "Downloading  [=========================================] (00m:00s)   12.36 MB/s\n",
      "Extracting   [================================>        ] (00m:00s)        4 / 5\n",
      "Downloading  [=========================================] (00m:00s)   12.36 MB/s\n",
      "Extracting   [================================>        ] (00m:00s)        4 / 5\n",
      "Downloading  [=========================================] (00m:00s)   12.36 MB/s\n",
      "Extracting   [=========================================] (00m:00s)        5 / 5\n",
      "Preparing transaction: done\n",
      "Verifying transaction: done\n",
      "Executing transaction: done\n",
      "Collecting lxml==4.6.4\n",
      "  Downloading lxml-4.6.4-cp37-cp37m-manylinux_2_17_x86_64.manylinux2014_x86_64.manylinux_2_24_x86_64.whl (6.3 MB)\n",
      "\u001b[2K     \u001b[90m━━━━━━━━━━━━━━━━━━━━━━━━━━━━━━━━━━━━━━━━\u001b[0m \u001b[32m6.3/6.3 MB\u001b[0m \u001b[31m77.2 MB/s\u001b[0m eta \u001b[36m0:00:00\u001b[0m:00:01\u001b[0m00:01\u001b[0m\n",
      "\u001b[?25hInstalling collected packages: lxml\n",
      "  Attempting uninstall: lxml\n",
      "    Found existing installation: lxml 4.9.1\n",
      "    Uninstalling lxml-4.9.1:\n",
      "      Successfully uninstalled lxml-4.9.1\n",
      "Successfully installed lxml-4.6.4\n",
      "\n",
      "                  __    __    __    __\n",
      "                 /  \\  /  \\  /  \\  /  \\\n",
      "                /    \\/    \\/    \\/    \\\n",
      "███████████████/  /██/  /██/  /██/  /████████████████████████\n",
      "              /  / \\   / \\   / \\   / \\  \\____\n",
      "             /  /   \\_/   \\_/   \\_/   \\    o \\__,\n",
      "            / _/                       \\_____/  `\n",
      "            |/\n",
      "        ███╗   ███╗ █████╗ ███╗   ███╗██████╗  █████╗\n",
      "        ████╗ ████║██╔══██╗████╗ ████║██╔══██╗██╔══██╗\n",
      "        ██╔████╔██║███████║██╔████╔██║██████╔╝███████║\n",
      "        ██║╚██╔╝██║██╔══██║██║╚██╔╝██║██╔══██╗██╔══██║\n",
      "        ██║ ╚═╝ ██║██║  ██║██║ ╚═╝ ██║██████╔╝██║  ██║\n",
      "        ╚═╝     ╚═╝╚═╝  ╚═╝╚═╝     ╚═╝╚═════╝ ╚═╝  ╚═╝\n",
      "\n",
      "        mamba (0.15.3) supported by @QuantStack\n",
      "\n",
      "        GitHub:  https://github.com/mamba-org/mamba\n",
      "        Twitter: https://twitter.com/QuantStack\n",
      "\n",
      "█████████████████████████████████████████████████████████████\n",
      "\n",
      "\n",
      "Looking for: ['html5lib==1.1']\n",
      "\n",
      "pkgs/main/linux-64       Using cache\n",
      "pkgs/main/noarch         Using cache\n",
      "pkgs/r/linux-64          Using cache\n",
      "pkgs/r/noarch            Using cache\n",
      "\n",
      "Pinned packages:\n",
      "  - python 3.7.*\n",
      "\n",
      "\n",
      "Transaction\n",
      "\n",
      "  Prefix: /home/jupyterlab/conda/envs/python\n",
      "\n",
      "  Updating specs:\n",
      "\n",
      "   - html5lib==1.1\n",
      "   - ca-certificates\n",
      "   - certifi\n",
      "   - openssl\n",
      "\n",
      "\n",
      "  Package         Version  Build         Channel                 Size\n",
      "───────────────────────────────────────────────────────────────────────\n",
      "  Install:\n",
      "───────────────────────────────────────────────────────────────────────\n",
      "\n",
      "\u001b[32m  + html5lib    \u001b[00m      1.1  pyhd3eb1b0_0  pkgs/main/noarch       91 KB\n",
      "\u001b[32m  + webencodings\u001b[00m    0.5.1  py37_1        pkgs/main/linux-64     19 KB\n",
      "\n",
      "  Summary:\n",
      "\n",
      "  Install: 2 packages\n",
      "\n",
      "  Total download: 110 KB\n",
      "\n",
      "───────────────────────────────────────────────────────────────────────\n",
      "\n",
      "Downloading  [>                                        ] (00m:00s)    3.40 KB/s\n",
      "Extracting   [>                                                      ] (--:--) \n",
      "Downloading  [>                                        ] (00m:00s)    3.40 KB/s\n",
      "Extracting   [>                                                      ] (--:--) \n",
      "Downloading  [======>                                  ] (00m:00s)  125.62 KB/s\n",
      "Extracting   [>                                                      ] (--:--) \n",
      "\u001b[2A\u001b[0KFinished webencodings                         (00m:00s)              19 KB    125 KB/s\n",
      "Downloading  [======>                                  ] (00m:00s)  125.62 KB/s\n",
      "Extracting   [>                                                      ] (--:--) \n",
      "Downloading  [======>                                  ] (00m:00s)  125.62 KB/s\n",
      "Extracting   [>                                                      ] (--:--) \n",
      "Downloading  [======>                                  ] (00m:00s)  125.62 KB/s\n",
      "Extracting   [>                                                      ] (--:--) \n",
      "Downloading  [======>                                  ] (00m:00s)  125.62 KB/s\n",
      "Extracting   [====================>                    ] (00m:00s)        1 / 2\n",
      "Downloading  [=========================================] (00m:00s)  569.52 KB/s\n",
      "Extracting   [====================>                    ] (00m:00s)        1 / 2\n",
      "\u001b[2A\u001b[0KFinished html5lib                             (00m:00s)              91 KB    471 KB/s\n",
      "Downloading  [=========================================] (00m:00s)  569.52 KB/s\n",
      "Extracting   [====================>                    ] (00m:00s)        1 / 2\n",
      "Downloading  [=========================================] (00m:00s)  569.52 KB/s\n",
      "Extracting   [====================>                    ] (00m:00s)        1 / 2\n",
      "Downloading  [=========================================] (00m:00s)  569.52 KB/s\n",
      "Extracting   [====================>                    ] (00m:00s)        1 / 2\n",
      "Downloading  [=========================================] (00m:00s)  569.52 KB/s\n",
      "Extracting   [=========================================] (00m:00s)        2 / 2\n",
      "Preparing transaction: done\n",
      "Verifying transaction: done\n",
      "Executing transaction: done\n"
     ]
    }
   ],
   "source": [
    "!mamba install bs4==4.10.0 -y\n",
    "!pip install lxml==4.6.4\n",
    "!mamba install html5lib==1.1 -y\n",
    "# !pip install requests==2.26.0"
   ]
  },
  {
   "cell_type": "markdown",
   "metadata": {},
   "source": [
    "Import the required modules and functions\n"
   ]
  },
  {
   "cell_type": "code",
   "execution_count": 3,
   "metadata": {},
   "outputs": [],
   "source": [
    "from bs4 import BeautifulSoup # this module helps in web scrapping.\n",
    "import requests  # this module helps us to download a web page"
   ]
  },
  {
   "cell_type": "markdown",
   "metadata": {},
   "source": [
    "<h2 id=\"BSO\">Beautiful Soup Objects</h2>\n"
   ]
  },
  {
   "cell_type": "markdown",
   "metadata": {},
   "source": [
    "Beautiful Soup is a Python library for pulling data out of HTML and XML files, we will focus on HTML files. This is accomplished by representing the HTML as a set of objects with methods used to parse the HTML.  We can navigate the HTML as a tree and/or filter out what we are looking for.\n",
    "\n",
    "Consider the following HTML:\n"
   ]
  },
  {
   "cell_type": "code",
   "execution_count": 1,
   "metadata": {},
   "outputs": [
    {
     "data": {
      "text/html": [
       "<!DOCTYPE html>\n",
       "<html>\n",
       "<head>\n",
       "<title>Page Title</title>\n",
       "</head>\n",
       "<body>\n",
       "<h3><b id='boldest'>Lebron James</b></h3>\n",
       "<p> Salary: $ 92,000,000 </p>\n",
       "<h3> Stephen Curry</h3>\n",
       "<p> Salary: $85,000, 000 </p>\n",
       "<h3> Kevin Durant </h3>\n",
       "<p> Salary: $73,200, 000</p>\n",
       "</body>\n",
       "</html>\n"
      ],
      "text/plain": [
       "<IPython.core.display.HTML object>"
      ]
     },
     "metadata": {},
     "output_type": "display_data"
    }
   ],
   "source": [
    "%%html\n",
    "<!DOCTYPE html>\n",
    "<html>\n",
    "<head>\n",
    "<title>Page Title</title>\n",
    "</head>\n",
    "<body>\n",
    "<h3><b id='boldest'>Lebron James</b></h3>\n",
    "<p> Salary: $ 92,000,000 </p>\n",
    "<h3> Stephen Curry</h3>\n",
    "<p> Salary: $85,000, 000 </p>\n",
    "<h3> Kevin Durant </h3>\n",
    "<p> Salary: $73,200, 000</p>\n",
    "</body>\n",
    "</html>"
   ]
  },
  {
   "cell_type": "markdown",
   "metadata": {},
   "source": [
    "We can store it as a string in the variable HTML:\n"
   ]
  },
  {
   "cell_type": "code",
   "execution_count": 4,
   "metadata": {},
   "outputs": [],
   "source": [
    "html=\"<!DOCTYPE html><html><head><title>Page Title</title></head><body><h3><b id='boldest'>Lebron James</b></h3><p> Salary: $ 92,000,000 </p><h3> Stephen Curry</h3><p> Salary: $85,000, 000 </p><h3> Kevin Durant </h3><p> Salary: $73,200, 000</p></body></html>\""
   ]
  },
  {
   "cell_type": "markdown",
   "metadata": {},
   "source": [
    "To parse a document, pass it into the <code>BeautifulSoup</code> constructor, the <code>BeautifulSoup</code> object, which represents the document as a nested data structure:\n"
   ]
  },
  {
   "cell_type": "code",
   "execution_count": 5,
   "metadata": {},
   "outputs": [],
   "source": [
    "soup = BeautifulSoup(html, \"html.parser\")"
   ]
  },
  {
   "cell_type": "markdown",
   "metadata": {},
   "source": [
    "First, the document is converted to Unicode, (similar to ASCII),  and HTML entities are converted to Unicode characters. Beautiful Soup transforms a complex HTML document into a complex tree of Python objects. The <code>BeautifulSoup</code> object can create other types of objects. In this lab, we will cover <code>BeautifulSoup</code> and <code>Tag</code> objects that for the purposes of this lab are identical, and <code>NavigableString</code> objects.\n"
   ]
  },
  {
   "cell_type": "markdown",
   "metadata": {},
   "source": [
    "We can use the method <code>prettify()</code> to display the HTML in the nested structure:\n"
   ]
  },
  {
   "cell_type": "code",
   "execution_count": 7,
   "metadata": {},
   "outputs": [
    {
     "name": "stdout",
     "output_type": "stream",
     "text": [
      "<!DOCTYPE html>\n",
      "<html>\n",
      " <head>\n",
      "  <title>\n",
      "   Page Title\n",
      "  </title>\n",
      " </head>\n",
      " <body>\n",
      "  <h3>\n",
      "   <b id=\"boldest\">\n",
      "    Lebron James\n",
      "   </b>\n",
      "  </h3>\n",
      "  <p>\n",
      "   Salary: $ 92,000,000\n",
      "  </p>\n",
      "  <h3>\n",
      "   Stephen Curry\n",
      "  </h3>\n",
      "  <p>\n",
      "   Salary: $85,000, 000\n",
      "  </p>\n",
      "  <h3>\n",
      "   Kevin Durant\n",
      "  </h3>\n",
      "  <p>\n",
      "   Salary: $73,200, 000\n",
      "  </p>\n",
      " </body>\n",
      "</html>\n"
     ]
    }
   ],
   "source": [
    "print(soup.prettify())"
   ]
  },
  {
   "cell_type": "markdown",
   "metadata": {},
   "source": [
    "## Tags\n"
   ]
  },
  {
   "cell_type": "markdown",
   "metadata": {},
   "source": [
    "Let's say we want the  title of the page and the name of the top paid player we can use the <code>Tag</code>. The <code>Tag</code> object corresponds to an HTML tag in the original document, for example, the tag title.\n"
   ]
  },
  {
   "cell_type": "code",
   "execution_count": 9,
   "metadata": {},
   "outputs": [
    {
     "name": "stdout",
     "output_type": "stream",
     "text": [
      "evans title: <title>\n",
      " Page Title\n",
      "</title>\n"
     ]
    }
   ],
   "source": [
    "tag_object=soup.title\n",
    "print(\"evans title:\", tag_object.prettify())"
   ]
  },
  {
   "cell_type": "markdown",
   "metadata": {},
   "source": [
    "we can see the tag type <code>bs4.element.Tag</code>\n"
   ]
  },
  {
   "cell_type": "code",
   "execution_count": 10,
   "metadata": {},
   "outputs": [
    {
     "name": "stdout",
     "output_type": "stream",
     "text": [
      "tag object type: <class 'bs4.element.Tag'>\n"
     ]
    }
   ],
   "source": [
    "print(\"tag object type:\",type(tag_object))"
   ]
  },
  {
   "cell_type": "markdown",
   "metadata": {},
   "source": [
    "If there is more than one <code>Tag</code>  with the same name, the first element with that <code>Tag</code> name is called, this corresponds to the most paid player:\n"
   ]
  },
  {
   "cell_type": "code",
   "execution_count": 11,
   "metadata": {},
   "outputs": [
    {
     "data": {
      "text/plain": [
       "<h3><b id=\"boldest\">Lebron James</b></h3>"
      ]
     },
     "execution_count": 11,
     "metadata": {},
     "output_type": "execute_result"
    }
   ],
   "source": [
    "tag_object=soup.h3\n",
    "tag_object"
   ]
  },
  {
   "cell_type": "markdown",
   "metadata": {},
   "source": [
    "Enclosed in the bold attribute <code>b</code>, it helps to use the tree representation. We can navigate down the tree using the child attribute to get the name.\n"
   ]
  },
  {
   "cell_type": "markdown",
   "metadata": {},
   "source": [
    "### Children, Parents, and Siblings\n"
   ]
  },
  {
   "cell_type": "markdown",
   "metadata": {},
   "source": [
    "As stated above the <code>Tag</code> object is a tree of objects we can access the child of the tag or navigate down the branch as follows:\n"
   ]
  },
  {
   "cell_type": "code",
   "execution_count": 12,
   "metadata": {},
   "outputs": [
    {
     "data": {
      "text/plain": [
       "<b id=\"boldest\">Lebron James</b>"
      ]
     },
     "execution_count": 12,
     "metadata": {},
     "output_type": "execute_result"
    }
   ],
   "source": [
    "tag_child =tag_object.b\n",
    "tag_child"
   ]
  },
  {
   "cell_type": "markdown",
   "metadata": {},
   "source": [
    "You can access the parent with the <code> parent</code>\n"
   ]
  },
  {
   "cell_type": "code",
   "execution_count": 13,
   "metadata": {},
   "outputs": [
    {
     "data": {
      "text/plain": [
       "<h3><b id=\"boldest\">Lebron James</b></h3>"
      ]
     },
     "execution_count": 13,
     "metadata": {},
     "output_type": "execute_result"
    }
   ],
   "source": [
    "parent_tag=tag_child.parent\n",
    "parent_tag"
   ]
  },
  {
   "cell_type": "markdown",
   "metadata": {},
   "source": [
    "this is identical to\n"
   ]
  },
  {
   "cell_type": "code",
   "execution_count": 11,
   "metadata": {},
   "outputs": [
    {
     "data": {
      "text/plain": [
       "<h3><b id=\"boldest\">Lebron James</b></h3>"
      ]
     },
     "execution_count": 11,
     "metadata": {},
     "output_type": "execute_result"
    }
   ],
   "source": [
    "tag_object"
   ]
  },
  {
   "cell_type": "markdown",
   "metadata": {},
   "source": [
    "<code>tag_object</code> parent is the <code>body</code> element.\n"
   ]
  },
  {
   "cell_type": "code",
   "execution_count": 14,
   "metadata": {},
   "outputs": [
    {
     "data": {
      "text/plain": [
       "<body><h3><b id=\"boldest\">Lebron James</b></h3><p> Salary: $ 92,000,000 </p><h3> Stephen Curry</h3><p> Salary: $85,000, 000 </p><h3> Kevin Durant </h3><p> Salary: $73,200, 000</p></body>"
      ]
     },
     "execution_count": 14,
     "metadata": {},
     "output_type": "execute_result"
    }
   ],
   "source": [
    "tag_object.parent"
   ]
  },
  {
   "cell_type": "markdown",
   "metadata": {},
   "source": [
    "<code>tag_object</code> sibling is the <code>paragraph</code> element\n"
   ]
  },
  {
   "cell_type": "code",
   "execution_count": 15,
   "metadata": {},
   "outputs": [
    {
     "data": {
      "text/plain": [
       "<p> Salary: $ 92,000,000 </p>"
      ]
     },
     "execution_count": 15,
     "metadata": {},
     "output_type": "execute_result"
    }
   ],
   "source": [
    "sibling_1=tag_object.next_sibling\n",
    "sibling_1"
   ]
  },
  {
   "cell_type": "markdown",
   "metadata": {},
   "source": [
    "`sibling_2` is the `header` element which is also a sibling of both `sibling_1` and `tag_object`\n"
   ]
  },
  {
   "cell_type": "code",
   "execution_count": 16,
   "metadata": {},
   "outputs": [
    {
     "data": {
      "text/plain": [
       "<h3> Stephen Curry</h3>"
      ]
     },
     "execution_count": 16,
     "metadata": {},
     "output_type": "execute_result"
    }
   ],
   "source": [
    "sibling_2=sibling_1.next_sibling\n",
    "sibling_2"
   ]
  },
  {
   "cell_type": "markdown",
   "metadata": {},
   "source": [
    "<h3 id=\"first_question\">Exercise: <code>next_sibling</code></h3>\n"
   ]
  },
  {
   "cell_type": "markdown",
   "metadata": {},
   "source": [
    "Using the object <code>sibling\\_2</code> and the property <code>next_sibling</code> to find the salary of Stephen Curry:\n"
   ]
  },
  {
   "cell_type": "code",
   "execution_count": 17,
   "metadata": {},
   "outputs": [
    {
     "data": {
      "text/plain": [
       "<p> Salary: $85,000, 000 </p>"
      ]
     },
     "execution_count": 17,
     "metadata": {},
     "output_type": "execute_result"
    }
   ],
   "source": [
    "sibling_2.next_sibling"
   ]
  },
  {
   "cell_type": "markdown",
   "metadata": {},
   "source": [
    "<details><summary>Click here for the solution</summary>\n",
    "\n",
    "```\n",
    "sibling_2.next_sibling\n",
    "\n",
    "```\n",
    "\n",
    "</details>\n"
   ]
  },
  {
   "cell_type": "markdown",
   "metadata": {},
   "source": [
    "### HTML Attributes\n"
   ]
  },
  {
   "cell_type": "markdown",
   "metadata": {},
   "source": [
    "If the tag has attributes, the tag <code>id=\"boldest\"</code> has an attribute <code>id</code> whose value is <code>boldest</code>. You can access a tag’s attributes by treating the tag like a dictionary:\n"
   ]
  },
  {
   "cell_type": "code",
   "execution_count": 18,
   "metadata": {},
   "outputs": [
    {
     "data": {
      "text/plain": [
       "'boldest'"
      ]
     },
     "execution_count": 18,
     "metadata": {},
     "output_type": "execute_result"
    }
   ],
   "source": [
    "tag_child['id']"
   ]
  },
  {
   "cell_type": "markdown",
   "metadata": {},
   "source": [
    "You can access that dictionary directly as <code>attrs</code>:\n"
   ]
  },
  {
   "cell_type": "code",
   "execution_count": 19,
   "metadata": {},
   "outputs": [
    {
     "data": {
      "text/plain": [
       "{'id': 'boldest'}"
      ]
     },
     "execution_count": 19,
     "metadata": {},
     "output_type": "execute_result"
    }
   ],
   "source": [
    "tag_child.attrs"
   ]
  },
  {
   "cell_type": "markdown",
   "metadata": {},
   "source": [
    "You can also work with Multi-valued attribute check out <a href=\"https://www.crummy.com/software/BeautifulSoup/bs4/doc/?utm_medium=Exinfluencer&utm_source=Exinfluencer&utm_content=000026UJ&utm_term=10006555&utm_id=NA-SkillsNetwork-Channel-SkillsNetworkCoursesIBMDeveloperSkillsNetworkPY0220ENSkillsNetwork23455606-2021-01-01\">\\[1]</a> for more.\n"
   ]
  },
  {
   "cell_type": "markdown",
   "metadata": {},
   "source": [
    "We can also obtain the content if the attribute of the <code>tag</code> using the Python <code>get()</code> method.\n"
   ]
  },
  {
   "cell_type": "code",
   "execution_count": 17,
   "metadata": {},
   "outputs": [
    {
     "data": {
      "text/plain": [
       "'boldest'"
      ]
     },
     "execution_count": 17,
     "metadata": {},
     "output_type": "execute_result"
    }
   ],
   "source": [
    "tag_child.get('id')"
   ]
  },
  {
   "cell_type": "markdown",
   "metadata": {},
   "source": [
    "### Navigable String\n"
   ]
  },
  {
   "cell_type": "markdown",
   "metadata": {},
   "source": [
    "A string corresponds to a bit of text or content within a tag. Beautiful Soup uses the <code>NavigableString</code> class to contain this text. In our HTML we can obtain the name of the first player by extracting the sting of the <code>Tag</code> object <code>tag_child</code> as follows:\n"
   ]
  },
  {
   "cell_type": "code",
   "execution_count": 20,
   "metadata": {},
   "outputs": [
    {
     "data": {
      "text/plain": [
       "'Lebron James'"
      ]
     },
     "execution_count": 20,
     "metadata": {},
     "output_type": "execute_result"
    }
   ],
   "source": [
    "tag_string=tag_child.string\n",
    "tag_string"
   ]
  },
  {
   "cell_type": "markdown",
   "metadata": {},
   "source": [
    "we can verify the type is Navigable String\n"
   ]
  },
  {
   "cell_type": "code",
   "execution_count": 19,
   "metadata": {},
   "outputs": [
    {
     "data": {
      "text/plain": [
       "bs4.element.NavigableString"
      ]
     },
     "execution_count": 19,
     "metadata": {},
     "output_type": "execute_result"
    }
   ],
   "source": [
    "type(tag_string)"
   ]
  },
  {
   "cell_type": "markdown",
   "metadata": {},
   "source": [
    "A NavigableString is just like a Python string or Unicode string, to be more precise. The main difference is that it also supports some  <code>BeautifulSoup</code> features. We can covert it to sting object in Python:\n"
   ]
  },
  {
   "cell_type": "code",
   "execution_count": 21,
   "metadata": {},
   "outputs": [
    {
     "data": {
      "text/plain": [
       "'Lebron James'"
      ]
     },
     "execution_count": 21,
     "metadata": {},
     "output_type": "execute_result"
    }
   ],
   "source": [
    "unicode_string = str(tag_string)\n",
    "unicode_string"
   ]
  },
  {
   "cell_type": "markdown",
   "metadata": {},
   "source": [
    "<h2 id=\"filter\">Filter</h2>\n"
   ]
  },
  {
   "cell_type": "markdown",
   "metadata": {},
   "source": [
    "Filters allow you to find complex patterns, the simplest filter is a string. In this section we will pass a string to a different filter method and Beautiful Soup will perform a match against that exact string.  Consider the following HTML of rocket launchs:\n"
   ]
  },
  {
   "cell_type": "code",
   "execution_count": 25,
   "metadata": {},
   "outputs": [
    {
     "data": {
      "text/html": [
       "<table>\n",
       "  <tr>\n",
       "    <td id='flight' >Flight No</td>\n",
       "    <td>Launch site</td> \n",
       "    <td>Payload mass</td>\n",
       "   </tr>\n",
       "  <tr> \n",
       "    <td>1</td>\n",
       "    <td><a href='https://en.wikipedia.org/wiki/Florida'>Florida</a></td>\n",
       "    <td>300 kg</td>\n",
       "  </tr>\n",
       "  <tr>\n",
       "    <td>2</td>\n",
       "    <td><a href='https://en.wikipedia.org/wiki/Texas'>Texas</a></td>\n",
       "    <td>94 kg</td>\n",
       "  </tr>\n",
       "  <tr>\n",
       "    <td>3</td>\n",
       "    <td><a href='https://en.wikipedia.org/wiki/Florida'>Florida<a> </td>\n",
       "    <td>80 kg</td>\n",
       "  </tr>\n",
       "</table>\n"
      ],
      "text/plain": [
       "<IPython.core.display.HTML object>"
      ]
     },
     "metadata": {},
     "output_type": "display_data"
    }
   ],
   "source": [
    "%%html\n",
    "<table>\n",
    "  <tr>\n",
    "    <td id='flight' >Flight No</td>\n",
    "    <td>Launch site</td> \n",
    "    <td>Payload mass</td>\n",
    "   </tr>\n",
    "  <tr> \n",
    "    <td>1</td>\n",
    "    <td><a href='https://en.wikipedia.org/wiki/Florida'>Florida</a></td>\n",
    "    <td>300 kg</td>\n",
    "  </tr>\n",
    "  <tr>\n",
    "    <td>2</td>\n",
    "    <td><a href='https://en.wikipedia.org/wiki/Texas'>Texas</a></td>\n",
    "    <td>94 kg</td>\n",
    "  </tr>\n",
    "  <tr>\n",
    "    <td>3</td>\n",
    "    <td><a href='https://en.wikipedia.org/wiki/Florida'>Florida<a> </td>\n",
    "    <td>80 kg</td>\n",
    "  </tr>\n",
    "</table>"
   ]
  },
  {
   "cell_type": "markdown",
   "metadata": {},
   "source": [
    "We can store it as a string in the variable <code>table</code>:\n"
   ]
  },
  {
   "cell_type": "code",
   "execution_count": 26,
   "metadata": {},
   "outputs": [],
   "source": [
    "table=\"<table><tr><td id='flight'>Flight No</td><td>Launch site</td> <td>Payload mass</td></tr><tr> <td>1</td><td><a href='https://en.wikipedia.org/wiki/Florida'>Florida<a></td><td>300 kg</td></tr><tr><td>2</td><td><a href='https://en.wikipedia.org/wiki/Texas'>Texas</a></td><td>94 kg</td></tr><tr><td>3</td><td><a href='https://en.wikipedia.org/wiki/Florida'>Florida<a> </td><td>80 kg</td></tr></table>\""
   ]
  },
  {
   "cell_type": "code",
   "execution_count": 33,
   "metadata": {},
   "outputs": [],
   "source": [
    "table_bs = BeautifulSoup(table, \"html.parser\")"
   ]
  },
  {
   "cell_type": "markdown",
   "metadata": {},
   "source": [
    "## find All\n"
   ]
  },
  {
   "cell_type": "markdown",
   "metadata": {},
   "source": [
    "The <code>find_all()</code> method looks through a tag’s descendants and retrieves all descendants that match your filters.\n",
    "\n",
    "<p>\n",
    "The Method signature for <code>find_all(name, attrs, recursive, string, limit, **kwargs)<c/ode>\n",
    "</p>\n"
   ]
  },
  {
   "cell_type": "markdown",
   "metadata": {},
   "source": [
    "### Name\n"
   ]
  },
  {
   "cell_type": "markdown",
   "metadata": {},
   "source": [
    "When we set the <code>name</code> parameter to a tag name, the method will extract all the tags with that name and its children.\n"
   ]
  },
  {
   "cell_type": "code",
   "execution_count": 34,
   "metadata": {},
   "outputs": [
    {
     "data": {
      "text/plain": [
       "[<tr><td id=\"flight\">Flight No</td><td>Launch site</td> <td>Payload mass</td></tr>,\n",
       " <tr> <td>1</td><td><a href=\"https://en.wikipedia.org/wiki/Florida\">Florida<a></a></a></td><td>300 kg</td></tr>,\n",
       " <tr><td>2</td><td><a href=\"https://en.wikipedia.org/wiki/Texas\">Texas</a></td><td>94 kg</td></tr>,\n",
       " <tr><td>3</td><td><a href=\"https://en.wikipedia.org/wiki/Florida\">Florida<a> </a></a></td><td>80 kg</td></tr>]"
      ]
     },
     "execution_count": 34,
     "metadata": {},
     "output_type": "execute_result"
    }
   ],
   "source": [
    "table_rows=table_bs.find_all('tr')\n",
    "table_rows"
   ]
  },
  {
   "cell_type": "markdown",
   "metadata": {},
   "source": [
    "The result is a Python Iterable just like a list, each element is a <code>tag</code> object:\n"
   ]
  },
  {
   "cell_type": "code",
   "execution_count": 35,
   "metadata": {},
   "outputs": [
    {
     "data": {
      "text/plain": [
       "<tr><td id=\"flight\">Flight No</td><td>Launch site</td> <td>Payload mass</td></tr>"
      ]
     },
     "execution_count": 35,
     "metadata": {},
     "output_type": "execute_result"
    }
   ],
   "source": [
    "first_row =table_rows[0]\n",
    "first_row"
   ]
  },
  {
   "cell_type": "markdown",
   "metadata": {},
   "source": [
    "The type is <code>tag</code>\n"
   ]
  },
  {
   "cell_type": "code",
   "execution_count": 36,
   "metadata": {},
   "outputs": [
    {
     "name": "stdout",
     "output_type": "stream",
     "text": [
      "<class 'bs4.element.Tag'>\n"
     ]
    }
   ],
   "source": [
    "print(type(first_row))"
   ]
  },
  {
   "cell_type": "markdown",
   "metadata": {},
   "source": [
    "we can obtain the child\n"
   ]
  },
  {
   "cell_type": "code",
   "execution_count": 37,
   "metadata": {},
   "outputs": [
    {
     "data": {
      "text/plain": [
       "<td id=\"flight\">Flight No</td>"
      ]
     },
     "execution_count": 37,
     "metadata": {},
     "output_type": "execute_result"
    }
   ],
   "source": [
    "first_row.td"
   ]
  },
  {
   "cell_type": "markdown",
   "metadata": {},
   "source": [
    "If we iterate through the list, each element corresponds to a row in the table:\n"
   ]
  },
  {
   "cell_type": "code",
   "execution_count": 38,
   "metadata": {},
   "outputs": [
    {
     "name": "stdout",
     "output_type": "stream",
     "text": [
      "row 0 is <tr><td id=\"flight\">Flight No</td><td>Launch site</td> <td>Payload mass</td></tr>\n",
      "row 1 is <tr> <td>1</td><td><a href=\"https://en.wikipedia.org/wiki/Florida\">Florida<a></a></a></td><td>300 kg</td></tr>\n",
      "row 2 is <tr><td>2</td><td><a href=\"https://en.wikipedia.org/wiki/Texas\">Texas</a></td><td>94 kg</td></tr>\n",
      "row 3 is <tr><td>3</td><td><a href=\"https://en.wikipedia.org/wiki/Florida\">Florida<a> </a></a></td><td>80 kg</td></tr>\n"
     ]
    }
   ],
   "source": [
    "for i,row in enumerate(table_rows):\n",
    "    print(\"row\",i,\"is\",row)\n",
    "    "
   ]
  },
  {
   "cell_type": "markdown",
   "metadata": {},
   "source": [
    "As <code>row</code> is a <code>cell</code> object, we can apply the method <code>find_all</code> to it and extract table cells in the object <code>cells</code> using the tag <code>td</code>, this is all the children with the name <code>td</code>. The result is a list, each element corresponds to a cell and is a <code>Tag</code> object, we can iterate through this list as well. We can extract the content using the <code>string</code>  attribute.\n"
   ]
  },
  {
   "cell_type": "code",
   "execution_count": 39,
   "metadata": {},
   "outputs": [
    {
     "name": "stdout",
     "output_type": "stream",
     "text": [
      "row 0\n",
      "colunm 0 cell <td id=\"flight\">Flight No</td>\n",
      "colunm 1 cell <td>Launch site</td>\n",
      "colunm 2 cell <td>Payload mass</td>\n",
      "row 1\n",
      "colunm 0 cell <td>1</td>\n",
      "colunm 1 cell <td><a href=\"https://en.wikipedia.org/wiki/Florida\">Florida<a></a></a></td>\n",
      "colunm 2 cell <td>300 kg</td>\n",
      "row 2\n",
      "colunm 0 cell <td>2</td>\n",
      "colunm 1 cell <td><a href=\"https://en.wikipedia.org/wiki/Texas\">Texas</a></td>\n",
      "colunm 2 cell <td>94 kg</td>\n",
      "row 3\n",
      "colunm 0 cell <td>3</td>\n",
      "colunm 1 cell <td><a href=\"https://en.wikipedia.org/wiki/Florida\">Florida<a> </a></a></td>\n",
      "colunm 2 cell <td>80 kg</td>\n"
     ]
    }
   ],
   "source": [
    "for i,row in enumerate(table_rows):\n",
    "    print(\"row\",i)\n",
    "    cells=row.find_all('td')\n",
    "    for j,cell in enumerate(cells):\n",
    "        print('colunm',j,\"cell\",cell)"
   ]
  },
  {
   "cell_type": "markdown",
   "metadata": {},
   "source": [
    "If we use a list we can match against any item in that list.\n"
   ]
  },
  {
   "cell_type": "code",
   "execution_count": 40,
   "metadata": {},
   "outputs": [
    {
     "data": {
      "text/plain": [
       "[<tr><td id=\"flight\">Flight No</td><td>Launch site</td> <td>Payload mass</td></tr>,\n",
       " <td id=\"flight\">Flight No</td>,\n",
       " <td>Launch site</td>,\n",
       " <td>Payload mass</td>,\n",
       " <tr> <td>1</td><td><a href=\"https://en.wikipedia.org/wiki/Florida\">Florida<a></a></a></td><td>300 kg</td></tr>,\n",
       " <td>1</td>,\n",
       " <td><a href=\"https://en.wikipedia.org/wiki/Florida\">Florida<a></a></a></td>,\n",
       " <td>300 kg</td>,\n",
       " <tr><td>2</td><td><a href=\"https://en.wikipedia.org/wiki/Texas\">Texas</a></td><td>94 kg</td></tr>,\n",
       " <td>2</td>,\n",
       " <td><a href=\"https://en.wikipedia.org/wiki/Texas\">Texas</a></td>,\n",
       " <td>94 kg</td>,\n",
       " <tr><td>3</td><td><a href=\"https://en.wikipedia.org/wiki/Florida\">Florida<a> </a></a></td><td>80 kg</td></tr>,\n",
       " <td>3</td>,\n",
       " <td><a href=\"https://en.wikipedia.org/wiki/Florida\">Florida<a> </a></a></td>,\n",
       " <td>80 kg</td>]"
      ]
     },
     "execution_count": 40,
     "metadata": {},
     "output_type": "execute_result"
    }
   ],
   "source": [
    "list_input=table_bs .find_all(name=[\"tr\", \"td\"])\n",
    "list_input"
   ]
  },
  {
   "cell_type": "markdown",
   "metadata": {},
   "source": [
    "## Attributes\n"
   ]
  },
  {
   "cell_type": "markdown",
   "metadata": {},
   "source": [
    "If the argument is not recognized it will be turned into a filter on the tag’s attributes. For example the <code>id</code>  argument, Beautiful Soup will filter against each tag’s <code>id</code> attribute. For example, the first <code>td</code> elements have a value of <code>id</code> of <code>flight</code>, therefore we can filter based on that <code>id</code> value.\n"
   ]
  },
  {
   "cell_type": "code",
   "execution_count": 41,
   "metadata": {},
   "outputs": [
    {
     "data": {
      "text/plain": [
       "[<td id=\"flight\">Flight No</td>]"
      ]
     },
     "execution_count": 41,
     "metadata": {},
     "output_type": "execute_result"
    }
   ],
   "source": [
    "table_bs.find_all(id=\"flight\")"
   ]
  },
  {
   "cell_type": "markdown",
   "metadata": {},
   "source": [
    "We can find all the elements that have links to the Florida Wikipedia page:\n"
   ]
  },
  {
   "cell_type": "code",
   "execution_count": 42,
   "metadata": {},
   "outputs": [
    {
     "data": {
      "text/plain": [
       "[<a href=\"https://en.wikipedia.org/wiki/Florida\">Florida<a></a></a>,\n",
       " <a href=\"https://en.wikipedia.org/wiki/Florida\">Florida<a> </a></a>]"
      ]
     },
     "execution_count": 42,
     "metadata": {},
     "output_type": "execute_result"
    }
   ],
   "source": [
    "list_input=table_bs.find_all(href=\"https://en.wikipedia.org/wiki/Florida\")\n",
    "list_input"
   ]
  },
  {
   "cell_type": "markdown",
   "metadata": {},
   "source": [
    "If we set the  <code>href</code> attribute to True, regardless of what the value is, the code finds all tags with <code>href</code> value:\n"
   ]
  },
  {
   "cell_type": "code",
   "execution_count": 43,
   "metadata": {},
   "outputs": [
    {
     "data": {
      "text/plain": [
       "[<a href=\"https://en.wikipedia.org/wiki/Florida\">Florida<a></a></a>,\n",
       " <a href=\"https://en.wikipedia.org/wiki/Texas\">Texas</a>,\n",
       " <a href=\"https://en.wikipedia.org/wiki/Florida\">Florida<a> </a></a>]"
      ]
     },
     "execution_count": 43,
     "metadata": {},
     "output_type": "execute_result"
    }
   ],
   "source": [
    "table_bs.find_all(href=True)"
   ]
  },
  {
   "cell_type": "markdown",
   "metadata": {},
   "source": [
    "There are other methods for dealing with attributes and other related methods; Check out the following <a href='https://www.crummy.com/software/BeautifulSoup/bs4/doc/?utm_medium=Exinfluencer&utm_source=Exinfluencer&utm_content=000026UJ&utm_term=10006555&utm_id=NA-SkillsNetwork-Channel-SkillsNetworkCoursesIBMDeveloperSkillsNetworkPY0220ENSkillsNetwork23455606-2021-01-01#css-selectors'>link</a>\n"
   ]
  },
  {
   "cell_type": "markdown",
   "metadata": {},
   "source": [
    "<h3 id=\"exer_type\">Exercise: <code>find_all</code></h3>\n"
   ]
  },
  {
   "cell_type": "markdown",
   "metadata": {},
   "source": [
    "Using the logic above, find all the elements without <code>href</code> value\n"
   ]
  },
  {
   "cell_type": "code",
   "execution_count": 45,
   "metadata": {},
   "outputs": [
    {
     "data": {
      "text/plain": [
       "[<table><tr><td id=\"flight\">Flight No</td><td>Launch site</td> <td>Payload mass</td></tr><tr> <td>1</td><td><a href=\"https://en.wikipedia.org/wiki/Florida\">Florida<a></a></a></td><td>300 kg</td></tr><tr><td>2</td><td><a href=\"https://en.wikipedia.org/wiki/Texas\">Texas</a></td><td>94 kg</td></tr><tr><td>3</td><td><a href=\"https://en.wikipedia.org/wiki/Florida\">Florida<a> </a></a></td><td>80 kg</td></tr></table>,\n",
       " <tr><td id=\"flight\">Flight No</td><td>Launch site</td> <td>Payload mass</td></tr>,\n",
       " <td id=\"flight\">Flight No</td>,\n",
       " <td>Launch site</td>,\n",
       " <td>Payload mass</td>,\n",
       " <tr> <td>1</td><td><a href=\"https://en.wikipedia.org/wiki/Florida\">Florida<a></a></a></td><td>300 kg</td></tr>,\n",
       " <td>1</td>,\n",
       " <td><a href=\"https://en.wikipedia.org/wiki/Florida\">Florida<a></a></a></td>,\n",
       " <a></a>,\n",
       " <td>300 kg</td>,\n",
       " <tr><td>2</td><td><a href=\"https://en.wikipedia.org/wiki/Texas\">Texas</a></td><td>94 kg</td></tr>,\n",
       " <td>2</td>,\n",
       " <td><a href=\"https://en.wikipedia.org/wiki/Texas\">Texas</a></td>,\n",
       " <td>94 kg</td>,\n",
       " <tr><td>3</td><td><a href=\"https://en.wikipedia.org/wiki/Florida\">Florida<a> </a></a></td><td>80 kg</td></tr>,\n",
       " <td>3</td>,\n",
       " <td><a href=\"https://en.wikipedia.org/wiki/Florida\">Florida<a> </a></a></td>,\n",
       " <a> </a>,\n",
       " <td>80 kg</td>]"
      ]
     },
     "execution_count": 45,
     "metadata": {},
     "output_type": "execute_result"
    }
   ],
   "source": [
    "table_bs.find_all(href=False)"
   ]
  },
  {
   "cell_type": "markdown",
   "metadata": {},
   "source": [
    "<details><summary>Click here for the solution</summary>\n",
    "\n",
    "```\n",
    "table_bs.find_all(href=False)\n",
    "\n",
    "```\n",
    "\n",
    "</details>\n"
   ]
  },
  {
   "cell_type": "markdown",
   "metadata": {},
   "source": [
    "Using the soup object <code>soup</code>, find the element with the <code>id</code> attribute content set to <code>\"boldest\"</code>.\n"
   ]
  },
  {
   "cell_type": "code",
   "execution_count": 46,
   "metadata": {},
   "outputs": [
    {
     "data": {
      "text/plain": [
       "[<b id=\"boldest\">Lebron James</b>]"
      ]
     },
     "execution_count": 46,
     "metadata": {},
     "output_type": "execute_result"
    }
   ],
   "source": [
    "soup.find_all(id=\"boldest\")"
   ]
  },
  {
   "cell_type": "markdown",
   "metadata": {},
   "source": [
    "<details><summary>Click here for the solution</summary>\n",
    "\n",
    "```\n",
    "soup.find_all(id=\"boldest\")\n",
    "\n",
    "```\n",
    "\n",
    "</details>\n"
   ]
  },
  {
   "cell_type": "markdown",
   "metadata": {},
   "source": [
    "### string\n"
   ]
  },
  {
   "cell_type": "markdown",
   "metadata": {},
   "source": [
    "With string you can search for strings instead of tags, where we find all the elments with Florida:\n"
   ]
  },
  {
   "cell_type": "code",
   "execution_count": 47,
   "metadata": {},
   "outputs": [
    {
     "data": {
      "text/plain": [
       "['Florida', 'Florida']"
      ]
     },
     "execution_count": 47,
     "metadata": {},
     "output_type": "execute_result"
    }
   ],
   "source": [
    "table_bs.find_all(string=\"Florida\")"
   ]
  },
  {
   "cell_type": "markdown",
   "metadata": {},
   "source": [
    "## find\n"
   ]
  },
  {
   "cell_type": "markdown",
   "metadata": {},
   "source": [
    "The <code>find_all()</code> method scans the entire document looking for results, it’s if you are looking for one element you can use the <code>find()</code> method to find the first element in the document. Consider the following two table:\n"
   ]
  },
  {
   "cell_type": "code",
   "execution_count": 35,
   "metadata": {},
   "outputs": [
    {
     "data": {
      "text/html": [
       "<h3>Rocket Launch </h3>\n",
       "\n",
       "<p>\n",
       "<table class='rocket'>\n",
       "  <tr>\n",
       "    <td>Flight No</td>\n",
       "    <td>Launch site</td> \n",
       "    <td>Payload mass</td>\n",
       "  </tr>\n",
       "  <tr>\n",
       "    <td>1</td>\n",
       "    <td>Florida</td>\n",
       "    <td>300 kg</td>\n",
       "  </tr>\n",
       "  <tr>\n",
       "    <td>2</td>\n",
       "    <td>Texas</td>\n",
       "    <td>94 kg</td>\n",
       "  </tr>\n",
       "  <tr>\n",
       "    <td>3</td>\n",
       "    <td>Florida </td>\n",
       "    <td>80 kg</td>\n",
       "  </tr>\n",
       "</table>\n",
       "</p>\n",
       "<p>\n",
       "\n",
       "<h3>Pizza Party  </h3>\n",
       "  \n",
       "    \n",
       "<table class='pizza'>\n",
       "  <tr>\n",
       "    <td>Pizza Place</td>\n",
       "    <td>Orders</td> \n",
       "    <td>Slices </td>\n",
       "   </tr>\n",
       "  <tr>\n",
       "    <td>Domino's Pizza</td>\n",
       "    <td>10</td>\n",
       "    <td>100</td>\n",
       "  </tr>\n",
       "  <tr>\n",
       "    <td>Little Caesars</td>\n",
       "    <td>12</td>\n",
       "    <td >144 </td>\n",
       "  </tr>\n",
       "  <tr>\n",
       "    <td>Papa John's </td>\n",
       "    <td>15 </td>\n",
       "    <td>165</td>\n",
       "  </tr>\n"
      ],
      "text/plain": [
       "<IPython.core.display.HTML object>"
      ]
     },
     "metadata": {},
     "output_type": "display_data"
    }
   ],
   "source": [
    "%%html\n",
    "<h3>Rocket Launch </h3>\n",
    "\n",
    "<p>\n",
    "<table class='rocket'>\n",
    "  <tr>\n",
    "    <td>Flight No</td>\n",
    "    <td>Launch site</td> \n",
    "    <td>Payload mass</td>\n",
    "  </tr>\n",
    "  <tr>\n",
    "    <td>1</td>\n",
    "    <td>Florida</td>\n",
    "    <td>300 kg</td>\n",
    "  </tr>\n",
    "  <tr>\n",
    "    <td>2</td>\n",
    "    <td>Texas</td>\n",
    "    <td>94 kg</td>\n",
    "  </tr>\n",
    "  <tr>\n",
    "    <td>3</td>\n",
    "    <td>Florida </td>\n",
    "    <td>80 kg</td>\n",
    "  </tr>\n",
    "</table>\n",
    "</p>\n",
    "<p>\n",
    "\n",
    "<h3>Pizza Party  </h3>\n",
    "  \n",
    "    \n",
    "<table class='pizza'>\n",
    "  <tr>\n",
    "    <td>Pizza Place</td>\n",
    "    <td>Orders</td> \n",
    "    <td>Slices </td>\n",
    "   </tr>\n",
    "  <tr>\n",
    "    <td>Domino's Pizza</td>\n",
    "    <td>10</td>\n",
    "    <td>100</td>\n",
    "  </tr>\n",
    "  <tr>\n",
    "    <td>Little Caesars</td>\n",
    "    <td>12</td>\n",
    "    <td >144 </td>\n",
    "  </tr>\n",
    "  <tr>\n",
    "    <td>Papa John's </td>\n",
    "    <td>15 </td>\n",
    "    <td>165</td>\n",
    "  </tr>\n"
   ]
  },
  {
   "cell_type": "markdown",
   "metadata": {},
   "source": [
    "We store the HTML as a Python string and assign <code>two_tables</code>:\n"
   ]
  },
  {
   "cell_type": "code",
   "execution_count": 48,
   "metadata": {},
   "outputs": [],
   "source": [
    "two_tables=\"<h3>Rocket Launch </h3><p><table class='rocket'><tr><td>Flight No</td><td>Launch site</td> <td>Payload mass</td></tr><tr><td>1</td><td>Florida</td><td>300 kg</td></tr><tr><td>2</td><td>Texas</td><td>94 kg</td></tr><tr><td>3</td><td>Florida </td><td>80 kg</td></tr></table></p><p><h3>Pizza Party  </h3><table class='pizza'><tr><td>Pizza Place</td><td>Orders</td> <td>Slices </td></tr><tr><td>Domino's Pizza</td><td>10</td><td>100</td></tr><tr><td>Little Caesars</td><td>12</td><td >144 </td></tr><tr><td>Papa John's </td><td>15 </td><td>165</td></tr>\""
   ]
  },
  {
   "cell_type": "markdown",
   "metadata": {},
   "source": [
    "We create a <code>BeautifulSoup</code> object  <code>two_tables_bs</code>\n"
   ]
  },
  {
   "cell_type": "code",
   "execution_count": 49,
   "metadata": {},
   "outputs": [],
   "source": [
    "two_tables_bs= BeautifulSoup(two_tables, 'html.parser')"
   ]
  },
  {
   "cell_type": "markdown",
   "metadata": {},
   "source": [
    "We can find the first table using the tag name table\n"
   ]
  },
  {
   "cell_type": "code",
   "execution_count": 50,
   "metadata": {},
   "outputs": [
    {
     "data": {
      "text/plain": [
       "<table class=\"rocket\"><tr><td>Flight No</td><td>Launch site</td> <td>Payload mass</td></tr><tr><td>1</td><td>Florida</td><td>300 kg</td></tr><tr><td>2</td><td>Texas</td><td>94 kg</td></tr><tr><td>3</td><td>Florida </td><td>80 kg</td></tr></table>"
      ]
     },
     "execution_count": 50,
     "metadata": {},
     "output_type": "execute_result"
    }
   ],
   "source": [
    "two_tables_bs.find(\"table\")"
   ]
  },
  {
   "cell_type": "markdown",
   "metadata": {},
   "source": [
    "We can filter on the class attribute to find the second table, but because class is a keyword in Python, we add an underscore.\n"
   ]
  },
  {
   "cell_type": "code",
   "execution_count": 39,
   "metadata": {},
   "outputs": [
    {
     "data": {
      "text/plain": [
       "<table class=\"pizza\"><tr><td>Pizza Place</td><td>Orders</td> <td>Slices </td></tr><tr><td>Domino's Pizza</td><td>10</td><td>100</td></tr><tr><td>Little Caesars</td><td>12</td><td>144 </td></tr><tr><td>Papa John's </td><td>15 </td><td>165</td></tr></table>"
      ]
     },
     "execution_count": 39,
     "metadata": {},
     "output_type": "execute_result"
    }
   ],
   "source": [
    "two_tables_bs.find(\"table\",class_='pizza')"
   ]
  },
  {
   "cell_type": "markdown",
   "metadata": {},
   "source": [
    "<h2 id=\"DSCW\">Downloading And Scraping The Contents Of A Web Page</h2> \n"
   ]
  },
  {
   "cell_type": "markdown",
   "metadata": {},
   "source": [
    "We Download the contents of the web page:\n"
   ]
  },
  {
   "cell_type": "code",
   "execution_count": 51,
   "metadata": {},
   "outputs": [],
   "source": [
    "url = \"http://www.ibm.com\""
   ]
  },
  {
   "cell_type": "markdown",
   "metadata": {},
   "source": [
    "We use <code>get</code> to download the contents of the webpage in text format and store in a variable called <code>data</code>:\n"
   ]
  },
  {
   "cell_type": "code",
   "execution_count": 53,
   "metadata": {},
   "outputs": [
    {
     "data": {
      "text/plain": [
       "'<!DOCTYPE html><html lang=\"en-US\"><head><meta name=\"viewport\" content=\"width=device-width\"/><meta charSet=\"utf-8\"/><title>IBM - United States</title><link rel=\"canonical\" href=\"https://www.ibm.com/us-en\"/><meta name=\"robots\" content=\"index,follow\"/><meta name=\"description\" content=\"For more than a century IBM has been dedicated to every client&#x27;s success and to creating innovations that matter for the world\"/><meta name=\"keywords\" content=\"IBM\"/><meta http-equiv=\"X-UA-Compatible\" content=\"IE=Edge\"/><meta http-equiv=\"Cache-Control\" content=\"no-cache, no-store, must-revalidate\"/><meta http-equiv=\"Pragma\" content=\"no-cache\"/><meta http-equiv=\"Expires\" content=\"0\"/><link rel=\"icon\" href=\"//www.ibm.com/favicon.ico\"/><meta name=\"ibmdotcom.version.react\" content=\"^1.38.0\"/><meta name=\"ibmdotcom.version.styles\" content=\"^1.38.0\"/><meta name=\"ibmdotcom.build.time\" content=\"2022-12-12T14:07:46.370Z\"/><meta name=\"dcterms.date\" content=\"2015-10-01\"/><meta name=\"dcterms.rights\" content=\"Â© Copyright IBM Corp. 2020\"/><meta name=\"geo.country\" content=\"US\"/><script>digitalData={\"page\":{\"category\":{\"primaryCategory\":\"SB03\"},\"pageInfo\":{\"effectiveDate\":\"2022-06-02\",\"expiryDate\":\"2027-06-02\",\"language\":\"en-us\",\"publishDate\":\"2012-06-02\",\"publisher\":\"IBM Corporation\",\"version\":\"Carbon:IBM.com Library v1.32.0\",\"ibm\":{\"contentDelivery\":\"Hand coded\",\"contentProducer\":\"Lance Tappana\",\"country\":\"us\",\"industry\":\"ZZ\",\"owner\":\"Corporate Webmaster/New York/IBM\",\"siteID\":\"GLOBAL\",\"subject\":\"IBM000\",\"type\":\"CT052\",\"messaging\":{\"routing\":{\"focusArea\":\"Miscellaneous - Cross IBM\",\"languageCode\":\"en\",\"regionCode\":\"US\"},\"translation\":{\"languageCode\":\"en\",\"regionCode\":\"US\"}}},\"hotjar\":{\"enabled\":0}}}};</script><script>\\n            window.hj=window.hj||function(){(hj.q=hj.q||[]).push(arguments)};\\n            window.hj(\\'tagRecording\\', [\\'hjLoaded\\']);\\n            document.addEventListener(\\'onMegaMenuToggle\\', e => {\\n              if(e.target.getAttribute(\"data-title\") == \\'products-solutions\\') {\\n                window.hj(\\'trigger\\', \\'MM_products-solutions\\');\\n              }\\n              if(e.target.getAttribute(\"data-title\") == \\'services-consulting\\') {\\n                window.hj(\\'trigger\\', \\'MM_services-consulting\\');\\n              }\\n              if(e.target.getAttribute(\"data-title\") == \\'learn-support\\') {\\n                window.hj(\\'trigger\\', \\'MM_learn-support\\');\\n              }\\n              if(e.target.getAttribute(\"data-title\") == \\'explore-more\\') {\\n                window.hj(\\'trigger\\', \\'MM_explore-more\\');\\n              }\\n            });\\n\\n            </script><script type=\"module\" src=\"https://1.www.s81c.com/common/carbon-for-ibm-dotcom/tag/v2/alpha/masthead.min.js\"></script><script type=\"module\" src=\"https://1.www.s81c.com/common/carbon-for-ibm-dotcom/tag/v1/latest/footer.min.js\"></script><link rel=\"alternate\" hrefLang=\"en-us\" href=\"https://www.ibm.com/us-en\"/><link rel=\"alternate\" hrefLang=\"x-default\" href=\"https://www.ibm.com\"/><link rel=\"alternate\" hrefLang=\"en-af\" href=\"https://www.ibm.com/af-en\"/><link rel=\"alternate\" hrefLang=\"fr-dz\" href=\"https://www.ibm.com/dz-fr\"/><link rel=\"alternate\" hrefLang=\"pt-ao\" href=\"https://www.ibm.com/ao-pt\"/><link rel=\"alternate\" hrefLang=\"en-ai\" href=\"https://www.ibm.com/ai-en\"/><link rel=\"alternate\" hrefLang=\"en-ag\" href=\"https://www.ibm.com/ag-en\"/><link rel=\"alternate\" hrefLang=\"es-ar\" href=\"https://www.ibm.com/ar-es\"/><link rel=\"alternate\" hrefLang=\"en-aw\" href=\"https://www.ibm.com/aw-en\"/><link rel=\"alternate\" hrefLang=\"en-au\" href=\"https://www.ibm.com/au-en\"/><link rel=\"alternate\" hrefLang=\"de-at\" href=\"https://www.ibm.com/at-de\"/><link rel=\"alternate\" hrefLang=\"en-bs\" href=\"https://www.ibm.com/bs-en\"/><link rel=\"alternate\" hrefLang=\"en-bh\" href=\"https://www.ibm.com/bh-en\"/><link rel=\"alternate\" hrefLang=\"en-bd\" href=\"https://www.ibm.com/bd-en\"/><link rel=\"alternate\" hrefLang=\"en-bb\" href=\"https://www.ibm.com/bb-en\"/><link rel=\"alternate\" hrefLang=\"en-be\" href=\"https://www.ibm.com/be-en\"/><link rel=\"alternate\" hrefLang=\"en-bm\" href=\"https://www.ibm.com/bm-en\"/><link rel=\"alternate\" hrefLang=\"es-bo\" href=\"https://www.ibm.com/bo-es\"/><link rel=\"alternate\" hrefLang=\"en-bw\" href=\"https://www.ibm.com/bw-en\"/><link rel=\"alternate\" hrefLang=\"pt-br\" href=\"https://www.ibm.com/br-pt\"/><link rel=\"alternate\" hrefLang=\"en-vg\" href=\"https://www.ibm.com/vg-en\"/><link rel=\"alternate\" hrefLang=\"en-bn\" href=\"https://www.ibm.com/bn-en\"/><link rel=\"alternate\" hrefLang=\"en-bg\" href=\"https://www.ibm.com/bg-en\"/><link rel=\"alternate\" hrefLang=\"fr-bf\" href=\"https://www.ibm.com/bf-fr\"/><link rel=\"alternate\" hrefLang=\"en-kh\" href=\"https://www.ibm.com/kh-en\"/><link rel=\"alternate\" hrefLang=\"fr-cm\" href=\"https://www.ibm.com/cm-fr\"/><link rel=\"alternate\" hrefLang=\"en-ca\" href=\"https://www.ibm.com/ca-en\"/><link rel=\"alternate\" hrefLang=\"fr-ca\" href=\"https://www.ibm.com/ca-fr\"/><link rel=\"alternate\" hrefLang=\"en-ky\" href=\"https://www.ibm.com/ky-en\"/><link rel=\"alternate\" hrefLang=\"fr-td\" href=\"https://www.ibm.com/td-fr\"/><link rel=\"alternate\" hrefLang=\"es-cl\" href=\"https://www.ibm.com/cl-es\"/><link rel=\"alternate\" hrefLang=\"zh-cn\" href=\"https://www.ibm.com/cn-zh\"/><link rel=\"alternate\" hrefLang=\"es-co\" href=\"https://www.ibm.com/co-es\"/><link rel=\"alternate\" hrefLang=\"fr-cd\" href=\"https://www.ibm.com/cd-fr\"/><link rel=\"alternate\" hrefLang=\"fr-cg\" href=\"https://www.ibm.com/cg-fr\"/><link rel=\"alternate\" hrefLang=\"es-cr\" href=\"https://www.ibm.com/cr-es\"/><link rel=\"alternate\" hrefLang=\"en-hr\" href=\"https://www.ibm.com/hr-en\"/><link rel=\"alternate\" hrefLang=\"en-cw\" href=\"https://www.ibm.com/cw-en\"/><link rel=\"alternate\" hrefLang=\"en-cy\" href=\"https://www.ibm.com/cy-en\"/><link rel=\"alternate\" hrefLang=\"en-cz\" href=\"https://www.ibm.com/cz-en\"/><link rel=\"alternate\" hrefLang=\"en-dm\" href=\"https://www.ibm.com/dm-en\"/><link rel=\"alternate\" hrefLang=\"en-dk\" href=\"https://www.ibm.com/dk-en\"/><link rel=\"alternate\" hrefLang=\"es-ec\" href=\"https://www.ibm.com/ec-es\"/><link rel=\"alternate\" hrefLang=\"en-eg\" href=\"https://www.ibm.com/eg-en\"/><link rel=\"alternate\" hrefLang=\"en-ee\" href=\"https://www.ibm.com/ee-en\"/><link rel=\"alternate\" hrefLang=\"en-et\" href=\"https://www.ibm.com/et-en\"/><link rel=\"alternate\" hrefLang=\"en-fi\" href=\"https://www.ibm.com/fi-en\"/><link rel=\"alternate\" hrefLang=\"fr-fr\" href=\"https://www.ibm.com/fr-fr\"/><link rel=\"alternate\" hrefLang=\"fr-ga\" href=\"https://www.ibm.com/ga-fr\"/><link rel=\"alternate\" hrefLang=\"de-de\" href=\"https://www.ibm.com/de-de\"/><link rel=\"alternate\" hrefLang=\"en-gh\" href=\"https://www.ibm.com/gh-en\"/><link rel=\"alternate\" hrefLang=\"en-gr\" href=\"https://www.ibm.com/gr-en\"/><link rel=\"alternate\" hrefLang=\"en-gd\" href=\"https://www.ibm.com/gd-en\"/><link rel=\"alternate\" hrefLang=\"en-gy\" href=\"https://www.ibm.com/gy-en\"/><link rel=\"alternate\" hrefLang=\"en-hk\" href=\"https://www.ibm.com/hk-en\"/><link rel=\"alternate\" hrefLang=\"en-hu\" href=\"https://www.ibm.com/hu-en\"/><link rel=\"alternate\" hrefLang=\"en-in\" href=\"https://www.ibm.com/in-en\"/><link rel=\"alternate\" hrefLang=\"en-id\" href=\"https://www.ibm.com/id-en\"/><link rel=\"alternate\" hrefLang=\"en-iq\" href=\"https://www.ibm.com/iq-en\"/><link rel=\"alternate\" hrefLang=\"en-ie\" href=\"https://www.ibm.com/ie-en\"/><link rel=\"alternate\" hrefLang=\"en-il\" href=\"https://www.ibm.com/il-en\"/><link rel=\"alternate\" hrefLang=\"it-it\" href=\"https://www.ibm.com/it-it\"/><link rel=\"alternate\" hrefLang=\"fr-ci\" href=\"https://www.ibm.com/ci-fr\"/><link rel=\"alternate\" hrefLang=\"en-jm\" href=\"https://www.ibm.com/jm-en\"/><link rel=\"alternate\" hrefLang=\"ja-jp\" href=\"https://www.ibm.com/jp-ja\"/><link rel=\"alternate\" hrefLang=\"en-jo\" href=\"https://www.ibm.com/jo-en\"/><link rel=\"alternate\" hrefLang=\"en-kz\" href=\"https://www.ibm.com/kz-en\"/><link rel=\"alternate\" hrefLang=\"en-ke\" href=\"https://www.ibm.com/ke-en\"/><link rel=\"alternate\" hrefLang=\"ko-kr\" href=\"https://www.ibm.com/kr-ko\"/><link rel=\"alternate\" hrefLang=\"en-kw\" href=\"https://www.ibm.com/kw-en\"/><link rel=\"alternate\" hrefLang=\"en-lv\" href=\"https://www.ibm.com/lv-en\"/><link rel=\"alternate\" hrefLang=\"en-lb\" href=\"https://www.ibm.com/lb-en\"/><link rel=\"alternate\" hrefLang=\"en-ly\" href=\"https://www.ibm.com/ly-en\"/><link rel=\"alternate\" hrefLang=\"en-lt\" href=\"https://www.ibm.com/lt-en\"/><link rel=\"alternate\" hrefLang=\"en-mw\" href=\"https://www.ibm.com/mw-en\"/><link rel=\"alternate\" hrefLang=\"en-my\" href=\"https://www.ibm.com/my-en\"/><link rel=\"alternate\" hrefLang=\"fr-mu\" href=\"https://www.ibm.com/mu-fr\"/><link rel=\"alternate\" hrefLang=\"es-mx\" href=\"https://www.ibm.com/mx-es\"/><link rel=\"alternate\" hrefLang=\"en-ms\" href=\"https://www.ibm.com/ms-en\"/><link rel=\"alternate\" hrefLang=\"fr-ma\" href=\"https://www.ibm.com/ma-fr\"/><link rel=\"alternate\" hrefLang=\"pt-mz\" href=\"https://www.ibm.com/mz-pt\"/><link rel=\"alternate\" hrefLang=\"en-na\" href=\"https://www.ibm.com/na-en\"/><link rel=\"alternate\" hrefLang=\"en-np\" href=\"https://www.ibm.com/np-en\"/><link rel=\"alternate\" hrefLang=\"en-nl\" href=\"https://www.ibm.com/nl-en\"/><link rel=\"alternate\" hrefLang=\"en-nz\" href=\"https://www.ibm.com/nz-en\"/><link rel=\"alternate\" hrefLang=\"fr-ne\" href=\"https://www.ibm.com/ne-fr\"/><link rel=\"alternate\" hrefLang=\"en-ng\" href=\"https://www.ibm.com/ng-en\"/><link rel=\"alternate\" hrefLang=\"en-no\" href=\"https://www.ibm.com/no-en\"/><link rel=\"alternate\" hrefLang=\"en-om\" href=\"https://www.ibm.com/om-en\"/><link rel=\"alternate\" hrefLang=\"en-pk\" href=\"https://www.ibm.com/pk-en\"/><link rel=\"alternate\" hrefLang=\"es-py\" href=\"https://www.ibm.com/py-es\"/><link rel=\"alternate\" hrefLang=\"es-pe\" href=\"https://www.ibm.com/pe-es\"/><link rel=\"alternate\" hrefLang=\"en-ph\" href=\"https://www.ibm.com/ph-en\"/><link rel=\"alternate\" hrefLang=\"pl-pl\" href=\"https://www.ibm.com/pl-pl\"/><link rel=\"alternate\" hrefLang=\"en-pt\" href=\"https://www.ibm.com/pt-en\"/><link rel=\"alternate\" hrefLang=\"en-qa\" href=\"https://www.ibm.com/qa-en\"/><link rel=\"alternate\" hrefLang=\"en-ro\" href=\"https://www.ibm.com/ro-en\"/><link rel=\"alternate\" hrefLang=\"ru-ru\" href=\"https://www.ibm.com/ru-ru\"/><link rel=\"alternate\" hrefLang=\"en-kn\" href=\"https://www.ibm.com/kn-en\"/><link rel=\"alternate\" hrefLang=\"en-lc\" href=\"https://www.ibm.com/lc-en\"/><link rel=\"alternate\" hrefLang=\"en-vc\" href=\"https://www.ibm.com/vc-en\"/><link rel=\"alternate\" hrefLang=\"en-sa\" href=\"https://www.ibm.com/sa-en\"/><link rel=\"alternate\" hrefLang=\"fr-sn\" href=\"https://www.ibm.com/sn-fr\"/><link rel=\"alternate\" hrefLang=\"en-rs\" href=\"https://www.ibm.com/rs-en\"/><link rel=\"alternate\" hrefLang=\"fr-sc\" href=\"https://www.ibm.com/sc-fr\"/><link rel=\"alternate\" hrefLang=\"en-sl\" href=\"https://www.ibm.com/sl-en\"/><link rel=\"alternate\" hrefLang=\"en-sg\" href=\"https://www.ibm.com/sg-en\"/><link rel=\"alternate\" hrefLang=\"en-sk\" href=\"https://www.ibm.com/sk-en\"/><link rel=\"alternate\" hrefLang=\"en-si\" href=\"https://www.ibm.com/si-en\"/><link rel=\"alternate\" hrefLang=\"en-za\" href=\"https://www.ibm.com/za-en\"/><link rel=\"alternate\" hrefLang=\"es-es\" href=\"https://www.ibm.com/es-es\"/><link rel=\"alternate\" hrefLang=\"en-lk\" href=\"https://www.ibm.com/lk-en\"/><link rel=\"alternate\" hrefLang=\"en-sr\" href=\"https://www.ibm.com/sr-en\"/><link rel=\"alternate\" hrefLang=\"en-se\" href=\"https://www.ibm.com/se-en\"/><link rel=\"alternate\" hrefLang=\"fr-ch\" href=\"https://www.ibm.com/ch-fr\"/><link rel=\"alternate\" hrefLang=\"de-ch\" href=\"https://www.ibm.com/ch-de\"/><link rel=\"alternate\" hrefLang=\"zh-tw\" href=\"https://www.ibm.com/tw-zh\"/><link rel=\"alternate\" hrefLang=\"en-tz\" href=\"https://www.ibm.com/tz-en\"/><link rel=\"alternate\" hrefLang=\"en-th\" href=\"https://www.ibm.com/th-en\"/><link rel=\"alternate\" hrefLang=\"en-tt\" href=\"https://www.ibm.com/tt-en\"/><link rel=\"alternate\" hrefLang=\"fr-tn\" href=\"https://www.ibm.com/tn-fr\"/><link rel=\"alternate\" hrefLang=\"tr-tr\" href=\"https://www.ibm.com/tr-tr\"/><link rel=\"alternate\" hrefLang=\"en-ye\" href=\"https://www.ibm.com/ye-en\"/><link rel=\"alternate\" hrefLang=\"en-tc\" href=\"https://www.ibm.com/tc-en\"/><link rel=\"alternate\" hrefLang=\"en-ua\" href=\"https://www.ibm.com/ua-en\"/><link rel=\"alternate\" hrefLang=\"en-ug\" href=\"https://www.ibm.com/ug-en\"/><link rel=\"alternate\" hrefLang=\"en-ae\" href=\"https://www.ibm.com/ae-en\"/><link rel=\"alternate\" hrefLang=\"en-gb\" href=\"https://www.ibm.com/uk-en\"/><link rel=\"alternate\" hrefLang=\"es-uy\" href=\"https://www.ibm.com/uy-es\"/><link rel=\"alternate\" hrefLang=\"en-uz\" href=\"https://www.ibm.com/uz-en\"/><link rel=\"alternate\" hrefLang=\"es-ve\" href=\"https://www.ibm.com/ve-es\"/><link rel=\"alternate\" hrefLang=\"en-vn\" href=\"https://www.ibm.com/vn-en\"/><link rel=\"alternate\" hrefLang=\"en-zm\" href=\"https://www.ibm.com/zm-en\"/><link rel=\"alternate\" hrefLang=\"en-zw\" href=\"https://www.ibm.com/zw-en\"/><link rel=\"preload\" as=\"image\" href=\"https://1.dam.s81c.com/p/09e9905470a86c98/20221121-ls-call-for-code-27181-mobile-720x360.jpg\"/><meta name=\"next-head-count\" content=\"157\"/><link rel=\"preload\" href=\"/us-en/_next/static/css/styles.d2ea9155.chunk.css\" as=\"style\"/><link rel=\"stylesheet\" href=\"/us-en/_next/static/css/styles.d2ea9155.chunk.css\" data-n-g=\"\"/><noscript data-n-css=\"\"></noscript><link rel=\"preload\" href=\"/us-en/_next/static/chunks/webpack-147ea3ada7109f6dc0bb.js\" as=\"script\"/><link rel=\"preload\" href=\"/us-en/_next/static/chunks/framework.29ebe0f9dddb05cbba29.js\" as=\"script\"/><link rel=\"preload\" href=\"/us-en/_next/static/chunks/commons.e5f598b92e04294eff62.js\" as=\"script\"/><link rel=\"preload\" href=\"/us-en/_next/static/chunks/f6078781a05fe1bcb0902d23dbbb2662c8d200b3.d2f601340e1658353edc.js\" as=\"script\"/><link rel=\"preload\" href=\"/us-en/_next/static/chunks/main-d59f32872a3dad6be8fb.js\" as=\"script\"/><link rel=\"preload\" href=\"/us-en/_next/static/chunks/styles.e0f3c79fc81ba8df8a42.js\" as=\"script\"/><link rel=\"preload\" href=\"/us-en/_next/static/chunks/pages/_app-65bedc8ae529bedaed44.js\" as=\"script\"/><link rel=\"preload\" href=\"/us-en/_next/static/chunks/1c920f04.fa1b4eb05ce405a540a0.js\" as=\"script\"/><link rel=\"preload\" href=\"/us-en/_next/static/chunks/ebd65826.ee135565954bbb4a352c.js\" as=\"script\"/><link rel=\"preload\" href=\"/us-en/_next/static/chunks/8edc3fe5.83f0205920daad6e982e.js\" as=\"script\"/><link rel=\"preload\" href=\"/us-en/_next/static/chunks/fc20e1c4.ed4aef57e5c886d479ce.js\" as=\"script\"/><link rel=\"preload\" href=\"/us-en/_next/static/chunks/pages/index-656dad1d44509f104fec.js\" as=\"script\"/></head><body><div id=\"__next\"><div><div class=\"bx--dotcom-shell\"><main class=\"dds-ce-demo--ui-shell-content\"><div><dds-masthead-container\\n                      data-endpoint=\"/common/carbon-for-ibm-dotcom/translations/masthead-footer/v2\"\\n                      auth-method=\"profile-api\"\\n                      has-contact=\"false\">\\n                  </dds-masthead-container></div><div class=\"newsflash-placeholder\"></div><header aria-labelledby=\"ibm-leadspace-title\" style=\"background-color:f7f3f2\"><div id=\"ibm-cci_carbon-leadspace-head\" class=\" \" style=\"background-image:url(&#x27;https://1.dam.s81c.com/p/09e9905470a86c99/20221121-ls-call-for-code-27181-2304x983.jpg&#x27;);background-position:top right;background-size:cover;background-repeat:no-repeat;background-color:f7f3f2;position:relative\"><a href=\"https://developer.ibm.com/callforcode/solutions/2022-solutions/?lnk=ushpv18l1\" class=\"ibm-blocklink ibm-no-border\" id=\"ibm-homepage-ls-full-cta\"><div class=\"ibm_cci-grid-hidden-large ibm-hidden-xlarge ibm-pb-0 ibm__hp-mobile-image\"><div style=\"display:inline-block;max-width:100%;overflow:hidden;position:relative;box-sizing:border-box;margin:0\"><div style=\"box-sizing:border-box;display:block;max-width:100%\"><img style=\"max-width:100%;display:block;margin:0;border:none;padding:0\" alt=\"\" aria-hidden=\"true\" role=\"presentation\" src=\"data:image/svg+xml;base64,PHN2ZyB3aWR0aD0iMTA1NSIgaGVpZ2h0PSI1MjcuNSIgeG1sbnM9Imh0dHA6Ly93d3cudzMub3JnLzIwMDAvc3ZnIiB2ZXJzaW9uPSIxLjEiLz4=\"/></div><img alt=\"A woman harvests red peppers in a garden\" src=\"https://1.dam.s81c.com/p/09e9905470a86c98/20221121-ls-call-for-code-27181-mobile-720x360.jpg\" decoding=\"async\" class=\"ibm-resize\" style=\"position:absolute;top:0;left:0;bottom:0;right:0;box-sizing:border-box;padding:0;border:none;margin:auto;display:block;width:0;height:0;min-width:100%;max-width:100%;min-height:100%;max-height:100%\"/></div></div><div id=\"ibm-cci_carbon-leadspace-body\" class=\"bx--grid\"><div class=\"bx--row\"><div class=\"bx--col-sm-4 bx--col-md-8 bx--col-lg-8 bx--col-xlg-6 ibm-cci_leadspace-content ibm-pt-4 ibm-pb-4\"><h1 id=\"ibm-leadspace-title\" class=\"bx--type-display-01 ibm-cci_leadspace-content-title\">GardenMate vs.&nbsp;food waste</h1><div class=\"bx--col-sm-4 bx--col-lg-16 bx--col-xlg-12 bx--grid-col-seamless ibm_cci-flex-column-inner\"><p id=\"ibm-leadspace-copy\" class=\"bx--type-expressive-heading-03 ibm-mb-4 ibm-pb-0 ibm-textcolor-gray-80\">An app that connects people in need to gardeners with produce to spare topped worthy competitors in the 2022 Call for Code Global Challenge</p><div class=\"bx--buttongroup ibm-pt-0\"><button tabindex=\"-1\" class=\"bx--btn bx--btn--primary\" type=\"button\"><span>See the finalists and their projects</span></button></div></div></div></div></div></a></div></header><div id=\"main-content\" style=\"background-color:#FFF\"><div><div class=\"ibm-br--toc-section\"><section data-autoid=\"dds--tableofcontents\" class=\"bx--tableofcontents bx--tableofcontents--white\"><div class=\"dds-ce--table-of-contents__container\"><div class=\"bx--tableofcontents__sidebar\"><div class=\"bx--tableofcontents__mobile-top\"></div><div style=\"position:sticky;top:64px\"><div class=\"bx--tableofcontents__desktop\" data-autoid=\"dds--tableofcontents__desktop\"><ul></ul></div><div class=\"bx--tableofcontents__mobile\" data-autoid=\"dds--tableofcontents__mobile\"><div class=\"bx--tableofcontents__mobile__select__wrapper\"><select aria-label=\"Jump to\" class=\"bx--tableofcontents__mobile__select\"><option selected=\"\" class=\"bx--tableofcontents__mobile__select__option\" data-autoid=\"dds--tableofcontents__mobile__select__option-menuLabel\" value=\"menuLabel\" disabled=\"\" hidden=\"\">Jump to ...</option></select><svg focusable=\"false\" preserveAspectRatio=\"xMidYMid meet\" xmlns=\"http://www.w3.org/2000/svg\" fill=\"currentColor\" aria-label=\"menu icon\" width=\"20\" height=\"20\" viewBox=\"0 0 32 32\" role=\"img\" class=\"bx--tableofcontents__mobile__select__icon\"><path d=\"M4 6H22V8H4zM4 12H22V14H4zM4 18H22V20H4zM4 24H22V26H4zM26 6H28V8H26zM26 12H28V14H26zM26 18H28V20H26zM26 24H28V26H26z\"></path><title>menu icon</title></svg></div></div></div></div><div class=\"bx--tableofcontents__content\"><div class=\"bx--tableofcontents__content-wrapper\"><div class=\"ibm--br-intro-section ibm--fade\"><a name=\"welcome\"></a><h2 class=\"bx--type-expressive-heading-05 ibm-br--heading-05\">We discover, design and develop advanced <a class=\"ibm-br--link\" href=\"#ibm-hp--tech-section\">information technology</a>, and translate that into value for our clients through <a class=\"ibm-br--link\" href=\"https://www.ibm.com/consulting/?lnk=ushpv18intro2\">consulting services</a></h2><div class=\"bx--type-display-01 ibm-br--separator\"></div></div><div id=\"ibm-hp--inside-ibm-section\" class=\"ibm-br--inside-ibm ibm--fade\"><a name=\"inside-ibm\" data-title=\"Inside IBM\"></a><div class=\"ibm-br--inside-title\"><h3 class=\"bx--type-expressive-heading-05 ibm-br--heading-05\">Inside IBM</h3><p class=\"bx--type-expressive-heading-03 ibm-br--heading-03 ibm-mb-5\">Solutions, stories and thought leadership from across the company</p></div><div class=\"inside-ibm-cardgroup ibm-br--cardgroup\"><div data-autoid=\"dds--card-group\" class=\"bx--card-group__cards__row bx--row--condensed\" style=\"--dds--card-group--cards-in-row:2\"><div class=\"bx--card-group__cards__col\"><div class=\"bx--card-group__card\"><div class=\"bx--tile bx--card bx--card-link bx--card__CTA bx--card__CardCTA\" data-autoid=\"dds--card\" href=\"https://www.ibm.com/consulting/ibmix?lnk=ushpv18f1\"><div class=\"bx--image\" data-autoid=\"dds--image__longdescription\"><picture><img class=\"bx--image__img bx--card__img\" src=\"https://1.dam.s81c.com/p/0868c64e393cf933/2017_12_Slowell_Inside_IBM_Cloud_developers_242.jpg.global.s_4x3.jpg\" alt=\"Two co-workers talking at a desk\"/></picture></div><div class=\"bx--card__wrapper\"><div class=\"bx--card__content\"><h3 class=\"bx--card__heading\">IBM iX: design-led, data-driven</h3><div class=\"bx--card__copy\"><p>A human-centered approach helps IBM Consulting clients transform customer and employee experiences</p> </div><a class=\"bx--link bx--card__footer\" href=\"https://www.ibm.com/consulting/ibmix?lnk=ushpv18f1\" aria-label=\"IBM iX: design-led, data-driven\"><svg focusable=\"false\" preserveAspectRatio=\"xMidYMid meet\" xmlns=\"http://www.w3.org/2000/svg\" fill=\"currentColor\" src=\"[object Object]\" width=\"20\" height=\"20\" viewBox=\"0 0 20 20\" aria-hidden=\"true\" class=\"bx--card__cta\"><path d=\"M11.8 2.8L10.8 3.8 16.2 9.3 1 9.3 1 10.7 16.2 10.7 10.8 16.2 11.8 17.2 19 10z\"></path></svg></a></div></div></div></div></div><div class=\"bx--card-group__cards__col\"><div class=\"bx--card-group__card\"><div class=\"bx--tile bx--card bx--card-link bx--card__CTA bx--card__CardCTA\" data-autoid=\"dds--card\" href=\"https://www.ibm.com/security/resources/workshop?lnk=ushpv18f2\"><div class=\"bx--image\" data-autoid=\"dds--image__longdescription\"><picture><img class=\"bx--image__img bx--card__img\" src=\"https://1.dam.s81c.com/p/08a56f9ac246227c/20220801_26754_Countdown-to-Ransomware-guide-security-intelligence-444x333.jpg\" alt=\"Three IBM Security employees at a conference table interacting with a man at a whiteboard\"/></picture></div><div class=\"bx--card__wrapper\"><div class=\"bx--card__content\"><h3 class=\"bx--card__heading\">Is your business cybersafe?\\n</h3><div class=\"bx--card__copy\"><p>Work with senior security consultants to understand where you are and where you need to go in this free 3â\\x80\\x91hour workshop</p> </div><a class=\"bx--link bx--card__footer\" href=\"https://www.ibm.com/security/resources/workshop?lnk=ushpv18f2\" aria-label=\"Is your business cybersafe?\\n\"><svg focusable=\"false\" preserveAspectRatio=\"xMidYMid meet\" xmlns=\"http://www.w3.org/2000/svg\" fill=\"currentColor\" src=\"[object Object]\" width=\"20\" height=\"20\" viewBox=\"0 0 20 20\" aria-hidden=\"true\" class=\"bx--card__cta\"><path d=\"M11.8 2.8L10.8 3.8 16.2 9.3 1 9.3 1 10.7 16.2 10.7 10.8 16.2 11.8 17.2 19 10z\"></path></svg></a></div></div></div></div></div><div class=\"bx--card-group__cards__col\"><div class=\"bx--card-group__card\"><div class=\"bx--tile bx--card bx--card-link bx--card__CTA bx--card__CardCTA\" data-autoid=\"dds--card\" href=\"https://www.ibm.com/products/supply-chain-intelligence-suite/food-trust?lnk=ushpv18f3\"><div class=\"bx--image\" data-autoid=\"dds--image__longdescription\"><picture><img class=\"bx--image__img bx--card__img\" src=\"https://1.dam.s81c.com/p/04d38222a5bc17ff/84962edd-c289-4d32-ad92a178655984d5.jpg.global.s_4x3.jpg\" alt=\"Oranges on a factory assembly line\"/></picture></div><div class=\"bx--card__wrapper\"><div class=\"bx--card__content\"><h3 class=\"bx--card__heading\">A higher standard, farm to fork</h3><div class=\"bx--card__copy\"><p>IBM Food Trust ensures a safer food supply and simplifies compliance with the latest US FDA traceability rules</p> </div><a class=\"bx--link bx--card__footer\" href=\"https://www.ibm.com/products/supply-chain-intelligence-suite/food-trust?lnk=ushpv18f3\" aria-label=\"A higher standard, farm to fork\"><svg focusable=\"false\" preserveAspectRatio=\"xMidYMid meet\" xmlns=\"http://www.w3.org/2000/svg\" fill=\"currentColor\" src=\"[object Object]\" width=\"20\" height=\"20\" viewBox=\"0 0 20 20\" aria-hidden=\"true\" class=\"bx--card__cta\"><path d=\"M11.8 2.8L10.8 3.8 16.2 9.3 1 9.3 1 10.7 16.2 10.7 10.8 16.2 11.8 17.2 19 10z\"></path></svg></a></div></div></div></div></div><div class=\"bx--card-group__cards__col\"><div class=\"bx--card-group__card\"><div class=\"bx--tile bx--card bx--card-link bx--card__CTA bx--card__CardCTA\" data-autoid=\"dds--card\" href=\"https://www.ibm.com/subscribe/?lnk=ushpv18f4\"><div class=\"bx--image\" data-autoid=\"dds--image__longdescription\"><picture><img class=\"bx--image__img bx--card__img\" src=\"https://1.dam.s81c.com/p/08243aa34ebb7a36/2022_05_10_SpencerLowell_WorkingWorld_IBM_Brand_Library_285.jpg.global.s_4x3.jpg\" alt=\"Orion Crew Module solar panel mockup deployment test at NASA Glen Research Center in Sandusky, Ohio\"/></picture></div><div class=\"bx--card__wrapper\"><div class=\"bx--card__content\"><h3 class=\"bx--card__heading\">2022â\\x80\\x99s top thought leadership</h3><div class=\"bx--card__copy\"><p>Three year-in-review newsletters will highlight the impact of todayâ\\x80\\x99s technology on the future of business. Subscribe now.</p> </div><a class=\"bx--link bx--card__footer\" href=\"https://www.ibm.com/subscribe/?lnk=ushpv18f4\" aria-label=\"2022â\\x80\\x99s top thought leadership\"><svg focusable=\"false\" preserveAspectRatio=\"xMidYMid meet\" xmlns=\"http://www.w3.org/2000/svg\" fill=\"currentColor\" src=\"[object Object]\" width=\"20\" height=\"20\" viewBox=\"0 0 20 20\" aria-hidden=\"true\" class=\"bx--card__cta\"><path d=\"M11.8 2.8L10.8 3.8 16.2 9.3 1 9.3 1 10.7 16.2 10.7 10.8 16.2 11.8 17.2 19 10z\"></path></svg></a></div></div></div></div></div></div></div></div><div id=\"ibm-hp--research-section\" class=\"ibm-br--research-section ibm--fade\"><a name=\"research\" data-title=\"Research\"></a><div class=\"ibm-br--inside-title\"><h3 class=\"bx--type-expressive-heading-05 ibm-br--heading-05\">Research</h3><p class=\"bx--type-expressive-heading-03 ibm-br--heading-03 ibm-mb-5\">See whatâ\\x80\\x99s next in science and technology from the IBMÂ\\xa0labs</p></div><div class=\"ibm-br--research-featured\"><a href=\"https://research.ibm.com/blog/ibm-ai-edge-national-grid-monitoring?lnk=ushpv18r1\" tabindex=\"-1\"><div class=\"bx--image\" data-autoid=\"dds--image__longdescription\"><picture><img class=\"bx--image__img\" src=\"https://1.dam.s81c.com/p/0a23e41430abcb17/20221208-r1-spot-the-dog-robotics-offerings-27188-1600x900.jpg\" alt=\"composite image featuring Spot, the dog-like robot\"/></picture></div></a><div class=\"ibm-br--card-in-image\"><div class=\"bx--tile bx--card\" data-autoid=\"dds--card\"><div class=\"bx--card__wrapper\"><div class=\"bx--card__content\"><h3 class=\"bx--card__heading\">Will Spot the danger-detecting robot be your safety inspectorâ\\x80\\x99s best friend?</h3><a class=\"bx--link bx--card__footer bx--card__footer__copy\" href=\"https://research.ibm.com/blog/ibm-ai-edge-national-grid-monitoring?lnk=ushpv18r1\" aria-label=\"\"><span class=\"bx--card__cta__copy\"><svg focusable=\"false\" preserveAspectRatio=\"xMidYMid meet\" xmlns=\"http://www.w3.org/2000/svg\" fill=\"currentColor\" width=\"20\" height=\"20\" viewBox=\"0 0 20 20\" aria-hidden=\"true\"><path d=\"M11.8 2.8L10.8 3.8 16.2 9.3 1 9.3 1 10.7 16.2 10.7 10.8 16.2 11.8 17.2 19 10z\"></path></svg></span></a></div></div></div></div></div><div class=\"ibm-br--cardgroup ibm-research-cardgroup ibm-br--cardgroup-research ratio-16-9\"><div data-autoid=\"dds--card-group\" class=\"bx--card-group__cards__row bx--row--condensed\" style=\"--dds--card-group--cards-in-row:3\"><div class=\"bx--card-group__cards__col\"><div class=\"bx--card-group__card\"><div class=\"bx--tile bx--card bx--card-link bx--card__CTA bx--card__CardCTA\" data-autoid=\"dds--card\" href=\"https://research.ibm.com/blog/ibm-quantum-open-science-prize-2022?lnk=ushpv18r2\"><div class=\"bx--image\" data-autoid=\"dds--image__longdescription\"><picture><img class=\"bx--image__img bx--card__img\" src=\"https://1.dam.s81c.com/p/09f257ea96c87909/20221205-r1-quantum-open-science-prize-1600x900.png\" alt=\"Schematic illustration of the honeycomb-pattered Kagome lattice\"/></picture></div><div class=\"bx--card__wrapper\"><div class=\"bx--card__content\"><h3 class=\"bx--card__heading\">IBM Quantumâ\\x80\\x99s Open Science Prize seeks the best open source solutions to pressing problems</h3><a class=\"bx--link bx--card__footer\" href=\"https://research.ibm.com/blog/ibm-quantum-open-science-prize-2022?lnk=ushpv18r2\" aria-label=\"IBM Quantumâ\\x80\\x99s Open Science Prize seeks the best open source solutions to pressing problems\"><svg focusable=\"false\" preserveAspectRatio=\"xMidYMid meet\" xmlns=\"http://www.w3.org/2000/svg\" fill=\"currentColor\" src=\"[object Object]\" width=\"20\" height=\"20\" viewBox=\"0 0 20 20\" aria-hidden=\"true\" class=\"bx--card__cta\"><path d=\"M11.8 2.8L10.8 3.8 16.2 9.3 1 9.3 1 10.7 16.2 10.7 10.8 16.2 11.8 17.2 19 10z\"></path></svg></a></div></div></div></div></div><div class=\"bx--card-group__cards__col\"><div class=\"bx--card-group__card\"><div class=\"bx--tile bx--card bx--card-link bx--card__CTA bx--card__CardCTA\" data-autoid=\"dds--card\" href=\"https://research.ibm.com/blog/1nm-chips-vtfet-ruthenium?lnk=ushpv18r3\"><div class=\"bx--image\" data-autoid=\"dds--image__longdescription\"><picture><img class=\"bx--image__img bx--card__img\" src=\"https://1.dam.s81c.com/p/09e9905470286c48/20221205-r1-1nm-chips-ruthenium-27178-1600x900.jpg\" alt=\"Fingers holding a chip wafer with a computer chip closeup in an inset\"/></picture></div><div class=\"bx--card__wrapper\"><div class=\"bx--card__content\"><h3 class=\"bx--card__heading\">The 1-nanometer future: a metal called ruthenium will shrink the worldâ\\x80\\x99s smallest chip below 2nm</h3><a class=\"bx--link bx--card__footer\" href=\"https://research.ibm.com/blog/1nm-chips-vtfet-ruthenium?lnk=ushpv18r3\" aria-label=\"The 1-nanometer future: a metal called ruthenium will shrink the worldâ\\x80\\x99s smallest chip below 2nm\"><svg focusable=\"false\" preserveAspectRatio=\"xMidYMid meet\" xmlns=\"http://www.w3.org/2000/svg\" fill=\"currentColor\" src=\"[object Object]\" width=\"20\" height=\"20\" viewBox=\"0 0 20 20\" aria-hidden=\"true\" class=\"bx--card__cta\"><path d=\"M11.8 2.8L10.8 3.8 16.2 9.3 1 9.3 1 10.7 16.2 10.7 10.8 16.2 11.8 17.2 19 10z\"></path></svg></a></div></div></div></div></div><div class=\"bx--card-group__cards__col\"><div class=\"bx--card-group__card\"><div class=\"bx--tile bx--card bx--card-link bx--card__CTA bx--card__CardCTA\" data-autoid=\"dds--card\" href=\"https://research.ibm.com/blog/ibm-pytorch-cloud-ai-ethernet?lnk=ushpv18r4\"><div class=\"bx--image\" data-autoid=\"dds--image__longdescription\"><picture><img class=\"bx--image__img bx--card__img\" src=\"https://1.dam.s81c.com/p/09e98ff48ebdd003/20221128-r-pytorch-foundational-models-27155-800x450.png\" alt=\"intersecting groups of lines representing networking\"/></picture></div><div class=\"bx--card__wrapper\"><div class=\"bx--card__content\"><h3 class=\"bx--card__heading\">Train large AI models using standard Ethernet networking on Red Hat OpenShift, on any cloud\\n</h3><a class=\"bx--link bx--card__footer\" href=\"https://research.ibm.com/blog/ibm-pytorch-cloud-ai-ethernet?lnk=ushpv18r4\" aria-label=\"Train large AI models using standard Ethernet networking on Red Hat OpenShift, on any cloud\\n\"><svg focusable=\"false\" preserveAspectRatio=\"xMidYMid meet\" xmlns=\"http://www.w3.org/2000/svg\" fill=\"currentColor\" src=\"[object Object]\" width=\"20\" height=\"20\" viewBox=\"0 0 20 20\" aria-hidden=\"true\" class=\"bx--card__cta\"><path d=\"M11.8 2.8L10.8 3.8 16.2 9.3 1 9.3 1 10.7 16.2 10.7 10.8 16.2 11.8 17.2 19 10z\"></path></svg></a></div></div></div></div></div></div></div></div><div id=\"ibm-hp--makers-section\" class=\"ibm-br--creativity ibm--fade ibm-pb-6\"><a name=\"creativity-at-work\" data-title=\"Creativity at work\"></a><div class=\"ibm-br--creativity-title\"><h3 class=\"bx--type-expressive-heading-05 ibm-br--heading-05\">Creativity at work</h3><p class=\"bx--type-expressive-heading-03 ibm-br--heading-03 ibm-pb-3\">IBM clients, partners and other creators are putting our technology to work in the real world â\\x80\\x94 with real results</p><a href=\"https://www.ibm.com/case-studies/search?lnk=ushpv18mAll\" class=\"ibm-br--link ibm-mb-7\">See all case studies</a></div><div class=\"slick-slider slick-initialized\" dir=\"ltr\"><div class=\"slick-list\"><div class=\"slick-track\" style=\"width:300%;left:0%\"><div data-index=\"0\" class=\"slick-slide slick-active slick-current\" tabindex=\"-1\" aria-hidden=\"false\" style=\"outline:none;width:33.333333333333336%\"><div><div class=\"ibm-br--creativity-slide\" tabindex=\"-1\" style=\"width:100%;display:inline-block\"><a href=\"https://www.ibm.com/case-studies/ibm-gre?lnk=ushpv18m1\" class=\"ibm-br--creativity-item ibm-mb-6\"><div class=\"ibm-br--creativity-img\"><div class=\"bx--image\" data-autoid=\"dds--image__longdescription\"><picture><source media=\"(min-width: 320px)\" srcSet=\"https://1.dam.s81c.com/p/09e9905470a86c9a/20221212-m-gre-envizi-27171-1600x900.jpg\"/><img class=\"bx--image__img\" src=\"https://1.dam.s81c.com/p/09e9905470a86c9a/20221212-m-gre-envizi-27171-1600x900.jpg\" alt=\"A Black professional in an office building overlooking green landscape\"/></picture></div></div><div class=\"ibm-br--creativity-content\"><h4 class=\"bx--type-expressive-heading-03 ibm-br--heading-03\">Sustainability insights make facilities work more efficiently</h4><p class=\"\">IBM Global Real Estate needed a greener way to manage more than 50 million square feet of space worldwide</p><span class=\"ibm-br--link\">See how data provided by the Envizi ESG Suite helped IBM reduced carbon emissions by 62%</span></div><div class=\"ibm-br--creativity-nav\"></div></a></div></div></div><div data-index=\"1\" class=\"slick-slide\" tabindex=\"-1\" aria-hidden=\"true\" style=\"outline:none;width:33.333333333333336%\"><div><div class=\"ibm-br--creativity-slide\" tabindex=\"-1\" style=\"width:100%;display:inline-block\"><a href=\"https://www.ibm.com/case-studies/downer?lnk=ushpv18m2\" class=\"ibm-br--creativity-item ibm-mb-6\"><div class=\"ibm-br--creativity-img\"><div class=\"bx--image\" data-autoid=\"dds--image__longdescription\"><picture><source media=\"(min-width: 320px)\" srcSet=\"https://1.dam.s81c.com/p/09f257ea96c8790a/20221205-m-downer-group-27163-1600x900.jpg\"/><img class=\"bx--image__img\" src=\"https://1.dam.s81c.com/p/09f257ea96c8790a/20221205-m-downer-group-27163-1600x900.jpg\" alt=\"Young woman looking out a train window at the landscape passing by\"/></picture></div></div><div class=\"ibm-br--creativity-content\"><h4 class=\"bx--type-expressive-heading-03 ibm-br--heading-03\">For predictable trains, we need predictive maintenance</h4><p class=\"\">When Australia moved to outsource operation of its railroad system, the Downer Group needed a way to handle a huge new workload</p><span class=\"ibm-br--link\">Working with IBM Consulting, they created TrainDNA and increased reliability by 51%</span></div><div class=\"ibm-br--creativity-nav\"></div></a></div></div></div><div data-index=\"2\" class=\"slick-slide\" tabindex=\"-1\" aria-hidden=\"true\" style=\"outline:none;width:33.333333333333336%\"><div><div class=\"ibm-br--creativity-slide\" tabindex=\"-1\" style=\"width:100%;display:inline-block\"><a href=\"https://www.ibm.com/case-studies/new-jersey-department-of-community-affairs/?lnk=ushpv18m3\" class=\"ibm-br--creativity-item ibm-mb-6\"><div class=\"ibm-br--creativity-img\"><div class=\"bx--image\" data-autoid=\"dds--image__longdescription\"><picture><source media=\"(min-width: 320px)\" srcSet=\"https://1.dam.s81c.com/p/09e98ff48ebdd004/20221128-m-new-jersey-department-of-community-affairs-27154-1600x900.jpg\"/><img class=\"bx--image__img\" src=\"https://1.dam.s81c.com/p/09e98ff48ebdd004/20221128-m-new-jersey-department-of-community-affairs-27154-1600x900.jpg\" alt=\"Winter view of suburban houses through frost on a window\"/></picture></div></div><div class=\"ibm-br--creativity-content\"><h4 class=\"bx--type-expressive-heading-03 ibm-br--heading-03\">New Jersey keeps the heat and lights on for those in need</h4><p class=\"\">The pandemic caused many low-income residents to fall behind on their utility bills, putting their home heating at risk</p><span class=\"ibm-br--link\">IBM Consulting designed a portal that handles 6,200 calls a month, fast-tracking $127M in relief</span></div><div class=\"ibm-br--creativity-nav\"></div></a></div></div></div></div></div><ul style=\"display:block\" class=\"slick-dots\"><li class=\"slick-active\"><button>1</button></li><li class=\"\"><button>2</button></li><li class=\"\"><button>3</button></li></ul></div></div><div class=\"ibm-br--trials ibm-pt-6 ibm-pb-4 ibm--fade\"><a name=\"trials\" data-title=\"Trials and offers\"></a><div class=\"ibm-br--trials-sidebar\"><h3 class=\"bx--type-expressive-heading-05 ibm-br--heading-05 ibm-mb-2\">Product trials and offers</h3><p class=\"bx--type-expressive-heading-03 ibm-br--heading-03\">Explore free trials for IBM Software and see what we can do together</p><a href=\"https://www.ibm.com/products?types[0]=trial&amp;lnk=STW_US_MPDISC_BNR_BTN&amp;lnk2=THP&amp;lnk3=ushpv18tAll\" class=\"ibm-br--link ibm-pt-3 ibm-pb-3\">See all trials</a><a href=\"https://www.ibm.com/products/offers-and-discounts?link=ushpv18t5&amp;lnk2=trial_mktpl_MPDISC\" class=\"ibm-br--link\">See current deals</a></div><div class=\"bx--row ibm-br--trials-row\"><div class=\"bx--col-sm-4 bx--col-md-8 bx--col-lg-16\"><div class=\"ibm-br--cardgroup ibm-br--cardgroup-trials ratio-16-9\"><div data-autoid=\"dds--card-group\" class=\"bx--card-group__cards__row bx--row--condensed\" style=\"--dds--card-group--cards-in-row:3\"><div class=\"bx--card-group__cards__col\"><div class=\"bx--card-group__card\"><div class=\"bx--tile bx--card bx--card-link bx--card__CTA bx--card__CardCTA\" data-autoid=\"dds--card\" href=\"https://www.ibm.com/products/watson-assistant?lnk=ushpv18t1&amp;lnk2=trial_WatAssist&amp;psrc=none&amp;pexp=def\"><div class=\"bx--image\" data-autoid=\"dds--image__longdescription\"><picture><img class=\"bx--image__img bx--card__img\" src=\"https://1.dam.s81c.com/public/content/dam/worldwide-content/homepage/ul/g/ee/15/20220216-t-ibm-watson-assistant.png\" alt=\"The Watson Assistant interface with text boxes and a simulated chatbot\"/></picture></div><div class=\"bx--card__wrapper\"><div class=\"bx--card__content\"><h3 class=\"bx--card__heading\">IBM Watson Assistant</h3><div class=\"bx--card__copy\"><p>Help customers get stuff done quickly, easily, on any channel. Ask for a demo.</p> </div><a class=\"bx--link bx--card__footer\" href=\"https://www.ibm.com/products/watson-assistant?lnk=ushpv18t1&amp;lnk2=trial_WatAssist&amp;psrc=none&amp;pexp=def\" aria-label=\"IBM Watson Assistant\"><svg focusable=\"false\" preserveAspectRatio=\"xMidYMid meet\" xmlns=\"http://www.w3.org/2000/svg\" fill=\"currentColor\" src=\"[object Object]\" width=\"20\" height=\"20\" viewBox=\"0 0 20 20\" aria-hidden=\"true\" class=\"bx--card__cta\"><path d=\"M11.8 2.8L10.8 3.8 16.2 9.3 1 9.3 1 10.7 16.2 10.7 10.8 16.2 11.8 17.2 19 10z\"></path></svg></a></div></div></div></div></div><div class=\"bx--card-group__cards__col\"><div class=\"bx--card-group__card\"><div class=\"bx--tile bx--card bx--card-link bx--card__CTA bx--card__CardCTA\" data-autoid=\"dds--card\" href=\"https://www.ibm.com/cloud/cloud-pak-for-automation?lnk=ushpv18t2&amp;lnk2=trial_CloudPakAtm&amp;psrc=none&amp;pexp=def\"><div class=\"bx--image\" data-autoid=\"dds--image__longdescription\"><picture><img class=\"bx--image__img bx--card__img\" src=\"https://1.dam.s81c.com/public/content/dam/worldwide-content/homepage/ul/g/67/6a/20220216-t-ibm-cloud-pak-for-automation.png\" alt=\"spreadsheet-type charts\"/></picture></div><div class=\"bx--card__wrapper\"><div class=\"bx--card__content\"><h3 class=\"bx--card__heading\">Cloud Pak for Business Automation</h3><div class=\"bx--card__copy\"><p>Build and scale automation applications on any cloud. Test drive it at no&nbsp;cost.</p> </div><a class=\"bx--link bx--card__footer\" href=\"https://www.ibm.com/cloud/cloud-pak-for-automation?lnk=ushpv18t2&amp;lnk2=trial_CloudPakAtm&amp;psrc=none&amp;pexp=def\" aria-label=\"Cloud Pak for Business Automation\"><svg focusable=\"false\" preserveAspectRatio=\"xMidYMid meet\" xmlns=\"http://www.w3.org/2000/svg\" fill=\"currentColor\" src=\"[object Object]\" width=\"20\" height=\"20\" viewBox=\"0 0 20 20\" aria-hidden=\"true\" class=\"bx--card__cta\"><path d=\"M11.8 2.8L10.8 3.8 16.2 9.3 1 9.3 1 10.7 16.2 10.7 10.8 16.2 11.8 17.2 19 10z\"></path></svg></a></div></div></div></div></div><div class=\"bx--card-group__cards__col\"><div class=\"bx--card-group__card\"><div class=\"bx--tile bx--card bx--card-link bx--card__CTA bx--card__CardCTA\" data-autoid=\"dds--card\" href=\"https://www.ibm.com/cloud/instana?lnk=ushpv18t3&amp;lnk2=trial_Instana&amp;psrc=none&amp;pexp=def\"><div class=\"bx--image\" data-autoid=\"dds--image__longdescription\"><picture><img class=\"bx--image__img bx--card__img\" src=\"https://1.dam.s81c.com/p/08f951362f270092/Instana-trial-800x450.jpg\" alt=\"Instana dashboard with status tables and charts\"/></picture></div><div class=\"bx--card__wrapper\"><div class=\"bx--card__content\"><h3 class=\"bx--card__heading\">IBM Instana Observability</h3><div class=\"bx--card__copy\"><p>Easily manage the performance of your microservice applications. Get a free trial.</p> </div><a class=\"bx--link bx--card__footer\" href=\"https://www.ibm.com/cloud/instana?lnk=ushpv18t3&amp;lnk2=trial_Instana&amp;psrc=none&amp;pexp=def\" aria-label=\"IBM Instana Observability\"><svg focusable=\"false\" preserveAspectRatio=\"xMidYMid meet\" xmlns=\"http://www.w3.org/2000/svg\" fill=\"currentColor\" src=\"[object Object]\" width=\"20\" height=\"20\" viewBox=\"0 0 20 20\" aria-hidden=\"true\" class=\"bx--card__cta\"><path d=\"M11.8 2.8L10.8 3.8 16.2 9.3 1 9.3 1 10.7 16.2 10.7 10.8 16.2 11.8 17.2 19 10z\"></path></svg></a></div></div></div></div></div></div></div></div></div></div><div id=\"ibm-hp--tech-section\" aria-labelledby=\"ibm-tech-row-title\" class=\"ibm-background-white-core ibm-tech-section visible ibm--fade\"><div class=\"bx--row\"><div class=\"ibm-br--search-col\"><h2 class=\"bx--type-expressive-heading-03 ibm-br--heading-03 ibm-pb-2\" style=\"padding-right:10%\">Search for products and services</h2><div class=\"ibm-gmktp-search\"><form id=\"ibm-gmktp-search-form-b\" class=\"ibm-row-form\" method=\"get\" action=\"https://www.ibm.com/search?lnk=ushpv18srch&amp;locale=en-us&amp;q=\"><p id=\"ibm__animated-placeholder-0-b\" class=\"ibm-pb-0 ibm__animated-placeholder\"><label for=\"ibm-gmktp-input\" style=\"display:none\">Search term</label><span style=\"display:block\"><input type=\"text\" class=\"tech-search\" size=\"40\" id=\"ibm-gmktp-input-b\" name=\"q\" style=\"width:100%\" placeholder=\"Search IBM\" value=\"\"/></span></p><a href=\"https://www.ibm.com/search?lnk=ushpv18srch&amp;locale=en-us&amp;q=\" id=\"ibm-gmktp-search-bttn-b\" class=\"ibm-search-link ibm__linky-skip\"><span>Search IBM</span></a><div class=\"ibm-spinner\" style=\"display:none\"></div></form><div id=\"ibm-gmktp-output-container-b\"><ul class=\"ibm-plain-list ibm-pb-0 output\" id=\"ibm-gmktp-output-b\" role=\"listbox\" aria-live=\"polite\" aria-label=\"Use down and up arrow keys to navigate through the results.\"></ul></div></div><p class=\"bx--type-body-long-02 ibm-pb-0 ibm-mb-10 ibm-pt-1 ibm-mb-sm-3\"><a class=\"ibm_cci-link-fade\" href=\"https://www.ibm.com/products?lnk=ushpv18p1&amp;lnk2=trial_mktpl&amp;psrc=none&amp;pexp=def\" id=\"ibm-homepage-lpsw-see-more-b\">See all products</a></p><h2 id=\"ibm-tech-row-title\" class=\"bx--type-expressive-heading-03 ibm-br--heading-03 ibm-pt-1 ibm-pb-2\" style=\"padding-right:10%\">Explore trending technologies</h2></div></div><div class=\"bx--row\"><div class=\"bx--col-md-8 bx--col-lg-10 ibm-br--link-list-row\"><div class=\"percent-25 ibm-br--link-list-col\"><div class=\"bx--link-list\" data-autoid=\"dds--link-list\"><ul class=\"bx--link-list__list bx--link-list__list--card\"><li class=\"bx--link-list__list__CTA bx--link-list__list--local\"><div><div class=\"bx--tile bx--card bx--card-link bx--card__CTA bx--card__CardCTA\" data-autoid=\"dds--card\" ariaRole=\"listitem\" href=\"https://www.ibm.com/hybrid-cloud?lnk=ushpv18pt14\"><div class=\"bx--card__wrapper\"><div class=\"bx--card__content\"><h3 class=\"bx--card__heading\">Hybrid cloud</h3><div class=\"bx--card__copy\"><p>Blend cloud and on-premises resources for flexibility</p> </div><a class=\"bx--link bx--card__footer\" href=\"https://www.ibm.com/hybrid-cloud?lnk=ushpv18pt14\" aria-label=\"Hybrid cloud\"><svg focusable=\"false\" preserveAspectRatio=\"xMidYMid meet\" xmlns=\"http://www.w3.org/2000/svg\" fill=\"currentColor\" src=\"[object Object]\" width=\"20\" height=\"20\" viewBox=\"0 0 20 20\" aria-hidden=\"true\" class=\"bx--card__cta\"><path d=\"M11.8 2.8L10.8 3.8 16.2 9.3 1 9.3 1 10.7 16.2 10.7 10.8 16.2 11.8 17.2 19 10z\"></path></svg></a></div></div></div></div></li><li class=\"bx--link-list__list__CTA bx--link-list__list--local\"><div><div class=\"bx--tile bx--card bx--card-link bx--card__CTA bx--card__CardCTA\" data-autoid=\"dds--card\" ariaRole=\"listitem\" href=\"https://www.ibm.com/watson?lnk=ushpv18pt17\"><div class=\"bx--card__wrapper\"><div class=\"bx--card__content\"><h3 class=\"bx--card__heading\">Watson</h3><div class=\"bx--card__copy\"><p>See why Watson is AI for smarter business</p> </div><a class=\"bx--link bx--card__footer\" href=\"https://www.ibm.com/watson?lnk=ushpv18pt17\" aria-label=\"Watson\"><svg focusable=\"false\" preserveAspectRatio=\"xMidYMid meet\" xmlns=\"http://www.w3.org/2000/svg\" fill=\"currentColor\" src=\"[object Object]\" width=\"20\" height=\"20\" viewBox=\"0 0 20 20\" aria-hidden=\"true\" class=\"bx--card__cta\"><path d=\"M11.8 2.8L10.8 3.8 16.2 9.3 1 9.3 1 10.7 16.2 10.7 10.8 16.2 11.8 17.2 19 10z\"></path></svg></a></div></div></div></div></li><li class=\"bx--link-list__list__CTA bx--link-list__list--local\"><div><div class=\"bx--tile bx--card bx--card-link bx--card__CTA bx--card__CardCTA\" data-autoid=\"dds--card\" ariaRole=\"listitem\" href=\"https://www.ibm.com/it-infrastructure?lnk=ushpv18pt19\"><div class=\"bx--card__wrapper\"><div class=\"bx--card__content\"><h3 class=\"bx--card__heading\">IT infrastructure</h3><div class=\"bx--card__copy\"><p>Discover servers, storage and software designed for your enterprise</p> </div><a class=\"bx--link bx--card__footer\" href=\"https://www.ibm.com/it-infrastructure?lnk=ushpv18pt19\" aria-label=\"IT infrastructure\"><svg focusable=\"false\" preserveAspectRatio=\"xMidYMid meet\" xmlns=\"http://www.w3.org/2000/svg\" fill=\"currentColor\" src=\"[object Object]\" width=\"20\" height=\"20\" viewBox=\"0 0 20 20\" aria-hidden=\"true\" class=\"bx--card__cta\"><path d=\"M11.8 2.8L10.8 3.8 16.2 9.3 1 9.3 1 10.7 16.2 10.7 10.8 16.2 11.8 17.2 19 10z\"></path></svg></a></div></div></div></div></li><li class=\"bx--link-list__list__CTA bx--link-list__list--local\"><div><div class=\"bx--tile bx--card bx--card-link bx--card__CTA bx--card__CardCTA\" data-autoid=\"dds--card\" ariaRole=\"listitem\" href=\"https://www.ibm.com/blockchain?lnk=ushpv18pt4\"><div class=\"bx--card__wrapper\"><div class=\"bx--card__content\"><h3 class=\"bx--card__heading\">Blockchain</h3><div class=\"bx--card__copy\"><p>Bring trust and transparency to every transaction</p> </div><a class=\"bx--link bx--card__footer\" href=\"https://www.ibm.com/blockchain?lnk=ushpv18pt4\" aria-label=\"Blockchain\"><svg focusable=\"false\" preserveAspectRatio=\"xMidYMid meet\" xmlns=\"http://www.w3.org/2000/svg\" fill=\"currentColor\" src=\"[object Object]\" width=\"20\" height=\"20\" viewBox=\"0 0 20 20\" aria-hidden=\"true\" class=\"bx--card__cta\"><path d=\"M11.8 2.8L10.8 3.8 16.2 9.3 1 9.3 1 10.7 16.2 10.7 10.8 16.2 11.8 17.2 19 10z\"></path></svg></a></div></div></div></div></li></ul></div></div><div class=\"\"></div><div class=\"percent-25 ibm-br--link-list-col\"><div class=\"bx--link-list\" data-autoid=\"dds--link-list\"><ul class=\"bx--link-list__list bx--link-list__list--card\"><li class=\"bx--link-list__list__CTA bx--link-list__list--local\"><div><div class=\"bx--tile bx--card bx--card-link bx--card__CTA bx--card__CardCTA\" data-autoid=\"dds--card\" ariaRole=\"listitem\" href=\"https://www.ibm.com/security/products?lnk=ushpv18pt9\"><div class=\"bx--card__wrapper\"><div class=\"bx--card__content\"><h3 class=\"bx--card__heading\">Security</h3><div class=\"bx--card__copy\"><p>Protect your data â\\x80\\x94 and your customers</p> </div><a class=\"bx--link bx--card__footer\" href=\"https://www.ibm.com/security/products?lnk=ushpv18pt9\" aria-label=\"Security\"><svg focusable=\"false\" preserveAspectRatio=\"xMidYMid meet\" xmlns=\"http://www.w3.org/2000/svg\" fill=\"currentColor\" src=\"[object Object]\" width=\"20\" height=\"20\" viewBox=\"0 0 20 20\" aria-hidden=\"true\" class=\"bx--card__cta\"><path d=\"M11.8 2.8L10.8 3.8 16.2 9.3 1 9.3 1 10.7 16.2 10.7 10.8 16.2 11.8 17.2 19 10z\"></path></svg></a></div></div></div></div></li><li class=\"bx--link-list__list__CTA bx--link-list__list--local\"><div><div class=\"bx--tile bx--card bx--card-link bx--card__CTA bx--card__CardCTA\" data-autoid=\"dds--card\" ariaRole=\"listitem\" href=\"https://www.ibm.com/analytics?lnk=ushpv18pt1\"><div class=\"bx--card__wrapper\"><div class=\"bx--card__content\"><h3 class=\"bx--card__heading\">Analytics</h3><div class=\"bx--card__copy\"><p>Make data simple and accessible</p> </div><a class=\"bx--link bx--card__footer\" href=\"https://www.ibm.com/analytics?lnk=ushpv18pt1\" aria-label=\"Analytics\"><svg focusable=\"false\" preserveAspectRatio=\"xMidYMid meet\" xmlns=\"http://www.w3.org/2000/svg\" fill=\"currentColor\" src=\"[object Object]\" width=\"20\" height=\"20\" viewBox=\"0 0 20 20\" aria-hidden=\"true\" class=\"bx--card__cta\"><path d=\"M11.8 2.8L10.8 3.8 16.2 9.3 1 9.3 1 10.7 16.2 10.7 10.8 16.2 11.8 17.2 19 10z\"></path></svg></a></div></div></div></div></li><li class=\"bx--link-list__list__CTA bx--link-list__list--local\"><div><div class=\"bx--tile bx--card bx--card-link bx--card__CTA bx--card__CardCTA\" data-autoid=\"dds--card\" ariaRole=\"listitem\" href=\"https://www.ibm.com/cloud/automation?lnk=ushpv18ct21\"><div class=\"bx--card__wrapper\"><div class=\"bx--card__content\"><h3 class=\"bx--card__heading\">Automation</h3><div class=\"bx--card__copy\"><p>Automate workflows from IT to business processes</p> </div><a class=\"bx--link bx--card__footer\" href=\"https://www.ibm.com/cloud/automation?lnk=ushpv18ct21\" aria-label=\"Automation\"><svg focusable=\"false\" preserveAspectRatio=\"xMidYMid meet\" xmlns=\"http://www.w3.org/2000/svg\" fill=\"currentColor\" src=\"[object Object]\" width=\"20\" height=\"20\" viewBox=\"0 0 20 20\" aria-hidden=\"true\" class=\"bx--card__cta\"><path d=\"M11.8 2.8L10.8 3.8 16.2 9.3 1 9.3 1 10.7 16.2 10.7 10.8 16.2 11.8 17.2 19 10z\"></path></svg></a></div></div></div></div></li><li class=\"bx--link-list__list__CTA bx--link-list__list--local\"><div><div class=\"bx--tile bx--card bx--card-link bx--card__CTA bx--card__CardCTA\" data-autoid=\"dds--card\" ariaRole=\"listitem\" href=\"https://www.ibm.com/quantum-computing?lnk=ushpv18pt16\"><div class=\"bx--card__wrapper\"><div class=\"bx--card__content\"><h3 class=\"bx--card__heading\">Quantum computing</h3><div class=\"bx--card__copy\"><p>Prepare for the quantum advantage with a trusted partner</p> </div><a class=\"bx--link bx--card__footer\" href=\"https://www.ibm.com/quantum-computing?lnk=ushpv18pt16\" aria-label=\"Quantum computing\"><svg focusable=\"false\" preserveAspectRatio=\"xMidYMid meet\" xmlns=\"http://www.w3.org/2000/svg\" fill=\"currentColor\" src=\"[object Object]\" width=\"20\" height=\"20\" viewBox=\"0 0 20 20\" aria-hidden=\"true\" class=\"bx--card__cta\"><path d=\"M11.8 2.8L10.8 3.8 16.2 9.3 1 9.3 1 10.7 16.2 10.7 10.8 16.2 11.8 17.2 19 10z\"></path></svg></a></div></div></div></div></li></ul></div></div></div><div class=\"ibm-br--offset-lg-1 bx--col-lg-5\"><div style=\"position:sticky;top:52px;padding-top:16px\" class=\"trending-col\"><h4 class=\"bx--type-expressive-heading-02 ibm-pb-2 ibm-margin-bottom-0\">Connect and learn</h4><h3 class=\"bx--type-body-long-02 ibm-pb-0 ibm-mb-3\"><a class=\"ibm_cci-link-fade\" href=\"https://www.ibm.com/mysupport/s/?language=en_US&amp;lnk=ushpv18ct11\" id=\"ibm-homepage-tech-support\">Support</a></h3><h3 class=\"bx--type-body-long-02 ibm-pb-0 ibm-mb-3\"><a class=\"ibm_cci-link-fade\" href=\"https://www.ibm.com/training/?lnk=ushpv18ct15\" id=\"ibm-homepage-tech-training\">Training and skills</a></h3><h3 class=\"bx--type-body-long-02 ibm-pb-0 ibm-mb-3\"><a class=\"ibm_cci-link-fade\" href=\"https://community.ibm.com/community/user/home/?lnk=ushpv18ct20\" id=\"ibm-homepage-tech-training\">IBM Community</a></h3><h3 class=\"bx--type-body-long-02 ibm-pb-0 ibm-mb-3\"><a class=\"ibm_cci-link-fade\" href=\"https://developer.ibm.com/?lnk=ushpv18ct9\" id=\"ibm-homepage-tech-ibm-developer\">IBM Developer</a></h3><h3 class=\"bx--type-body-long-02 ibm-pb-0 ibm-mb-3\"><a class=\"ibm_cci-link-fade\" href=\"https://www.ibm.com/garage?lnk=ushpv18pt18\" id=\"ibm-homepage-tech-ibm-garage\">IBM Garage</a></h3><h3 class=\"bx--type-body-long-02 ibm-pb-0 ibm-mb-3\"><a class=\"ibm_cci-link-fade\" href=\"https://www.ibm.com/docs/en?lnk=ushpv18ct14\" id=\"ibm-homepage-tech-ibm-documentation\">IBM Documentation</a></h3><h3 class=\"bx--type-body-long-02 ibm-pb-0 ibm-mb-3\"><a class=\"ibm_cci-link-fade\" href=\"https://www.redbooks.ibm.com/?lnk=ushpv18ct10\" id=\"ibm-homepage-tech-redbooks\">IBM Redbooks</a></h3><h3 class=\"bx--type-body-long-02 ibm-pb-0 ibm-mb-3\"><a class=\"ibm_cci-link-fade\" href=\"https://www.ibm.com/subscribe/?lnk=ushpv18ct22\" id=\"ibm-homepage-tech-subscribe\">IBM Subscription Center</a></h3><h3 class=\"bx--type-body-long-02 ibm-pb-0 ibm-mb-3\"><a class=\"ibm_cci-link-fade\" href=\"https://www.ibm.com/employment/?lnk=ushpv18ct2\" id=\"ibm-homepage-tech-careers\">Careers</a></h3></div></div></div></div></div></div></div></section></div></div></div><div><dds-footer-container id=\"footer-container\"></dds-footer-container></div></main></div></div><script src=\"//1.www.s81c.com/common/stats/ibm-common.js\" defer=\"\"></script><link href=\"//1.www.s81c.com/common/v18/css/forms.css\" rel=\"stylesheet\"/></div><script id=\"__NEXT_DATA__\" type=\"application/json\">{\"props\":{\"pageProps\":{\"data\":{\"_id\":\"7ec18a83cb1c595406965cba92f231c4\",\"_rev\":\"12271-fba22efebb27cbc6bf6118141efc66fb\",\"type\":\"production\",\"sections\":{\"leadspace\":{\"data\":{\"content\":[{\"blocklink\":true,\"largeCol\":\"bx--col-lg-6\",\"imagePos\":\"top right\",\"bgColor\":\"f7f3f2\",\"ctaType\":\"links\",\"ctaColor\":\"gray-90\",\"webm\":\"\",\"gif\":\"\",\"videoImage\":\"\",\"ibmEvLinkTitle\":\"\",\"ibmEvGroup\":\"\",\"ibmEvName\":\"\",\"ibmEvSection\":\"L1\",\"ibmEvTarget\":\"\",\"lsPaddingTop\":\"ibm-pt-5\",\"lsPaddingBottom\":\"ibm-pb-5\",\"ctaOneVideoID\":\"\",\"ctaOneIcon\":\"forward\",\"videoID\":\"\",\"mp4\":\"\",\"type\":\"carbon\",\"ctaTwoVideoID\":\"\",\"ctaTwoIcon\":\"forward\",\"videoType\":\"kaltura\",\"alternate\":false,\"titleType\":\"bx--type-expressive-heading-05\",\"title\":\"GardenMate vs.\\\\u0026nbsp;food waste\",\"copy\":\"An app that connects people in need to gardeners with produce to spare topped worthy competitors in the 2022 Call for Code Global Challenge\",\"timestamp\":1670593200927,\"ctaOne\":\"See the finalists and their projects\",\"ctaOneLink\":\"https://developer.ibm.com/callforcode/solutions/2022-solutions/?lnk=ushpv18l1\",\"airtableID\":\"27181\",\"imageMobile\":\"https://1.dam.s81c.com/p/09e9905470a86c98/20221121-ls-call-for-code-27181-mobile-720x360.jpg\",\"image\":\"https://1.dam.s81c.com/p/09e9905470a86c99/20221121-ls-call-for-code-27181-2304x983.jpg\",\"videoPosition\":\"video-center\",\"imageAlt\":\"A woman harvests red peppers in a garden\"}]}},\"newsflash\":{\"data\":{\"content\":[{\"active\":false,\"videoID\":\"\",\"bgColor\":\"#000000\",\"videoType\":\"kaltura\",\"ibmEvSection\":\"NF1\",\"airtableID\":\"\",\"sandbox\":false,\"title\":\"\\\\u003cstrong\\\\u003eNew\\\\u003c/strong\\\\u003e: \\\\u0026nbsp;\\\\u0026#8594;\",\"stage\":false,\"timestamp\":1670817398885,\"videoTitle\":\"\",\"videoDesc\":\"\",\"link\":\"\"},{\"active\":false,\"videoID\":\"\",\"bgColor\":\"#001d6c\",\"videoType\":\"kaltura\",\"ibmEvSection\":\"NF2\",\"airtableID\":\"27182\",\"sandbox\":false,\"title\":\"\\\\u003cstrong\\\\u003eNew\\\\u003c/strong\\\\u003e: An app that connects people in need to gardeners with produce to spare wins $200k in the 2022 Call for Code Global Challenge\\\\u0026nbsp;\\\\u0026#8594;\",\"stage\":false,\"timestamp\":1670817505934,\"videoDesc\":\"\",\"link\":\"https://newsroom.ibm.com/2022-12-06-IBM-and-David-Clark-Cause-Aim-to-Reduce-Food-Waste-Name-AI-Powered-Gardening-App-Winner-of-5th-Annual-Call-for-Code?lnk=ushpv18nf1\"},{\"active\":false,\"videoID\":\"\",\"bgColor\":\"#001d6c\",\"videoType\":\"kaltura\",\"ibmEvSection\":\"NF3\",\"airtableID\":\"27185\",\"sandbox\":false,\"title\":\"\\\\u003cstrong\\\\u003eNew\\\\u003c/strong\\\\u003e: IBM will acquire Octo, an IT modernization services provider, to help accelerate US federal government digital transformation\\\\u0026nbsp;\\\\u0026#8594;\\\\n\",\"stage\":false,\"timestamp\":1670817511987,\"videoTitle\":\"\",\"videoDesc\":\"\",\"link\":\"https://newsroom.ibm.com/2022-12-07-IBM-to-Acquire-Octo?lnk=ushpv18nf2\"},{\"active\":false,\"videoID\":\"\",\"bgColor\":\"#001d6c\",\"videoType\":\"kaltura\",\"ibmEvSection\":\"NF4\",\"airtableID\":\"\",\"sandbox\":false,\"title\":\"\\\\u003cstrong\\\\u003eNew\\\\u003c/strong\\\\u003e: \\\\u0026nbsp;\\\\u0026#8594;\",\"stage\":false,\"timestamp\":1669843973447,\"link\":\"\"},{\"active\":false,\"videoID\":\"\",\"bgColor\":\"#001d6c\",\"videoType\":\"kaltura\",\"ibmEvSection\":\"NF5\",\"airtableID\":\"\",\"sandbox\":false,\"title\":\"\\\\u003cstrong\\\\u003eNew\\\\u003c/strong\\\\u003e: \\\\u0026nbsp;\\\\u0026#8594;\",\"stage\":false,\"timestamp\":1670510137905,\"link\":\"\"},{\"active\":false,\"videoID\":\"\",\"bgColor\":\"#001d6c\",\"videoType\":\"kaltura\",\"ibmEvSection\":\"NF6\",\"airtableID\":\"\",\"sandbox\":false,\"title\":\"\\\\u003cstrong\\\\u003eNew\\\\u003c/strong\\\\u003e: \\\\u0026nbsp;\\\\u0026#8594;\",\"stage\":false,\"timestamp\":1668702082528,\"videoTitle\":\"\",\"videoDesc\":\"\",\"link\":\"\"},{\"active\":false,\"videoID\":\"\",\"bgColor\":\"#001d6c\",\"videoType\":\"kaltura\",\"ibmEvSection\":\"NF7\",\"airtableID\":\"\",\"sandbox\":false,\"title\":\"\\\\u003cstrong\\\\u003eNew\\\\u003c/strong\\\\u003e: \\\\u0026nbsp;\\\\u0026#8594;\",\"stage\":false,\"timestamp\":1670510113727,\"videoTitle\":\"\",\"videoDesc\":\"\",\"link\":\"\"},{\"active\":false,\"videoID\":\"\",\"bgColor\":\"#001d6c\",\"videoType\":\"kaltura\",\"ibmEvSection\":\"NF8\",\"airtableID\":\"\",\"sandbox\":false,\"title\":\"\\\\u003cstrong\\\\u003eNew\\\\u003c/strong\\\\u003e: \\\\u0026nbsp;\\\\u0026#8594;\",\"stage\":false,\"timestamp\":1667576613575}]}},\"mastheadbtn\":{\"data\":{\"content\":[{\"stage\":false,\"tool\":false,\"title\":\"Stay safe, y\\\\u0026#8217;all.\",\"link\":\"https://www.ibm.com/impact/covid-19/?lnk=ushpv18mb\",\"active\":false,\"timestamp\":1591040701251}]}},\"featured\":{\"data\":{\"content\":[{\"videoImage\":\"\",\"videoType\":\"kaltura\",\"ibmEvLinkTitle\":\"\",\"ibmEvGroup\":\"\",\"ibmEvName\":\"\",\"ibmEvSection\":\"F1\",\"ibmEvTarget\":\"\",\"damVideoMP4\":\"\",\"damVideoWebM\":\"\",\"icon\":\"forward\",\"videoID\":\"\",\"title\":\"27164 IBM iX\",\"timestamp\":1670602077463,\"airtableID\":\"27164\",\"eyebrow\":\"IBM iX: design-led, data-driven\",\"copy\":\"A human-centered approach helps IBM Consulting clients transform customer and employee experiences\",\"image\":\"https://1.dam.s81c.com/p/0868c64e393cf933/2017_12_Slowell_Inside_IBM_Cloud_developers_242.jpg.global.s_4x3.jpg\",\"imageAlt\":\"Two co-workers talking at a desk\",\"button\":\"\",\"link\":\"https://www.ibm.com/consulting/ibmix?lnk=ushpv18f1\"},{\"videoImage\":\"\",\"videoType\":\"youtube\",\"ibmEvLinkTitle\":\"\",\"ibmEvGroup\":\"\",\"ibmEvName\":\"\",\"ibmEvSection\":\"F2\",\"ibmEvTarget\":\"\",\"damVideoMP4\":\"\",\"damVideoWebM\":\"\",\"icon\":\"forward\",\"videoID\":\"\",\"title\":\"27173 Is your business cybersafe?\",\"copy\":\"Work with senior security consultants to understand where you are and where you need to go in this free 3\\\\u0026#8209;hour workshop\",\"eyebrow\":\"Is your business cybersafe?\\\\n\",\"timestamp\":1670602025015,\"airtableID\":\"27173\",\"image\":\"https://1.dam.s81c.com/p/08a56f9ac246227c/20220801_26754_Countdown-to-Ransomware-guide-security-intelligence-444x333.jpg\",\"link\":\"https://www.ibm.com/security/resources/workshop?lnk=ushpv18f2\",\"imageAlt\":\"Three IBM Security employees at a conference table interacting with a man at a whiteboard\"},{\"videoImage\":\"\",\"videoType\":\"youtube\",\"ibmEvLinkTitle\":\"\",\"ibmEvGroup\":\"\",\"ibmEvName\":\"\",\"ibmEvSection\":\"F3\",\"ibmEvTarget\":\"\",\"damVideoMP4\":\"\",\"damVideoWebM\":\"\",\"icon\":\"forward\",\"videoID\":\"\",\"title\":\"27158 Food trust/FSMA\",\"timestamp\":1670605658975,\"airtableID\":\"27158\",\"copy\":\"IBM Food Trust ensures a safer food supply and simplifies compliance with the latest US FDA traceability rules\",\"image\":\"https://1.dam.s81c.com/p/04d38222a5bc17ff/84962edd-c289-4d32-ad92a178655984d5.jpg.global.s_4x3.jpg\",\"mobileImg\":\"https://1.dam.s81c.com/public/content/dam/worldwide-content/homepage/ul/g/9e/7c/20210823-f-swiss-re-case-study-26069.jpg\",\"eyebrow\":\"A higher standard, farm to fork\",\"link\":\"https://www.ibm.com/products/supply-chain-intelligence-suite/food-trust?lnk=ushpv18f3\",\"imageAlt\":\"Oranges on a factory assembly line\"},{\"videoImage\":\"\",\"videoType\":\"youtube\",\"ibmEvLinkTitle\":\"\",\"ibmEvGroup\":\"\",\"ibmEvName\":\"\",\"ibmEvSection\":\"F4\",\"ibmEvTarget\":\"\",\"damVideoMP4\":\"\",\"damVideoWebM\":\"\",\"icon\":\"forward\",\"videoID\":\"\",\"title\":\"27177 Year in review newsletters\",\"image\":\"https://1.dam.s81c.com/p/08243aa34ebb7a36/2022_05_10_SpencerLowell_WorkingWorld_IBM_Brand_Library_285.jpg.global.s_4x3.jpg\",\"copy\":\"Three year-in-review newsletters will highlight the impact of todayâ\\x80\\x99s technology on the future of business. Subscribe now.\",\"eyebrow\":\"2022â\\x80\\x99s top thought leadership\",\"timestamp\":1670853303889,\"airtableID\":\"27177\",\"link\":\"https://www.ibm.com/subscribe/?lnk=ushpv18f4\",\"imageAlt\":\"Orion Crew Module solar panel mockup deployment test at NASA Glen Research Center in Sandusky, Ohio\"},{\"subcopy\":\"\",\"ibmEvLinkTitle\":\"\",\"ibmEvGroup\":\"\",\"ibmEvName\":\"\",\"ibmEvSection\":\"F5\",\"ibmEvTarget\":\"\",\"button_mobile\":\"t1\",\"videoID\":\"\",\"icon\":\"forward\",\"image\":\"\",\"title\":\"\",\"eyebrow\":\"\",\"copy\":\"\",\"button\":\"\",\"timestamp\":1644590702649,\"airtableID\":\"\",\"link\":\"\"},{\"subcopy\":\"\",\"ibmEvLinkTitle\":\"\",\"ibmEvGroup\":\"\",\"ibmEvName\":\"\",\"ibmEvSection\":\"F6\",\"ibmEvTarget\":\"\",\"button_mobile\":\"t1\",\"videoID\":\"\",\"icon\":\"forward\",\"image\":\"https://1.dam.s81c.com/public/content/dam/worldwide-content/homepage/ul/g/7b/7b/20220117-cloud-simplicity-26358-2304x983.png\",\"title\":\"\",\"eyebrow\":\"A unified cloud experience\",\"copy\":\"Build, deploy and scale faster across any environment with consistency and security\",\"button\":\"Simplify your multicloud\",\"timestamp\":1643665707293,\"airtableID\":\"\",\"link\":\"https://www.ibm.com/cloud/campaign/cloud-simplicity?lnk=ushpv18f6\"},{\"videoImage\":\"\",\"videoType\":\"youtube\",\"ibmEvLinkTitle\":\"\",\"ibmEvGroup\":\"\",\"ibmEvName\":\"\",\"ibmEvSection\":\"F7\",\"ibmEvTarget\":\"\",\"damVideoMP4\":\"\",\"damVideoWebM\":\"\",\"icon\":\"forward\",\"videoID\":\"\",\"title\":\"\",\"link\":\"https://www.ibm.com/consulting/?lnk=ushpv18f7\",\"image\":\"https://1.dam.s81c.com/public/content/dam/worldwide-content/homepage/ul/g/ae/b2/20211103-f-ibm-consulting-26242.gif\",\"eyebrow\":\"Move fast and far with IBM Consulting\",\"copy\":\"Together, we can turn ideas into action better than we ever could alone\",\"button\":\"Navigate the new rules of modern business with a partner you\\\\u0026nbsp;trust\",\"timestamp\":1643665749045,\"airtableID\":\"\"},{\"videoID\":\"\",\"videoImage\":\"\",\"videoType\":\"youtube\",\"ibmEvLinkTitle\":\"\",\"ibmEvGroup\":\"\",\"ibmEvName\":\"\",\"ibmEvSection\":\"F8\",\"ibmEvTarget\":\"\",\"damVideoMP4\":\"\",\"damVideoWebM\":\"\",\"icon\":\"forward\",\"timestamp\":1643665604671,\"title\":\"\",\"eyebrow\":\"\",\"button\":\"\",\"copy\":\"\",\"image\":\"\",\"link\":\"\",\"airtableID\":\"\"},{\"videoImage\":\"\",\"videoType\":\"kaltura\",\"ibmEvLinkTitle\":\"\",\"ibmEvGroup\":\"\",\"ibmEvName\":\"\",\"ibmEvSection\":\"F9\",\"ibmEvTarget\":\"\",\"damVideoMP4\":\"\",\"damVideoWebM\":\"\",\"icon\":\"forward\",\"videoID\":\"\",\"title\":\"\",\"image\":\"\",\"link\":\"\",\"button\":\"\",\"eyebrow\":\"\",\"copy\":\"\",\"timestamp\":1643665619583,\"airtableID\":\"\"},{\"subcopy\":\"\",\"ibmEvLinkTitle\":\"\",\"ibmEvGroup\":\"\",\"ibmEvName\":\"\",\"ibmEvSection\":\"F10\",\"ibmEvTarget\":\"\",\"button_mobile\":\"t1\",\"videoID\":\"\",\"icon\":\"forward\",\"image\":\"\",\"title\":\"\",\"eyebrow\":\"\",\"copy\":\"\",\"button\":\"\",\"link\":\"\",\"timestamp\":1643665630573,\"airtableID\":\"\"},{\"subcopy\":\"\",\"ibmEvLinkTitle\":\"\",\"ibmEvGroup\":\"\",\"ibmEvName\":\"\",\"ibmEvSection\":\"F11\",\"ibmEvTarget\":\"\",\"button_mobile\":\"t1\",\"videoID\":\"\",\"icon\":\"forward\",\"image\":\"\",\"title\":\"\",\"eyebrow\":\"\",\"copy\":\"\",\"button\":\"\",\"link\":\"\",\"timestamp\":1643665641479,\"airtableID\":\"\"},{\"videoImage\":\"\",\"videoType\":\"kaltura\",\"ibmEvLinkTitle\":\"\",\"ibmEvGroup\":\"\",\"ibmEvName\":\"\",\"ibmEvSection\":\"F12\",\"ibmEvTarget\":\"\",\"damVideoMP4\":\"\",\"damVideoWebM\":\"\",\"icon\":\"forward\",\"videoID\":\"\",\"title\":\"\",\"eyebrow\":\"\",\"copy\":\"\",\"button\":\"\",\"image\":\"\",\"link\":\"\",\"timestamp\":1643665651571,\"airtableID\":\"\"}]},\"config\":{\"type\":\"quatro\",\"totalCards\":\"12\"}},\"research\":{\"data\":{\"content\":[{\"videoImage\":\"\",\"videoType\":\"youtube\",\"ibmEvLinkTitle\":\"\",\"ibmEvGroup\":\"\",\"ibmEvName\":\"\",\"ibmEvSection\":\"R1\",\"ibmEvTarget\":\"\",\"damVideoMP4\":\"\",\"damVideoWebM\":\"\",\"icon\":\"forward\",\"videoID\":\"\",\"title\":\"27189 Spot the dog safety monitor\",\"timestamp\":1670853838373,\"airtableID\":\"27189\",\"image\":\"https://1.dam.s81c.com/p/0a23e41430abcb17/20221208-r1-spot-the-dog-robotics-offerings-27188-1600x900.jpg\",\"mobileImg\":\"https://1.dam.s81c.com/public/content/dam/worldwide-content/homepage/ul/g/9e/7c/20210823-f-swiss-re-case-study-26069.jpg\",\"headline\":\"Pin-Yu Chen challenges AI every day to build the most trustworthy systems possible\",\"eyebrow\":\"Will Spot the danger-detecting robot be your safety inspectorâ\\x80\\x99s best friend?\",\"imageAlt\":\"composite image featuring Spot, the dog-like robot\",\"copy\":\"\\\\n\",\"link\":\"https://research.ibm.com/blog/ibm-ai-edge-national-grid-monitoring?lnk=ushpv18r1\"},{\"videoImage\":\"\",\"videoType\":\"youtube\",\"ibmEvLinkTitle\":\"\",\"ibmEvGroup\":\"\",\"ibmEvName\":\"\",\"ibmEvSection\":\"R2\",\"ibmEvTarget\":\"\",\"damVideoMP4\":\"\",\"damVideoWebM\":\"\",\"icon\":\"forward\",\"videoID\":\"\",\"title\":\"27190 Quantum Open Science Prize\",\"timestamp\":1670593706262,\"airtableID\":\"27190\",\"copy\":\"\\\\n\",\"image\":\"https://1.dam.s81c.com/p/09f257ea96c87909/20221205-r1-quantum-open-science-prize-1600x900.png\",\"mobileImg\":\"https://1.dam.s81c.com/public/content/dam/worldwide-content/homepage/ul/g/9e/7c/20210823-f-swiss-re-case-study-26069.jpg\",\"headline\":\"AI processes can have a massive carbon footprint. They donâ\\x80\\x99t have to, thanks to analog AI.\",\"eyebrow\":\"IBM Quantumâ\\x80\\x99s Open Science Prize seeks the best open source solutions to pressing problems\",\"imageAlt\":\"Schematic illustration of the honeycomb-pattered Kagome lattice\",\"link\":\"https://research.ibm.com/blog/ibm-quantum-open-science-prize-2022?lnk=ushpv18r2\"},{\"videoImage\":\"\",\"videoType\":\"youtube\",\"ibmEvLinkTitle\":\"\",\"ibmEvGroup\":\"\",\"ibmEvName\":\"\",\"ibmEvSection\":\"R3\",\"ibmEvTarget\":\"\",\"damVideoMP4\":\"\",\"damVideoWebM\":\"\",\"icon\":\"forward\",\"videoID\":\"\",\"title\":\"27191 Ruthenium 1nm chip\",\"timestamp\":1670593873723,\"airtableID\":\"27191\",\"copy\":\"\\\\n\",\"image\":\"https://1.dam.s81c.com/p/09e9905470286c48/20221205-r1-1nm-chips-ruthenium-27178-1600x900.jpg\",\"mobileImg\":\"https://1.dam.s81c.com/public/content/dam/worldwide-content/homepage/ul/g/9e/7c/20210823-f-swiss-re-case-study-26069.jpg\",\"headline\":\"AI processes can have a massive carbon footprint. They donâ\\x80\\x99t have to, thanks to analog AI.\",\"eyebrow\":\"The 1-nanometer future: a metal called ruthenium will shrink the worldâ\\x80\\x99s smallest chip below 2nm\",\"imageAlt\":\"Fingers holding a chip wafer with a computer chip closeup in an inset\",\"link\":\"https://research.ibm.com/blog/1nm-chips-vtfet-ruthenium?lnk=ushpv18r3\"},{\"videoImage\":\"\",\"videoType\":\"youtube\",\"ibmEvLinkTitle\":\"\",\"ibmEvGroup\":\"\",\"ibmEvName\":\"\",\"ibmEvSection\":\"R4\",\"ibmEvTarget\":\"\",\"damVideoMP4\":\"\",\"damVideoWebM\":\"\",\"icon\":\"forward\",\"videoID\":\"https://www.ibm.com/thought-leadership/institute-business-value/report/space-cloud-computing\",\"title\":\"27192 PyTorch AI foundation models\",\"timestamp\":1670593999804,\"airtableID\":\"27192\",\"image\":\"https://1.dam.s81c.com/p/09e98ff48ebdd003/20221128-r-pytorch-foundational-models-27155-800x450.png\",\"mobileImg\":\"https://1.dam.s81c.com/public/content/dam/worldwide-content/homepage/ul/g/9e/7c/20210823-f-swiss-re-case-study-26069.jpg\",\"headline\":\"Pin-Yu Chen challenges AI every day to build the most trustworthy systems possible\",\"eyebrow\":\"Train large AI models using standard Ethernet networking on Red Hat OpenShift, on any cloud\\\\n\",\"imageAlt\":\"intersecting groups of lines representing networking\",\"copy\":\"\\\\n\",\"link\":\"https://research.ibm.com/blog/ibm-pytorch-cloud-ai-ethernet?lnk=ushpv18r4\"}]},\"config\":{\"enabled\":\"true\",\"type\":\"carousel\",\"totalCards\":\"12\"}},\"makers\":{\"data\":{\"content\":[{\"alternate\":true,\"ctaColor\":\"red-50\",\"ibmEvLinkTitle\":\"\",\"ibmEvGroup\":\"\",\"ibmEvName\":\"case study\",\"ibmEvSection\":\"M1\",\"ibmEvTarget\":\"\",\"imageMobile\":\"\",\"damVideoMP4\":\"\",\"damVideoWebM\":\"\",\"ctaCopyThree\":\"\",\"ctaLinkTwoThree\":\"\",\"imagePos\":\"center center\",\"copyTwo\":\"\",\"videoType\":\"kaltura\",\"eyebrow\":\"Sustainability insights make facilities work more efficiently\",\"airtableID\":\"27171\",\"videoID\":\"\",\"mobileColumnHalf\":true,\"timestamp\":1670593384783,\"ctaLinkOne\":\"https://www.ibm.com/case-studies/audi-uk/?lnk=ushpv18cs1\",\"copyOne\":\"A commitment to enhanced user experience enabled Audi UK to deepen its connection to customers\",\"title\":\"27171 GRE-Envizi\",\"ctaCopyOne\":\"See how IBM Consulting helped boost lead generation by 59%\",\"button\":\"See how data provided by the Envizi ESG Suite helped IBM reduced carbon emissions by 62%\",\"copy\":\"IBM Global Real Estate needed a greener way to manage more than 50 million square feet of space worldwide\",\"link\":\"https://www.ibm.com/case-studies/ibm-gre?lnk=ushpv18m1\",\"image\":\"https://1.dam.s81c.com/p/09e9905470a86c9a/20221212-m-gre-envizi-27171-1600x900.jpg\",\"imageAlt\":\"A Black professional in an office building overlooking green landscape\"},{\"alternate\":true,\"ctaColor\":\"red-50\",\"ibmEvLinkTitle\":\"\",\"ibmEvGroup\":\"\",\"ibmEvName\":\"case study\",\"ibmEvSection\":\"M2\",\"ibmEvTarget\":\"\",\"imageMobile\":\"\",\"damVideoMP4\":\"\",\"damVideoWebM\":\"\",\"ctaCopyThree\":\"\",\"ctaLinkTwoThree\":\"\",\"imagePos\":\"center center\",\"copyTwo\":\"\",\"videoType\":\"kaltura\",\"eyebrow\":\"For predictable trains, we need predictive maintenance\",\"airtableID\":\"27193\",\"videoID\":\"\",\"mobileColumnHalf\":true,\"timestamp\":1670599073776,\"ctaLinkOne\":\"https://www.ibm.com/case-studies/audi-uk/?lnk=ushpv18cs1\",\"copyOne\":\"A commitment to enhanced user experience enabled Audi UK to deepen its connection to customers\",\"title\":\"27193 Downer Group\",\"ctaCopyOne\":\"See how IBM Consulting helped boost lead generation by 59%\",\"button\":\"Working with IBM Consulting, they created TrainDNA and increased reliability by 51%\",\"copy\":\"When Australia moved to outsource operation of its railroad system, the Downer Group needed a way to handle a huge new workload\",\"link\":\"https://www.ibm.com/case-studies/downer?lnk=ushpv18m2\",\"image\":\"https://1.dam.s81c.com/p/09f257ea96c8790a/20221205-m-downer-group-27163-1600x900.jpg\",\"imageAlt\":\"Young woman looking out a train window at the landscape passing by\"},{\"alternate\":true,\"ctaColor\":\"red-50\",\"ibmEvLinkTitle\":\"\",\"ibmEvGroup\":\"\",\"ibmEvName\":\"case study\",\"ibmEvSection\":\"M3\",\"ibmEvTarget\":\"\",\"imageMobile\":\"\",\"damVideoMP4\":\"\",\"damVideoWebM\":\"\",\"ctaCopyThree\":\"\",\"ctaLinkTwoThree\":\"\",\"imagePos\":\"center center\",\"copyTwo\":\"\",\"videoType\":\"kaltura\",\"eyebrow\":\"New Jersey keeps the heat and lights on for those in need\",\"airtableID\":\"27194\",\"videoID\":\"\",\"mobileColumnHalf\":true,\"timestamp\":1670599058497,\"ctaLinkOne\":\"https://www.ibm.com/case-studies/audi-uk/?lnk=ushpv18cs1\",\"copyOne\":\"A commitment to enhanced user experience enabled Audi UK to deepen its connection to customers\",\"title\":\"27194 State of New Jersey\",\"ctaCopyOne\":\"See how IBM Consulting helped boost lead generation by 59%\",\"button\":\"IBM Consulting designed a portal that handles 6,200 calls a month, fast-tracking $127M in relief\",\"copy\":\"The pandemic caused many low-income residents to fall behind on their utility bills, putting their home heating at risk\",\"link\":\"https://www.ibm.com/case-studies/new-jersey-department-of-community-affairs/?lnk=ushpv18m3\",\"image\":\"https://1.dam.s81c.com/p/09e98ff48ebdd004/20221128-m-new-jersey-department-of-community-affairs-27154-1600x900.jpg\",\"imageAlt\":\"Winter view of suburban houses through frost on a window\"}]},\"config\":{\"enabled\":\"true\",\"type\":\"carousel\",\"totalCards\":\"12\"}},\"tech\":{\"data\":{\"content\":[{\"imageMobile\":\"10312017-n-episode6-starwars-600x260.jpg\",\"videoType\":\"kaltura\",\"ibmEvLinkTitle\":\"Dear Tech Sonoma\",\"ibmEvGroup\":\"Advertising\",\"ibmEvName\":\"Ad support\",\"ibmEvSection\":\"DT\",\"ibmEvTarget\":\"\",\"damVideoMP4\":\"\",\"damVideoWebM\":\"\",\"videoID\":\"\",\"icon\":\"forward\",\"copy\":\"\",\"link\":\"\",\"airtableID\":\"\",\"title\":\"\",\"eyebrow\":\"\",\"button\":\"\",\"image\":\"\",\"timestamp\":1598626304757},{\"icon\":\"forward\",\"videoID\":\"\",\"videoType\":\"kaltura\",\"ibmEvLinkTitle\":\"Network Consulting Services\",\"ibmEvGroup\":\"GTS\",\"ibmEvName\":\"service\",\"ibmEvSection\":\"BT\",\"ibmEvTarget\":\"\",\"damVideoMP4\":\"\",\"damVideoWebM\":\"\",\"title\":\"\",\"eyebrow\":\"\",\"image\":\"\",\"copy\":\"\",\"button\":\"\",\"link\":\"\",\"timestamp\":1598626317181,\"airtableID\":\"\"},{\"videoType\":\"kaltura\",\"ibmEvLinkTitle\":\"Systems TechU Las Vegas\",\"ibmEvGroup\":\"STG\",\"ibmEvName\":\"event\",\"ibmEvSection\":\"ST\",\"ibmEvTarget\":\"\",\"damVideoMP4\":\"\",\"damVideoWebM\":\"\",\"videoID\":\"\",\"icon\":\"play\",\"airtableID\":\"\",\"title\":\"\",\"copy\":\"\",\"eyebrow\":\"\",\"link\":\"\",\"image\":\"\",\"button\":\"\",\"timestamp\":1598626329298}]}},\"trials\":{\"data\":{\"content\":[{\"icon\":\"forward\",\"videoID\":\"\",\"videoImage\":\"\",\"videoType\":\"youtube\",\"ibmEvLinkTitle\":\"\",\"ibmEvGroup\":\"\",\"ibmEvName\":\"\",\"ibmEvSection\":\"T1\",\"ibmEvTarget\":\"\",\"damVideoMP4\":\"\",\"damVideoWebM\":\"\",\"timestamp\":1670594621355,\"title\":\"1303 IBM Watson Assistant\",\"airtableID\":\"1303\",\"copy\":\"Help customers get stuff done quickly, easily, on any channel. Ask for a demo.\",\"eyebrow\":\"IBM Watson Assistant\",\"link\":\"https://www.ibm.com/products/watson-assistant?lnk=ushpv18t1\\\\u0026lnk2=trial_WatAssist\\\\u0026psrc=none\\\\u0026pexp=def\",\"image\":\"https://1.dam.s81c.com/public/content/dam/worldwide-content/homepage/ul/g/ee/15/20220216-t-ibm-watson-assistant.png\",\"imageAlt\":\"The Watson Assistant interface with text boxes and a simulated chatbot\"},{\"subcopy\":\"\",\"ibmEvLinkTitle\":\"\",\"ibmEvGroup\":\"\",\"ibmEvName\":\"\",\"ibmEvSection\":\"T2\",\"ibmEvTarget\":\"\",\"button_mobile\":\"T2\",\"icon\":\"forward\",\"timestamp\":1670594649943,\"title\":\"1304 Cloud Pak for Business Automation\",\"airtableID\":\"1304\",\"copy\":\"Build and scale automation applications on any cloud. Test drive it at no\\\\u0026nbsp;cost.\",\"eyebrow\":\"Cloud Pak for Business Automation\",\"image\":\"https://1.dam.s81c.com/public/content/dam/worldwide-content/homepage/ul/g/67/6a/20220216-t-ibm-cloud-pak-for-automation.png\",\"link\":\"https://www.ibm.com/cloud/cloud-pak-for-automation?lnk=ushpv18t2\\\\u0026lnk2=trial_CloudPakAtm\\\\u0026psrc=none\\\\u0026pexp=def\",\"imageAlt\":\"spreadsheet-type charts\"},{\"subcopy\":\"\",\"ibmEvLinkTitle\":\"\",\"ibmEvGroup\":\"\",\"ibmEvName\":\"\",\"ibmEvSection\":\"T3\",\"ibmEvTarget\":\"\",\"button_mobile\":\"T4\",\"timestamp\":1670594670414,\"airtableID\":\"1305\",\"title\":\"1305 IBM Instana Observability\",\"image\":\"https://1.dam.s81c.com/p/08f951362f270092/Instana-trial-800x450.jpg\",\"eyebrow\":\"IBM Instana Observability\",\"copy\":\"Easily manage the performance of your microservice applications. Get a free trial.\",\"link\":\"https://www.ibm.com/cloud/instana?lnk=ushpv18t3\\\\u0026lnk2=trial_Instana\\\\u0026psrc=none\\\\u0026pexp=def\",\"imageAlt\":\"Instana dashboard with status tables and charts\"},{\"subcopy\":\"\",\"ibmEvLinkTitle\":\"\",\"ibmEvGroup\":\"\",\"ibmEvName\":\"\",\"ibmEvSection\":\"T4\",\"ibmEvTarget\":\"\",\"button_mobile\":\"T4\",\"timestamp\":1645198930856,\"airtableID\":\"\",\"title\":\"\",\"image\":\"\",\"eyebrow\":\"\",\"copy\":\"\",\"button\":\"\",\"link\":\"\"}]}},\"contentspotlight\":{\"data\":{\"content\":[{\"alternate\":true,\"ctaColor\":\"red-50\",\"ibmEvLinkTitle\":\"\",\"ibmEvGroup\":\"\",\"ibmEvName\":\"case study\",\"ibmEvSection\":\"CS1\",\"ibmEvTarget\":\"\",\"imageMobile\":\"\",\"damVideoMP4\":\"\",\"damVideoWebM\":\"\",\"ctaCopyThree\":\"\",\"ctaLinkTwoThree\":\"\",\"imagePos\":\"center left\",\"copyTwo\":\"\",\"videoType\":\"kaltura\",\"eyebrow\":\"\",\"airtableID\":\"\",\"videoID\":\"\",\"mobileColumnHalf\":true,\"timestamp\":1645199476505,\"ctaLinkOne\":\"\",\"copyOne\":\"\",\"title\":\"\",\"ctaCopyOne\":\"\",\"image\":\"\"},{\"alternate\":true,\"image\":\"https://1.dam.s81c.com/public/content/dam/worldwide-content/homepage/ul/g/ea/ca/cs-hub-logos-k-1042x1130.png\",\"ctaColor\":\"red-50\",\"videoID\":\"\",\"videoType\":\"youtube\",\"ibmEvLinkTitle\":\"\",\"ibmEvGroup\":\"\",\"ibmEvName\":\"case study\",\"ibmEvSection\":\"CS2\",\"ibmEvTarget\":\"\",\"imageMobile\":\"\",\"damVideoMP4\":\"\",\"damVideoWebM\":\"\",\"ctaCopyThree\":\"\",\"ctaLinkTwoThree\":\"\",\"imagePos\":\"center center\",\"eyebrow\":\"25339\",\"title\":\"Client success stories\",\"ctaCopyTwo\":\"\",\"ctaCopyOne\":\"Read how industry leaders put smart to work\",\"ctaLinkTwo\":\"\",\"ctaLinkOne\":\"https://www.ibm.com/case-studies/search?search\\\\u0026lnk=ushpv18cs2\",\"copyOne\":\"\",\"copyTwo\":\"\",\"timestamp\":1638195426535,\"airtableID\":\"25339\",\"mobileColumnHalf\":true}]},\"config\":{\"type\":\"dos\"}},\"thinknews\":{\"data\":{\"content\":[{\"videoImage\":\"\",\"videoType\":\"youtube\",\"ibmEvLinkTitle\":\"\",\"ibmEvGroup\":\"\",\"ibmEvName\":\"\",\"ibmEvSection\":\"Th1\",\"ibmEvTarget\":\"\",\"damVideoMP4\":\"\",\"damVideoWebM\":\"\",\"icon\":\"forward\",\"videoID\":\"\",\"label\":\"\",\"title\":\"\",\"image\":\"https://1.dam.s81c.com/p/0797bc3546c3dcc9/20220405-ibm-z-multiframe-annc-444x320-26343.jpg\",\"copy\":\"Breeze through 25 billion secure transactions daily, across any hybrid cloud structure\",\"eyebrow\":\"\",\"timestamp\":1655481021045,\"airtableID\":\"\",\"link\":\"\",\"active\":false,\"sandbox\":false,\"stage\":false},{\"videoImage\":\"\",\"videoType\":\"youtube\",\"ibmEvLinkTitle\":\"\",\"ibmEvGroup\":\"\",\"ibmEvName\":\"\",\"ibmEvSection\":\"Th2\",\"ibmEvTarget\":\"\",\"damVideoMP4\":\"\",\"damVideoWebM\":\"\",\"icon\":\"forward\",\"videoID\":\"\",\"label\":\"\",\"title\":\"\",\"timestamp\":1655481064068,\"airtableID\":\"\",\"eyebrow\":\"\",\"copy\":\"Four out of five companies surveyed use or plan to adopt AI. Find out why.\\\\n\",\"link\":\"\",\"active\":false,\"sandbox\":false,\"stage\":false},{\"videoImage\":\"\",\"videoType\":\"youtube\",\"ibmEvLinkTitle\":\"\",\"ibmEvGroup\":\"\",\"ibmEvName\":\"\",\"ibmEvSection\":\"Th3\",\"ibmEvTarget\":\"\",\"damVideoMP4\":\"\",\"damVideoWebM\":\"\",\"icon\":\"forward\",\"videoID\":\"\",\"label\":\"\",\"title\":\"\",\"timestamp\":1655481115853,\"airtableID\":\"\",\"eyebrow\":\"\",\"copy\":\"Boost your growth with up to $120K in cloud credits and expert mentoring when you join the Startup with IBM program\\\\n\",\"image\":\"https://1.dam.s81c.com/public/content/dam/worldwide-content/homepage/ul/g/0e/e0/20220131-startup-26374-444x320.jpg\",\"link\":\"\",\"active\":false,\"sandbox\":false,\"stage\":false},{\"videoImage\":\"\",\"videoType\":\"youtube\",\"ibmEvLinkTitle\":\"\",\"ibmEvGroup\":\"\",\"ibmEvName\":\"\",\"ibmEvSection\":\"Th4\",\"ibmEvTarget\":\"\",\"damVideoMP4\":\"\",\"damVideoWebM\":\"\",\"icon\":\"forward\",\"videoID\":\"\",\"label\":\"\",\"title\":\"\",\"image\":\"https://1.dam.s81c.com/p/0797bc3546c3dcc9/20220405-ibm-z-multiframe-annc-444x320-26343.jpg\",\"copy\":\"Breeze through 25 billion secure transactions daily, across any hybrid cloud structure\\\\n\",\"eyebrow\":\"\",\"timestamp\":1655481135287,\"airtableID\":\"\",\"link\":\"\",\"active\":false,\"sandbox\":false,\"stage\":false},{\"videoImage\":\"\",\"videoType\":\"youtube\",\"ibmEvLinkTitle\":\"\",\"ibmEvGroup\":\"\",\"ibmEvName\":\"\",\"ibmEvSection\":\"Th5\",\"ibmEvTarget\":\"\",\"damVideoMP4\":\"\",\"damVideoWebM\":\"\",\"icon\":\"forward\",\"videoID\":\"\",\"label\":\"Creativity at work\",\"title\":\"\",\"timestamp\":1652111841522,\"airtableID\":\"\",\"eyebrow\":\"Meet the New Creators, 10 visionaries creatively applying technology in business to drive change\",\"copy\":\"Boost your growth with up to $120K in cloud credits and expert mentoring when you join the Startup with IBM program\\\\n\",\"image\":\"https://1.dam.s81c.com/public/content/dam/worldwide-content/homepage/ul/g/0e/e0/20220131-startup-26374-444x320.jpg\",\"link\":\"https://www.ibm.com/thought-leadership/new-creators?lnk=ushpv18Th3\",\"active\":false,\"sandbox\":false,\"stage\":false},{\"videoImage\":\"\",\"videoType\":\"youtube\",\"ibmEvLinkTitle\":\"\",\"ibmEvGroup\":\"\",\"ibmEvName\":\"\",\"ibmEvSection\":\"Th6\",\"ibmEvTarget\":\"\",\"damVideoMP4\":\"\",\"damVideoWebM\":\"\",\"icon\":\"forward\",\"videoID\":\"\",\"label\":\"Creativity at work\",\"title\":\"\",\"timestamp\":1652111851031,\"airtableID\":\"\",\"eyebrow\":\"Meet the New Creators, 10 visionaries creatively applying technology in business to drive change\",\"copy\":\"Boost your growth with up to $120K in cloud credits and expert mentoring when you join the Startup with IBM program\\\\n\",\"image\":\"https://1.dam.s81c.com/public/content/dam/worldwide-content/homepage/ul/g/0e/e0/20220131-startup-26374-444x320.jpg\",\"link\":\"https://www.ibm.com/thought-leadership/new-creators?lnk=ushpv18Th3\",\"active\":false,\"sandbox\":false,\"stage\":false}]}},\"big6LeadspaceCards\":{\"data\":{\"content\":[{\"title\":\"Work safe. Work smart.\",\"copy\":\"\",\"link\":\"https://www.ibm.com/smarter-business/work-safe?lnk=ushpv18cv1\",\"timestamp\":1591797887933},{\"title\":\"Engage customers anywhere with Watson\",\"copy\":\"\",\"link\":\"https://www.ibm.com/smarter-business/customer-experience?lnk=ushpv18cv2\",\"timestamp\":1591797833198},{\"title\":\"Enhance your IT resiliency and business continuity\",\"copy\":\"\",\"link\":\"https://www.ibm.com/services/business-continuity?lnk=ushpv18cv3\",\"timestamp\":1591797923124},{\"title\":\"Accelerate agility and efficiency with IBM Cloud\",\"copy\":\"\",\"link\":\"https://www.ibm.com/cloud/yourcloud?lnk=ushpv18cv4\",\"timestamp\":1591798189360},{\"title\":\"Protect against new cyber risks\",\"copy\":\"\",\"link\":\"https://www.ibm.com/security?lnk=ushpv18cv5\",\"timestamp\":1591990121847},{\"title\":\"Build resilient supply chains and operations\",\"copy\":\"\",\"link\":\"https://www.ibm.com/supply-chain?lnk=ushpv18cv6\",\"timestamp\":1591990130317}]}},\"certifications\":{\"data\":{\"content\":[{\"ibmEvSection\":\"tc1\",\"image\":\" https://1.dam.s81c.com/public/content/dam/worldwide-content/homepage/ul/g/bb/fd/20211018-cert-tech-u-virtual-edition.png\",\"eyebrow\":\"IBM TechU virtual edition: October 25â\\x80\\x9328\",\"title\":\"IBM TechU 2021, the virtual edition\",\"button\":\"Register to choose from 250+ sessions and labs, and engage live with experts and peers\",\"timestamp\":1634607850644,\"airtableID\":\"26189\",\"link\":\"https://www.ibm.com/training/events/vtechu2021?lnk=ushpv18tc1\",\"mobileImg\":\"https://1.dam.s81c.com/public/content/dam/worldwide-content/homepage/ul/g/bb/fd/20211018-cert-tech-u-virtual-edition.png\",\"copy\":\"\\\\n\"},{\"ibmEvSection\":\"tc2\",\"eyebrow\":\"Design thinking is for everyone\",\"title\":\"26192 Design thinking practitioner \",\"button\":\"Learn how to drive business results by focusing on your usersâ\\x80\\x99 needs in this free course\",\"timestamp\":1634315831253,\"airtableID\":\"26192\",\"mobileImg\":\"https://1.dam.s81c.com/public/content/dam/worldwide-content/homepage/ul/g/e1/3b/20211018-cert-design-thinking.jpg\",\"copy\":\"\\\\n\",\"link\":\"https://www.ibm.com/design/thinking/?lnk=ushpv18tc2\",\"image\":\"https://1.dam.s81c.com/public/content/dam/worldwide-content/homepage/ul/g/e1/3b/20211018-cert-design-thinking.jpg\"}]},\"config\":{\"enabled\":\"true\"}},\"videonews\":{\"data\":{\"content\":[{\"ibmEvSection\":\"vn1\",\"alternateColor\":true,\"eyebrow\":\"AI can take you to places youâ\\x80\\x99ve only dreamed of\\\\n\",\"title\":\"26324 Data Science: Watson Studio\",\"button\":\"Build and scale trusted AI across any cloud\",\"link\":\"https://www.ibm.com/cloud/watson-studio?lnk=ushpv18vn1\",\"timestamp\":1639779183583,\"airtableID\":\"26324\",\"copy\":\"Get there with Watson Studio, a simpler way to turn predictions into decisions collaboratively, on any cloud, on one data and AI platform\",\"videoLength\":\"1:13\",\"videoId\":\"1_iej13uex\",\"image\":\"https://1.dam.s81c.com/public/content/dam/worldwide-content/homepage/ul/g/82/93/20211025-vn-data-science-watson-studio-1200x900.jpg\"},{\"ibmEvSection\":\"vn2\",\"eyebrow\":\"A â\\x80\\x98never trust, always verifyâ\\x80\\x99 security model\\\\n\",\"title\":\"26325 Zero Trust Security\",\"button\":\"Read about zero trust architecture and the future of security\",\"timestamp\":1639779210749,\"airtableID\":\"26325\",\"copy\":\"On average, it can take 77 days to contain an insider data breach. Companies with a zero trust framework in place can do so in near-real time.\",\"videoLength\":\"3:06\",\"videoId\":\"1_yr2j7p5f\",\"image\":\"https://1.dam.s81c.com/public/content/dam/worldwide-content/homepage/ul/g/2e/5a/20211115-vn-zero-trust-security-26254-1200x900.jpg\",\"alternateColor\":true,\"link\":\"https://www.ibm.com/security/zero-trust?lnk=ushpv18vn2\"},{\"ibmEvSection\":\"vn3\",\"eyebrow\":\"Home Trust and IBM Cloud: prepared for the unforeseeable\\\\n\",\"title\":\"26326 Home Trust CS\",\"button\":\"Learn how the right platform supported the workforce during COVID\\\\u0026#8209;19 lockdowns\",\"timestamp\":1639779304922,\"airtableID\":\"26326\",\"copy\":\"Because of an early transition to IBM Cloud, one of Canadaâ\\x80\\x99s leading financial institutions was able to change to remote work and thrive in 2020\",\"videoLength\":\"2:37\",\"videoId\":\"1_fz1liaxf\",\"image\":\"https://1.dam.s81c.com/public/content/dam/worldwide-content/homepage/ul/g/37/78/20211122-vn-home-trust-26271-1200x900.jpg\",\"alternateColor\":true,\"link\":\"https://www.ibm.com/case-studies/home-trust/?lnk=ushpv18vn3\"}]},\"config\":{\"enabled\":\"true\"}}}}},\"__N_SSG\":true},\"page\":\"/\",\"query\":{},\"buildId\":\"Byn_CCQLu0qw2e25CsI3I\",\"assetPrefix\":\"/us-en\",\"isFallback\":false,\"gsp\":true}</script><script nomodule=\"\" src=\"/us-en/_next/static/chunks/polyfills-ff94e68042added27a93.js\"></script><script src=\"/us-en/_next/static/chunks/webpack-147ea3ada7109f6dc0bb.js\" async=\"\"></script><script src=\"/us-en/_next/static/chunks/framework.29ebe0f9dddb05cbba29.js\" async=\"\"></script><script src=\"/us-en/_next/static/chunks/commons.e5f598b92e04294eff62.js\" async=\"\"></script><script src=\"/us-en/_next/static/chunks/f6078781a05fe1bcb0902d23dbbb2662c8d200b3.d2f601340e1658353edc.js\" async=\"\"></script><script src=\"/us-en/_next/static/chunks/main-d59f32872a3dad6be8fb.js\" async=\"\"></script><script src=\"/us-en/_next/static/chunks/styles.e0f3c79fc81ba8df8a42.js\" async=\"\"></script><script src=\"/us-en/_next/static/chunks/pages/_app-65bedc8ae529bedaed44.js\" async=\"\"></script><script src=\"/us-en/_next/static/chunks/1c920f04.fa1b4eb05ce405a540a0.js\" async=\"\"></script><script src=\"/us-en/_next/static/chunks/ebd65826.ee135565954bbb4a352c.js\" async=\"\"></script><script src=\"/us-en/_next/static/chunks/8edc3fe5.83f0205920daad6e982e.js\" async=\"\"></script><script src=\"/us-en/_next/static/chunks/fc20e1c4.ed4aef57e5c886d479ce.js\" async=\"\"></script><script src=\"/us-en/_next/static/chunks/pages/index-656dad1d44509f104fec.js\" async=\"\"></script><script src=\"/us-en/_next/static/Byn_CCQLu0qw2e25CsI3I/_buildManifest.js\" async=\"\"></script><script src=\"/us-en/_next/static/Byn_CCQLu0qw2e25CsI3I/_ssgManifest.js\" async=\"\"></script><script type=\"text/javascript\"  src=\"/eUrlUy/0_CID/zcwn7/vEaK/upYa2Qkk/D1JWNg/fkQFV/RFJbg4B\"></script><link rel=\"stylesheet\" type=\"text/css\"  href=\"/_sec/cp_challenge/sec-3-8.css\">\\n          <script  src=\"/_sec/cp_challenge/sec-cpt-3-8.js\" async defer></script>\\n          <div id=\"sec-overlay\" style=\"display:none;\">\\n          <div id=\"sec-container\">\\n          </div>\\n        </div></body></html>'"
      ]
     },
     "execution_count": 53,
     "metadata": {},
     "output_type": "execute_result"
    }
   ],
   "source": [
    "data  = requests.get(url).text \n",
    "data"
   ]
  },
  {
   "cell_type": "markdown",
   "metadata": {},
   "source": [
    "We create a <code>BeautifulSoup</code> object using the <code>BeautifulSoup</code> constructor\n"
   ]
  },
  {
   "cell_type": "code",
   "execution_count": 42,
   "metadata": {},
   "outputs": [],
   "source": [
    "soup = BeautifulSoup(data,\"html.parser\")  # create a soup object using the variable 'data'"
   ]
  },
  {
   "cell_type": "markdown",
   "metadata": {},
   "source": [
    "Scrape all links\n"
   ]
  },
  {
   "cell_type": "code",
   "execution_count": 43,
   "metadata": {},
   "outputs": [
    {
     "name": "stdout",
     "output_type": "stream",
     "text": [
      "#main-content\n",
      "http://www.ibm.com\n",
      "https://www.ibm.com/cloud/paks?lnk=ushpv18l1\n",
      "https://www.ibm.com/security/executive-order-cybersecurity?lnk=ushpv18f1\n",
      "https://www.ibm.com/consulting/technology/?lnk=ushpv18f2\n",
      "https://www.ibm.com/training/credentials?lnk=ushpv18f3\n",
      "https://www.ibm.com/blogs/blockchain/2021/09/dont-let-the-shipping-container-crisis-ruin-your-holidays-this-year/?lnk=ushpv18f4\n",
      "https://www.ibm.com/products/offers-and-discounts?link=ushpv18t5&lnk2=trial_mktpl_MPDISC\n",
      "https://www.ibm.com/cloud/cloud-pak-for-automation?lnk=ushpv18t1&lnk2=trial_CloudPakAtm&psrc=none&pexp=def\n",
      "https://www.ibm.com/cloud/watson-studio?lnk=ushpv18t2&lnk2=trial_WatStudio&psrc=none&pexp=def\n",
      "https://www.ibm.com/cloud/aspera?lnk=ushpv18t3&lnk2=trial_AsperaCloud&psrc=none&pexp=def\n",
      "https://www.ibm.com/security/identity-access-management/cloud-identity?lnk=ushpv18t4&lnk2=trial_Verify&psrc=none&pexp=def\n",
      "https://www.ibm.com/search?lnk=ushpv18srch&locale=en-us&q=\n",
      "https://www.ibm.com/products?lnk=ushpv18p1&lnk2=trial_mktpl&psrc=none&pexp=def\n",
      "https://www.ibm.com/cloud/hybrid?lnk=ushpv18pt14\n",
      "https://www.ibm.com/watson?lnk=ushpv18pt17\n",
      "https://www.ibm.com/it-infrastructure?lnk=ushpv18pt19\n",
      "https://www.ibm.com/us-en/products/categories?technologyTopics%5B0%5D%5B0%5D=cat.topic:Blockchain&isIBMOffering%5B0%5D=true&lnk=ushpv18pt4\n",
      "https://www.ibm.com/us-en/products/category/technology/security?lnk=ushpv18pt9\n",
      "https://www.ibm.com/us-en/products/category/technology/analytics?lnk=ushpv18pt1\n",
      "https://www.ibm.com/cloud/automation?lnk=ushpv18ct21\n",
      "https://www.ibm.com/quantum-computing?lnk=ushpv18pt16\n",
      "https://www.ibm.com/mysupport/s/?language=en_US&lnk=ushpv18ct11\n",
      "https://www.ibm.com/training/?lnk=ushpv18ct15\n",
      "https://developer.ibm.com/?lnk=ushpv18ct9\n",
      "https://www.ibm.com/garage?lnk=ushpv18pt18\n",
      "https://www.ibm.com/docs/en?lnk=ushpv18ct14\n",
      "https://www.redbooks.ibm.com/?lnk=ushpv18ct10\n",
      "https://www-03.ibm.com/employment/technicaltalent/developer/?lnk=ushpv18ct2\n",
      "https://www.ibm.com/case-studies/verizon-business/?lnk=ushpv18vn1\n",
      "https://www.ibm.com/case-studies/verizon-business/?lnk=ushpv18vn1\n",
      "https://www.ibm.com/\n"
     ]
    }
   ],
   "source": [
    "for link in soup.find_all('a',href=True):  # in html anchor/link is represented by the tag <a>\n",
    "\n",
    "    print(link.get('href'))\n"
   ]
  },
  {
   "cell_type": "markdown",
   "metadata": {},
   "source": [
    "## Scrape  all images  Tags\n"
   ]
  },
  {
   "cell_type": "code",
   "execution_count": 44,
   "metadata": {},
   "outputs": [
    {
     "name": "stdout",
     "output_type": "stream",
     "text": [
      "<img alt=\"\" aria-hidden=\"true\" role=\"presentation\" src=\"data:image/svg+xml;base64,PHN2ZyB3aWR0aD0iMTA1NSIgaGVpZ2h0PSI1MjcuNSIgeG1sbnM9Imh0dHA6Ly93d3cudzMub3JnLzIwMDAvc3ZnIiB2ZXJzaW9uPSIxLjEiLz4=\" style=\"max-width:100%;display:block;margin:0;border:none;padding:0\"/>\n",
      "data:image/svg+xml;base64,PHN2ZyB3aWR0aD0iMTA1NSIgaGVpZ2h0PSI1MjcuNSIgeG1sbnM9Imh0dHA6Ly93d3cudzMub3JnLzIwMDAvc3ZnIiB2ZXJzaW9uPSIxLjEiLz4=\n",
      "<img alt=\"leadspace mobile image\" class=\"ibm-resize\" decoding=\"async\" src=\"https://1.dam.s81c.com/public/content/dam/worldwide-content/homepage/ul/g/2f/bc/20211115-ls-cloud-paks-26257-720x360.jpg\" style=\"position:absolute;top:0;left:0;bottom:0;right:0;box-sizing:border-box;padding:0;border:none;margin:auto;display:block;width:0;height:0;min-width:100%;max-width:100%;min-height:100%;max-height:100%\"/>\n",
      "https://1.dam.s81c.com/public/content/dam/worldwide-content/homepage/ul/g/2f/bc/20211115-ls-cloud-paks-26257-720x360.jpg\n",
      "<img alt=\"\" aria-hidden=\"true\" role=\"presentation\" src=\"data:image/svg+xml;base64,PHN2ZyB3aWR0aD0iNDQwIiBoZWlnaHQ9IjMyMCIgeG1sbnM9Imh0dHA6Ly93d3cudzMub3JnLzIwMDAvc3ZnIiB2ZXJzaW9uPSIxLjEiLz4=\" style=\"max-width:100%;display:block;margin:0;border:none;padding:0\"/>\n",
      "data:image/svg+xml;base64,PHN2ZyB3aWR0aD0iNDQwIiBoZWlnaHQ9IjMyMCIgeG1sbnM9Imh0dHA6Ly93d3cudzMub3JnLzIwMDAvc3ZnIiB2ZXJzaW9uPSIxLjEiLz4=\n",
      "<img alt=\"U.S. Executive Order 14028\" class=\"ibm-resize ibm-ab-image featured-image\" decoding=\"async\" src=\"https://1.dam.s81c.com/public/content/dam/worldwide-content/homepage/ul/g/80/38/20211107-26227%20X-Force-executive-order-444x320.jpg\" style=\"position:absolute;top:0;left:0;bottom:0;right:0;box-sizing:border-box;padding:0;border:none;margin:auto;display:block;width:0;height:0;min-width:100%;max-width:100%;min-height:100%;max-height:100%\"/>\n",
      "https://1.dam.s81c.com/public/content/dam/worldwide-content/homepage/ul/g/80/38/20211107-26227%20X-Force-executive-order-444x320.jpg\n",
      "<img alt=\"\" aria-hidden=\"true\" role=\"presentation\" src=\"data:image/svg+xml;base64,PHN2ZyB3aWR0aD0iNDQwIiBoZWlnaHQ9IjMyMCIgeG1sbnM9Imh0dHA6Ly93d3cudzMub3JnLzIwMDAvc3ZnIiB2ZXJzaW9uPSIxLjEiLz4=\" style=\"max-width:100%;display:block;margin:0;border:none;padding:0\"/>\n",
      "data:image/svg+xml;base64,PHN2ZyB3aWR0aD0iNDQwIiBoZWlnaHQ9IjMyMCIgeG1sbnM9Imh0dHA6Ly93d3cudzMub3JnLzIwMDAvc3ZnIiB2ZXJzaW9uPSIxLjEiLz4=\n",
      "<img alt=\"IBM Consulting for technology\" class=\"ibm-resize ibm-ab-image featured-image\" decoding=\"async\" src=\"https://1.dam.s81c.com/public/content/dam/worldwide-content/homepage/ul/g/57/06/20211101-f-consulting-technology-26225.jpg\" style=\"position:absolute;top:0;left:0;bottom:0;right:0;box-sizing:border-box;padding:0;border:none;margin:auto;display:block;width:0;height:0;min-width:100%;max-width:100%;min-height:100%;max-height:100%\"/>\n",
      "https://1.dam.s81c.com/public/content/dam/worldwide-content/homepage/ul/g/57/06/20211101-f-consulting-technology-26225.jpg\n",
      "<img alt=\"\" aria-hidden=\"true\" role=\"presentation\" src=\"data:image/svg+xml;base64,PHN2ZyB3aWR0aD0iNDQwIiBoZWlnaHQ9IjMyMCIgeG1sbnM9Imh0dHA6Ly93d3cudzMub3JnLzIwMDAvc3ZnIiB2ZXJzaW9uPSIxLjEiLz4=\" style=\"max-width:100%;display:block;margin:0;border:none;padding:0\"/>\n",
      "data:image/svg+xml;base64,PHN2ZyB3aWR0aD0iNDQwIiBoZWlnaHQ9IjMyMCIgeG1sbnM9Imh0dHA6Ly93d3cudzMub3JnLzIwMDAvc3ZnIiB2ZXJzaW9uPSIxLjEiLz4=\n",
      "<img alt=\"To accelerate your career, start&amp;nbsp;here\" class=\"ibm-resize ibm-ab-image featured-image\" decoding=\"async\" src=\"https://1.dam.s81c.com/public/content/dam/worldwide-content/homepage/ul/g/fd/39/20211107-26176-credential-experience-444x320.jpg\" style=\"position:absolute;top:0;left:0;bottom:0;right:0;box-sizing:border-box;padding:0;border:none;margin:auto;display:block;width:0;height:0;min-width:100%;max-width:100%;min-height:100%;max-height:100%\"/>\n",
      "https://1.dam.s81c.com/public/content/dam/worldwide-content/homepage/ul/g/fd/39/20211107-26176-credential-experience-444x320.jpg\n",
      "<img alt=\"\" aria-hidden=\"true\" role=\"presentation\" src=\"data:image/svg+xml;base64,PHN2ZyB3aWR0aD0iNDQwIiBoZWlnaHQ9IjMyMCIgeG1sbnM9Imh0dHA6Ly93d3cudzMub3JnLzIwMDAvc3ZnIiB2ZXJzaW9uPSIxLjEiLz4=\" style=\"max-width:100%;display:block;margin:0;border:none;padding:0\"/>\n",
      "data:image/svg+xml;base64,PHN2ZyB3aWR0aD0iNDQwIiBoZWlnaHQ9IjMyMCIgeG1sbnM9Imh0dHA6Ly93d3cudzMub3JnLzIwMDAvc3ZnIiB2ZXJzaW9uPSIxLjEiLz4=\n",
      "<img alt=\"Demand is up but your supply isn&amp;#8217;t?\" class=\"ibm-resize ibm-ab-image featured-image\" decoding=\"async\" src=\"https://1.dam.s81c.com/public/content/dam/worldwide-content/homepage/ul/g/37/67/20211107-26238-supply-chain-crisis-444x320.jpg\" style=\"position:absolute;top:0;left:0;bottom:0;right:0;box-sizing:border-box;padding:0;border:none;margin:auto;display:block;width:0;height:0;min-width:100%;max-width:100%;min-height:100%;max-height:100%\"/>\n",
      "https://1.dam.s81c.com/public/content/dam/worldwide-content/homepage/ul/g/37/67/20211107-26238-supply-chain-crisis-444x320.jpg\n",
      "<img alt=\"\" aria-hidden=\"true\" role=\"presentation\" src=\"data:image/svg+xml;base64,PHN2ZyB3aWR0aD0iNDQwIiBoZWlnaHQ9IjI2MCIgeG1sbnM9Imh0dHA6Ly93d3cudzMub3JnLzIwMDAvc3ZnIiB2ZXJzaW9uPSIxLjEiLz4=\" style=\"max-width:100%;display:block;margin:0;border:none;padding:0\"/>\n",
      "data:image/svg+xml;base64,PHN2ZyB3aWR0aD0iNDQwIiBoZWlnaHQ9IjI2MCIgeG1sbnM9Imh0dHA6Ly93d3cudzMub3JnLzIwMDAvc3ZnIiB2ZXJzaW9uPSIxLjEiLz4=\n",
      "<img alt=\"IBM Cloud Pak for Automation\" class=\"ibm-resize ibm-ab-image trials-image\" decoding=\"async\" src=\"https://1.dam.s81c.com/public/content/dam/worldwide-content/homepage/ul/g/ab/f7/Cloud-pak-for-automation-444x260.png\" style=\"position:absolute;top:0;left:0;bottom:0;right:0;box-sizing:border-box;padding:0;border:none;margin:auto;display:block;width:0;height:0;min-width:100%;max-width:100%;min-height:100%;max-height:100%\"/>\n",
      "https://1.dam.s81c.com/public/content/dam/worldwide-content/homepage/ul/g/ab/f7/Cloud-pak-for-automation-444x260.png\n",
      "<img alt=\"IBM Cloud Pak for Automation\" class=\"ibm-resize ibm-ab-image trials-image\" decoding=\"async\" src=\"data:image/gif;base64,R0lGODlhAQABAIAAAAAAAP///yH5BAEAAAAALAAAAAABAAEAAAIBRAA7\" style=\"position:absolute;top:0;left:0;bottom:0;right:0;box-sizing:border-box;padding:0;border:none;margin:auto;display:block;width:0;height:0;min-width:100%;max-width:100%;min-height:100%;max-height:100%\"/>\n",
      "data:image/gif;base64,R0lGODlhAQABAIAAAAAAAP///yH5BAEAAAAALAAAAAABAAEAAAIBRAA7\n",
      "<img alt=\"\" aria-hidden=\"true\" role=\"presentation\" src=\"data:image/svg+xml;base64,PHN2ZyB3aWR0aD0iNDQwIiBoZWlnaHQ9IjI2MCIgeG1sbnM9Imh0dHA6Ly93d3cudzMub3JnLzIwMDAvc3ZnIiB2ZXJzaW9uPSIxLjEiLz4=\" style=\"max-width:100%;display:block;margin:0;border:none;padding:0\"/>\n",
      "data:image/svg+xml;base64,PHN2ZyB3aWR0aD0iNDQwIiBoZWlnaHQ9IjI2MCIgeG1sbnM9Imh0dHA6Ly93d3cudzMub3JnLzIwMDAvc3ZnIiB2ZXJzaW9uPSIxLjEiLz4=\n",
      "<img alt=\"IBM Watson Studio\" class=\"ibm-resize ibm-ab-image trials-image\" decoding=\"async\" src=\"https://1.dam.s81c.com/public/content/dam/worldwide-content/homepage/ul/g/58/44/Watson-Studio-Desktop-21039-700x420.png\" style=\"position:absolute;top:0;left:0;bottom:0;right:0;box-sizing:border-box;padding:0;border:none;margin:auto;display:block;width:0;height:0;min-width:100%;max-width:100%;min-height:100%;max-height:100%\"/>\n",
      "https://1.dam.s81c.com/public/content/dam/worldwide-content/homepage/ul/g/58/44/Watson-Studio-Desktop-21039-700x420.png\n",
      "<img alt=\"IBM Watson Studio\" class=\"ibm-resize ibm-ab-image trials-image\" decoding=\"async\" src=\"data:image/gif;base64,R0lGODlhAQABAIAAAAAAAP///yH5BAEAAAAALAAAAAABAAEAAAIBRAA7\" style=\"position:absolute;top:0;left:0;bottom:0;right:0;box-sizing:border-box;padding:0;border:none;margin:auto;display:block;width:0;height:0;min-width:100%;max-width:100%;min-height:100%;max-height:100%\"/>\n",
      "data:image/gif;base64,R0lGODlhAQABAIAAAAAAAP///yH5BAEAAAAALAAAAAABAAEAAAIBRAA7\n",
      "<img alt=\"\" aria-hidden=\"true\" role=\"presentation\" src=\"data:image/svg+xml;base64,PHN2ZyB3aWR0aD0iNDQwIiBoZWlnaHQ9IjI2MCIgeG1sbnM9Imh0dHA6Ly93d3cudzMub3JnLzIwMDAvc3ZnIiB2ZXJzaW9uPSIxLjEiLz4=\" style=\"max-width:100%;display:block;margin:0;border:none;padding:0\"/>\n",
      "data:image/svg+xml;base64,PHN2ZyB3aWR0aD0iNDQwIiBoZWlnaHQ9IjI2MCIgeG1sbnM9Imh0dHA6Ly93d3cudzMub3JnLzIwMDAvc3ZnIiB2ZXJzaW9uPSIxLjEiLz4=\n",
      "<img alt=\"IBM Aspera on Cloud\" class=\"ibm-resize ibm-ab-image trials-image\" decoding=\"async\" src=\"https://1.dam.s81c.com/public/content/dam/worldwide-content/homepage/ul/g/e5/32/Aspera-on-Cloud-19783-700x420.png\" style=\"position:absolute;top:0;left:0;bottom:0;right:0;box-sizing:border-box;padding:0;border:none;margin:auto;display:block;width:0;height:0;min-width:100%;max-width:100%;min-height:100%;max-height:100%\"/>\n",
      "https://1.dam.s81c.com/public/content/dam/worldwide-content/homepage/ul/g/e5/32/Aspera-on-Cloud-19783-700x420.png\n",
      "<img alt=\"IBM Aspera on Cloud\" class=\"ibm-resize ibm-ab-image trials-image\" decoding=\"async\" src=\"data:image/gif;base64,R0lGODlhAQABAIAAAAAAAP///yH5BAEAAAAALAAAAAABAAEAAAIBRAA7\" style=\"position:absolute;top:0;left:0;bottom:0;right:0;box-sizing:border-box;padding:0;border:none;margin:auto;display:block;width:0;height:0;min-width:100%;max-width:100%;min-height:100%;max-height:100%\"/>\n",
      "data:image/gif;base64,R0lGODlhAQABAIAAAAAAAP///yH5BAEAAAAALAAAAAABAAEAAAIBRAA7\n",
      "<img alt=\"\" aria-hidden=\"true\" role=\"presentation\" src=\"data:image/svg+xml;base64,PHN2ZyB3aWR0aD0iNDQwIiBoZWlnaHQ9IjI2MCIgeG1sbnM9Imh0dHA6Ly93d3cudzMub3JnLzIwMDAvc3ZnIiB2ZXJzaW9uPSIxLjEiLz4=\" style=\"max-width:100%;display:block;margin:0;border:none;padding:0\"/>\n",
      "data:image/svg+xml;base64,PHN2ZyB3aWR0aD0iNDQwIiBoZWlnaHQ9IjI2MCIgeG1sbnM9Imh0dHA6Ly93d3cudzMub3JnLzIwMDAvc3ZnIiB2ZXJzaW9uPSIxLjEiLz4=\n",
      "<img alt=\"IBM Security Verify\" class=\"ibm-resize ibm-ab-image trials-image\" decoding=\"async\" src=\"https://1.dam.s81c.com/public/content/dam/worldwide-content/homepage/ul/g/15/16/cloud-transformation-trial-700x420.png\" style=\"position:absolute;top:0;left:0;bottom:0;right:0;box-sizing:border-box;padding:0;border:none;margin:auto;display:block;width:0;height:0;min-width:100%;max-width:100%;min-height:100%;max-height:100%\"/>\n",
      "https://1.dam.s81c.com/public/content/dam/worldwide-content/homepage/ul/g/15/16/cloud-transformation-trial-700x420.png\n",
      "<img alt=\"IBM Security Verify\" class=\"ibm-resize ibm-ab-image trials-image\" decoding=\"async\" src=\"data:image/gif;base64,R0lGODlhAQABAIAAAAAAAP///yH5BAEAAAAALAAAAAABAAEAAAIBRAA7\" style=\"position:absolute;top:0;left:0;bottom:0;right:0;box-sizing:border-box;padding:0;border:none;margin:auto;display:block;width:0;height:0;min-width:100%;max-width:100%;min-height:100%;max-height:100%\"/>\n",
      "data:image/gif;base64,R0lGODlhAQABAIAAAAAAAP///yH5BAEAAAAALAAAAAABAAEAAAIBRAA7\n"
     ]
    }
   ],
   "source": [
    "for link in soup.find_all('img'):# in html image is represented by the tag <img>\n",
    "    print(link)\n",
    "    print(link.get('src'))"
   ]
  },
  {
   "cell_type": "markdown",
   "metadata": {},
   "source": [
    "## Scrape data from HTML tables\n"
   ]
  },
  {
   "cell_type": "code",
   "execution_count": 45,
   "metadata": {},
   "outputs": [],
   "source": [
    "#The below url contains an html table with data about colors and color codes.\n",
    "url = \"https://cf-courses-data.s3.us.cloud-object-storage.appdomain.cloud/IBM-DA0321EN-SkillsNetwork/labs/datasets/HTMLColorCodes.html\""
   ]
  },
  {
   "cell_type": "markdown",
   "metadata": {},
   "source": [
    "Before proceeding to scrape a web site, you need to examine the contents, and the way data is organized on the website. Open the above url in your browser and check how many rows and columns are there in the color table.\n"
   ]
  },
  {
   "cell_type": "code",
   "execution_count": 46,
   "metadata": {},
   "outputs": [],
   "source": [
    "# get the contents of the webpage in text format and store in a variable called data\n",
    "data  = requests.get(url).text"
   ]
  },
  {
   "cell_type": "code",
   "execution_count": 47,
   "metadata": {},
   "outputs": [],
   "source": [
    "soup = BeautifulSoup(data,\"html.parser\")"
   ]
  },
  {
   "cell_type": "code",
   "execution_count": 48,
   "metadata": {},
   "outputs": [],
   "source": [
    "#find a html table in the web page\n",
    "table = soup.find('table') # in html table is represented by the tag <table>"
   ]
  },
  {
   "cell_type": "code",
   "execution_count": 49,
   "metadata": {},
   "outputs": [
    {
     "name": "stdout",
     "output_type": "stream",
     "text": [
      "Color Name--->None\n",
      "lightsalmon--->#FFA07A\n",
      "salmon--->#FA8072\n",
      "darksalmon--->#E9967A\n",
      "lightcoral--->#F08080\n",
      "coral--->#FF7F50\n",
      "tomato--->#FF6347\n",
      "orangered--->#FF4500\n",
      "gold--->#FFD700\n",
      "orange--->#FFA500\n",
      "darkorange--->#FF8C00\n",
      "lightyellow--->#FFFFE0\n",
      "lemonchiffon--->#FFFACD\n",
      "papayawhip--->#FFEFD5\n",
      "moccasin--->#FFE4B5\n",
      "peachpuff--->#FFDAB9\n",
      "palegoldenrod--->#EEE8AA\n",
      "khaki--->#F0E68C\n",
      "darkkhaki--->#BDB76B\n",
      "yellow--->#FFFF00\n",
      "lawngreen--->#7CFC00\n",
      "chartreuse--->#7FFF00\n",
      "limegreen--->#32CD32\n",
      "lime--->#00FF00\n",
      "forestgreen--->#228B22\n",
      "green--->#008000\n",
      "powderblue--->#B0E0E6\n",
      "lightblue--->#ADD8E6\n",
      "lightskyblue--->#87CEFA\n",
      "skyblue--->#87CEEB\n",
      "deepskyblue--->#00BFFF\n",
      "lightsteelblue--->#B0C4DE\n",
      "dodgerblue--->#1E90FF\n"
     ]
    }
   ],
   "source": [
    "#Get all rows from the table\n",
    "for row in table.find_all('tr'): # in html table row is represented by the tag <tr>\n",
    "    # Get all columns in each row.\n",
    "    cols = row.find_all('td') # in html a column is represented by the tag <td>\n",
    "    color_name = cols[2].string # store the value in column 3 as color_name\n",
    "    color_code = cols[3].string # store the value in column 4 as color_code\n",
    "    print(\"{}--->{}\".format(color_name,color_code))"
   ]
  },
  {
   "cell_type": "markdown",
   "metadata": {},
   "source": [
    "## Scrape data from HTML tables into a DataFrame using BeautifulSoup and Pandas\n"
   ]
  },
  {
   "cell_type": "code",
   "execution_count": 50,
   "metadata": {},
   "outputs": [],
   "source": [
    "import pandas as pd"
   ]
  },
  {
   "cell_type": "code",
   "execution_count": 51,
   "metadata": {},
   "outputs": [],
   "source": [
    "#The below url contains html tables with data about world population.\n",
    "url = \"https://en.wikipedia.org/wiki/World_population\""
   ]
  },
  {
   "cell_type": "markdown",
   "metadata": {},
   "source": [
    "Before proceeding to scrape a web site, you need to examine the contents, and the way data is organized on the website. Open the above url in your browser and check the tables on the webpage.\n"
   ]
  },
  {
   "cell_type": "code",
   "execution_count": 52,
   "metadata": {},
   "outputs": [],
   "source": [
    "# get the contents of the webpage in text format and store in a variable called data\n",
    "data  = requests.get(url).text"
   ]
  },
  {
   "cell_type": "code",
   "execution_count": 53,
   "metadata": {},
   "outputs": [],
   "source": [
    "soup = BeautifulSoup(data,\"html.parser\")"
   ]
  },
  {
   "cell_type": "code",
   "execution_count": 54,
   "metadata": {},
   "outputs": [],
   "source": [
    "#find all html tables in the web page\n",
    "tables = soup.find_all('table') # in html table is represented by the tag <table>"
   ]
  },
  {
   "cell_type": "code",
   "execution_count": 55,
   "metadata": {},
   "outputs": [
    {
     "data": {
      "text/plain": [
       "26"
      ]
     },
     "execution_count": 55,
     "metadata": {},
     "output_type": "execute_result"
    }
   ],
   "source": [
    "# we can see how many tables were found by checking the length of the tables list\n",
    "len(tables)"
   ]
  },
  {
   "cell_type": "markdown",
   "metadata": {},
   "source": [
    "Assume that we are looking for the `10 most densly populated countries` table, we can look through the tables list and find the right one we are look for based on the data in each table or we can search for the table name if it is in the table but this option might not always work.\n"
   ]
  },
  {
   "cell_type": "code",
   "execution_count": 56,
   "metadata": {},
   "outputs": [
    {
     "name": "stdout",
     "output_type": "stream",
     "text": [
      "5\n"
     ]
    }
   ],
   "source": [
    "for index,table in enumerate(tables):\n",
    "    if (\"10 most densely populated countries\" in str(table)):\n",
    "        table_index = index\n",
    "print(table_index)"
   ]
  },
  {
   "cell_type": "markdown",
   "metadata": {},
   "source": [
    "See if you can locate the table name of the table, `10 most densly populated countries`, below.\n"
   ]
  },
  {
   "cell_type": "code",
   "execution_count": 57,
   "metadata": {},
   "outputs": [
    {
     "name": "stdout",
     "output_type": "stream",
     "text": [
      "<table class=\"wikitable sortable\" style=\"text-align:right\">\n",
      " <caption>\n",
      "  10 most densely populated countries\n",
      "  <small>\n",
      "   (with population above 5 million)\n",
      "  </small>\n",
      " </caption>\n",
      " <tbody>\n",
      "  <tr>\n",
      "   <th>\n",
      "    Rank\n",
      "   </th>\n",
      "   <th>\n",
      "    Country\n",
      "   </th>\n",
      "   <th>\n",
      "    Population\n",
      "   </th>\n",
      "   <th>\n",
      "    Area\n",
      "    <br/>\n",
      "    <small>\n",
      "     (km\n",
      "     <sup>\n",
      "      2\n",
      "     </sup>\n",
      "     )\n",
      "    </small>\n",
      "   </th>\n",
      "   <th>\n",
      "    Density\n",
      "    <br/>\n",
      "    <small>\n",
      "     (pop/km\n",
      "     <sup>\n",
      "      2\n",
      "     </sup>\n",
      "     )\n",
      "    </small>\n",
      "   </th>\n",
      "  </tr>\n",
      "  <tr>\n",
      "   <td>\n",
      "    1\n",
      "   </td>\n",
      "   <td align=\"left\">\n",
      "    <span class=\"flagicon\">\n",
      "     <img alt=\"\" class=\"thumbborder\" data-file-height=\"600\" data-file-width=\"900\" decoding=\"async\" height=\"15\" src=\"//upload.wikimedia.org/wikipedia/commons/thumb/4/48/Flag_of_Singapore.svg/23px-Flag_of_Singapore.svg.png\" srcset=\"//upload.wikimedia.org/wikipedia/commons/thumb/4/48/Flag_of_Singapore.svg/35px-Flag_of_Singapore.svg.png 1.5x, //upload.wikimedia.org/wikipedia/commons/thumb/4/48/Flag_of_Singapore.svg/45px-Flag_of_Singapore.svg.png 2x\" width=\"23\"/>\n",
      "    </span>\n",
      "    <a href=\"/wiki/Singapore\" title=\"Singapore\">\n",
      "     Singapore\n",
      "    </a>\n",
      "   </td>\n",
      "   <td>\n",
      "    5,704,000\n",
      "   </td>\n",
      "   <td>\n",
      "    710\n",
      "   </td>\n",
      "   <td>\n",
      "    8,033\n",
      "   </td>\n",
      "  </tr>\n",
      "  <tr>\n",
      "   <td>\n",
      "    2\n",
      "   </td>\n",
      "   <td align=\"left\">\n",
      "    <span class=\"flagicon\">\n",
      "     <img alt=\"\" class=\"thumbborder\" data-file-height=\"600\" data-file-width=\"1000\" decoding=\"async\" height=\"14\" src=\"//upload.wikimedia.org/wikipedia/commons/thumb/f/f9/Flag_of_Bangladesh.svg/23px-Flag_of_Bangladesh.svg.png\" srcset=\"//upload.wikimedia.org/wikipedia/commons/thumb/f/f9/Flag_of_Bangladesh.svg/35px-Flag_of_Bangladesh.svg.png 1.5x, //upload.wikimedia.org/wikipedia/commons/thumb/f/f9/Flag_of_Bangladesh.svg/46px-Flag_of_Bangladesh.svg.png 2x\" width=\"23\"/>\n",
      "    </span>\n",
      "    <a href=\"/wiki/Bangladesh\" title=\"Bangladesh\">\n",
      "     Bangladesh\n",
      "    </a>\n",
      "   </td>\n",
      "   <td>\n",
      "    171,670,000\n",
      "   </td>\n",
      "   <td>\n",
      "    143,998\n",
      "   </td>\n",
      "   <td>\n",
      "    1,192\n",
      "   </td>\n",
      "  </tr>\n",
      "  <tr>\n",
      "   <td>\n",
      "    3\n",
      "   </td>\n",
      "   <td align=\"left\">\n",
      "    <p>\n",
      "     <span class=\"flagicon\">\n",
      "      <img alt=\"\" class=\"thumbborder\" data-file-height=\"600\" data-file-width=\"1200\" decoding=\"async\" height=\"12\" src=\"//upload.wikimedia.org/wikipedia/commons/thumb/0/00/Flag_of_Palestine.svg/23px-Flag_of_Palestine.svg.png\" srcset=\"//upload.wikimedia.org/wikipedia/commons/thumb/0/00/Flag_of_Palestine.svg/35px-Flag_of_Palestine.svg.png 1.5x, //upload.wikimedia.org/wikipedia/commons/thumb/0/00/Flag_of_Palestine.svg/46px-Flag_of_Palestine.svg.png 2x\" width=\"23\"/>\n",
      "     </span>\n",
      "     <a href=\"/wiki/State_of_Palestine\" title=\"State of Palestine\">\n",
      "      Palestine\n",
      "     </a>\n",
      "    </p>\n",
      "   </td>\n",
      "   <td>\n",
      "    5,266,785\n",
      "   </td>\n",
      "   <td>\n",
      "    6,020\n",
      "   </td>\n",
      "   <td>\n",
      "    847\n",
      "   </td>\n",
      "  </tr>\n",
      "  <tr>\n",
      "   <td>\n",
      "    4\n",
      "   </td>\n",
      "   <td align=\"left\">\n",
      "    <span class=\"flagicon\">\n",
      "     <img alt=\"\" class=\"thumbborder\" data-file-height=\"600\" data-file-width=\"900\" decoding=\"async\" height=\"15\" src=\"//upload.wikimedia.org/wikipedia/commons/thumb/5/59/Flag_of_Lebanon.svg/23px-Flag_of_Lebanon.svg.png\" srcset=\"//upload.wikimedia.org/wikipedia/commons/thumb/5/59/Flag_of_Lebanon.svg/35px-Flag_of_Lebanon.svg.png 1.5x, //upload.wikimedia.org/wikipedia/commons/thumb/5/59/Flag_of_Lebanon.svg/45px-Flag_of_Lebanon.svg.png 2x\" width=\"23\"/>\n",
      "    </span>\n",
      "    <a href=\"/wiki/Lebanon\" title=\"Lebanon\">\n",
      "     Lebanon\n",
      "    </a>\n",
      "   </td>\n",
      "   <td>\n",
      "    6,856,000\n",
      "   </td>\n",
      "   <td>\n",
      "    10,452\n",
      "   </td>\n",
      "   <td>\n",
      "    656\n",
      "   </td>\n",
      "  </tr>\n",
      "  <tr>\n",
      "   <td>\n",
      "    5\n",
      "   </td>\n",
      "   <td align=\"left\">\n",
      "    <span class=\"flagicon\">\n",
      "     <img alt=\"\" class=\"thumbborder\" data-file-height=\"600\" data-file-width=\"900\" decoding=\"async\" height=\"15\" src=\"//upload.wikimedia.org/wikipedia/commons/thumb/7/72/Flag_of_the_Republic_of_China.svg/23px-Flag_of_the_Republic_of_China.svg.png\" srcset=\"//upload.wikimedia.org/wikipedia/commons/thumb/7/72/Flag_of_the_Republic_of_China.svg/35px-Flag_of_the_Republic_of_China.svg.png 1.5x, //upload.wikimedia.org/wikipedia/commons/thumb/7/72/Flag_of_the_Republic_of_China.svg/45px-Flag_of_the_Republic_of_China.svg.png 2x\" width=\"23\"/>\n",
      "    </span>\n",
      "    <a href=\"/wiki/Taiwan\" title=\"Taiwan\">\n",
      "     Taiwan\n",
      "    </a>\n",
      "   </td>\n",
      "   <td>\n",
      "    23,604,000\n",
      "   </td>\n",
      "   <td>\n",
      "    36,193\n",
      "   </td>\n",
      "   <td>\n",
      "    652\n",
      "   </td>\n",
      "  </tr>\n",
      "  <tr>\n",
      "   <td>\n",
      "    6\n",
      "   </td>\n",
      "   <td align=\"left\">\n",
      "    <span class=\"flagicon\">\n",
      "     <img alt=\"\" class=\"thumbborder\" data-file-height=\"600\" data-file-width=\"900\" decoding=\"async\" height=\"15\" src=\"//upload.wikimedia.org/wikipedia/commons/thumb/0/09/Flag_of_South_Korea.svg/23px-Flag_of_South_Korea.svg.png\" srcset=\"//upload.wikimedia.org/wikipedia/commons/thumb/0/09/Flag_of_South_Korea.svg/35px-Flag_of_South_Korea.svg.png 1.5x, //upload.wikimedia.org/wikipedia/commons/thumb/0/09/Flag_of_South_Korea.svg/45px-Flag_of_South_Korea.svg.png 2x\" width=\"23\"/>\n",
      "    </span>\n",
      "    <a href=\"/wiki/South_Korea\" title=\"South Korea\">\n",
      "     South Korea\n",
      "    </a>\n",
      "   </td>\n",
      "   <td>\n",
      "    51,781,000\n",
      "   </td>\n",
      "   <td>\n",
      "    99,538\n",
      "   </td>\n",
      "   <td>\n",
      "    520\n",
      "   </td>\n",
      "  </tr>\n",
      "  <tr>\n",
      "   <td>\n",
      "    7\n",
      "   </td>\n",
      "   <td align=\"left\">\n",
      "    <span class=\"flagicon\">\n",
      "     <img alt=\"\" class=\"thumbborder\" data-file-height=\"720\" data-file-width=\"1080\" decoding=\"async\" height=\"15\" src=\"//upload.wikimedia.org/wikipedia/commons/thumb/1/17/Flag_of_Rwanda.svg/23px-Flag_of_Rwanda.svg.png\" srcset=\"//upload.wikimedia.org/wikipedia/commons/thumb/1/17/Flag_of_Rwanda.svg/35px-Flag_of_Rwanda.svg.png 1.5x, //upload.wikimedia.org/wikipedia/commons/thumb/1/17/Flag_of_Rwanda.svg/45px-Flag_of_Rwanda.svg.png 2x\" width=\"23\"/>\n",
      "    </span>\n",
      "    <a href=\"/wiki/Rwanda\" title=\"Rwanda\">\n",
      "     Rwanda\n",
      "    </a>\n",
      "   </td>\n",
      "   <td>\n",
      "    12,374,000\n",
      "   </td>\n",
      "   <td>\n",
      "    26,338\n",
      "   </td>\n",
      "   <td>\n",
      "    470\n",
      "   </td>\n",
      "  </tr>\n",
      "  <tr>\n",
      "   <td>\n",
      "    8\n",
      "   </td>\n",
      "   <td align=\"left\">\n",
      "    <span class=\"flagicon\">\n",
      "     <img alt=\"\" class=\"thumbborder\" data-file-height=\"600\" data-file-width=\"1000\" decoding=\"async\" height=\"14\" src=\"//upload.wikimedia.org/wikipedia/commons/thumb/5/56/Flag_of_Haiti.svg/23px-Flag_of_Haiti.svg.png\" srcset=\"//upload.wikimedia.org/wikipedia/commons/thumb/5/56/Flag_of_Haiti.svg/35px-Flag_of_Haiti.svg.png 1.5x, //upload.wikimedia.org/wikipedia/commons/thumb/5/56/Flag_of_Haiti.svg/46px-Flag_of_Haiti.svg.png 2x\" width=\"23\"/>\n",
      "    </span>\n",
      "    <a href=\"/wiki/Haiti\" title=\"Haiti\">\n",
      "     Haiti\n",
      "    </a>\n",
      "   </td>\n",
      "   <td>\n",
      "    11,578,000\n",
      "   </td>\n",
      "   <td>\n",
      "    27,065\n",
      "   </td>\n",
      "   <td>\n",
      "    428\n",
      "   </td>\n",
      "  </tr>\n",
      "  <tr>\n",
      "   <td>\n",
      "    9\n",
      "   </td>\n",
      "   <td align=\"left\">\n",
      "    <span class=\"flagicon\">\n",
      "     <img alt=\"\" class=\"thumbborder\" data-file-height=\"600\" data-file-width=\"900\" decoding=\"async\" height=\"15\" src=\"//upload.wikimedia.org/wikipedia/commons/thumb/2/20/Flag_of_the_Netherlands.svg/23px-Flag_of_the_Netherlands.svg.png\" srcset=\"//upload.wikimedia.org/wikipedia/commons/thumb/2/20/Flag_of_the_Netherlands.svg/35px-Flag_of_the_Netherlands.svg.png 1.5x, //upload.wikimedia.org/wikipedia/commons/thumb/2/20/Flag_of_the_Netherlands.svg/45px-Flag_of_the_Netherlands.svg.png 2x\" width=\"23\"/>\n",
      "    </span>\n",
      "    <a href=\"/wiki/Netherlands\" title=\"Netherlands\">\n",
      "     Netherlands\n",
      "    </a>\n",
      "   </td>\n",
      "   <td>\n",
      "    17,660,000\n",
      "   </td>\n",
      "   <td>\n",
      "    41,526\n",
      "   </td>\n",
      "   <td>\n",
      "    425\n",
      "   </td>\n",
      "  </tr>\n",
      "  <tr>\n",
      "   <td>\n",
      "    10\n",
      "   </td>\n",
      "   <td align=\"left\">\n",
      "    <span class=\"flagicon\">\n",
      "     <img alt=\"\" class=\"thumbborder\" data-file-height=\"800\" data-file-width=\"1100\" decoding=\"async\" height=\"15\" src=\"//upload.wikimedia.org/wikipedia/commons/thumb/d/d4/Flag_of_Israel.svg/21px-Flag_of_Israel.svg.png\" srcset=\"//upload.wikimedia.org/wikipedia/commons/thumb/d/d4/Flag_of_Israel.svg/32px-Flag_of_Israel.svg.png 1.5x, //upload.wikimedia.org/wikipedia/commons/thumb/d/d4/Flag_of_Israel.svg/41px-Flag_of_Israel.svg.png 2x\" width=\"21\"/>\n",
      "    </span>\n",
      "    <a href=\"/wiki/Israel\" title=\"Israel\">\n",
      "     Israel\n",
      "    </a>\n",
      "   </td>\n",
      "   <td>\n",
      "    9,430,000\n",
      "   </td>\n",
      "   <td>\n",
      "    22,072\n",
      "   </td>\n",
      "   <td>\n",
      "    427\n",
      "   </td>\n",
      "  </tr>\n",
      " </tbody>\n",
      "</table>\n",
      "\n"
     ]
    }
   ],
   "source": [
    "print(tables[table_index].prettify())"
   ]
  },
  {
   "cell_type": "code",
   "execution_count": 58,
   "metadata": {},
   "outputs": [
    {
     "data": {
      "text/html": [
       "<div>\n",
       "<style scoped>\n",
       "    .dataframe tbody tr th:only-of-type {\n",
       "        vertical-align: middle;\n",
       "    }\n",
       "\n",
       "    .dataframe tbody tr th {\n",
       "        vertical-align: top;\n",
       "    }\n",
       "\n",
       "    .dataframe thead th {\n",
       "        text-align: right;\n",
       "    }\n",
       "</style>\n",
       "<table border=\"1\" class=\"dataframe\">\n",
       "  <thead>\n",
       "    <tr style=\"text-align: right;\">\n",
       "      <th></th>\n",
       "      <th>Rank</th>\n",
       "      <th>Country</th>\n",
       "      <th>Population</th>\n",
       "      <th>Area</th>\n",
       "      <th>Density</th>\n",
       "    </tr>\n",
       "  </thead>\n",
       "  <tbody>\n",
       "    <tr>\n",
       "      <th>0</th>\n",
       "      <td>1</td>\n",
       "      <td>Singapore</td>\n",
       "      <td>5,704,000</td>\n",
       "      <td>710</td>\n",
       "      <td>8,033</td>\n",
       "    </tr>\n",
       "    <tr>\n",
       "      <th>1</th>\n",
       "      <td>2</td>\n",
       "      <td>Bangladesh</td>\n",
       "      <td>171,670,000</td>\n",
       "      <td>143,998</td>\n",
       "      <td>1,192</td>\n",
       "    </tr>\n",
       "    <tr>\n",
       "      <th>2</th>\n",
       "      <td>3</td>\n",
       "      <td>\\n Palestine\\n\\n</td>\n",
       "      <td>5,266,785</td>\n",
       "      <td>6,020</td>\n",
       "      <td>847</td>\n",
       "    </tr>\n",
       "    <tr>\n",
       "      <th>3</th>\n",
       "      <td>4</td>\n",
       "      <td>Lebanon</td>\n",
       "      <td>6,856,000</td>\n",
       "      <td>10,452</td>\n",
       "      <td>656</td>\n",
       "    </tr>\n",
       "    <tr>\n",
       "      <th>4</th>\n",
       "      <td>5</td>\n",
       "      <td>Taiwan</td>\n",
       "      <td>23,604,000</td>\n",
       "      <td>36,193</td>\n",
       "      <td>652</td>\n",
       "    </tr>\n",
       "    <tr>\n",
       "      <th>5</th>\n",
       "      <td>6</td>\n",
       "      <td>South Korea</td>\n",
       "      <td>51,781,000</td>\n",
       "      <td>99,538</td>\n",
       "      <td>520</td>\n",
       "    </tr>\n",
       "    <tr>\n",
       "      <th>6</th>\n",
       "      <td>7</td>\n",
       "      <td>Rwanda</td>\n",
       "      <td>12,374,000</td>\n",
       "      <td>26,338</td>\n",
       "      <td>470</td>\n",
       "    </tr>\n",
       "    <tr>\n",
       "      <th>7</th>\n",
       "      <td>8</td>\n",
       "      <td>Haiti</td>\n",
       "      <td>11,578,000</td>\n",
       "      <td>27,065</td>\n",
       "      <td>428</td>\n",
       "    </tr>\n",
       "    <tr>\n",
       "      <th>8</th>\n",
       "      <td>9</td>\n",
       "      <td>Netherlands</td>\n",
       "      <td>17,660,000</td>\n",
       "      <td>41,526</td>\n",
       "      <td>425</td>\n",
       "    </tr>\n",
       "    <tr>\n",
       "      <th>9</th>\n",
       "      <td>10</td>\n",
       "      <td>Israel</td>\n",
       "      <td>9,430,000</td>\n",
       "      <td>22,072</td>\n",
       "      <td>427</td>\n",
       "    </tr>\n",
       "  </tbody>\n",
       "</table>\n",
       "</div>"
      ],
      "text/plain": [
       "  Rank           Country   Population     Area Density\n",
       "0    1         Singapore    5,704,000      710   8,033\n",
       "1    2        Bangladesh  171,670,000  143,998   1,192\n",
       "2    3  \\n Palestine\\n\\n    5,266,785    6,020     847\n",
       "3    4           Lebanon    6,856,000   10,452     656\n",
       "4    5            Taiwan   23,604,000   36,193     652\n",
       "5    6       South Korea   51,781,000   99,538     520\n",
       "6    7            Rwanda   12,374,000   26,338     470\n",
       "7    8             Haiti   11,578,000   27,065     428\n",
       "8    9       Netherlands   17,660,000   41,526     425\n",
       "9   10            Israel    9,430,000   22,072     427"
      ]
     },
     "execution_count": 58,
     "metadata": {},
     "output_type": "execute_result"
    }
   ],
   "source": [
    "population_data = pd.DataFrame(columns=[\"Rank\", \"Country\", \"Population\", \"Area\", \"Density\"])\n",
    "\n",
    "for row in tables[table_index].tbody.find_all(\"tr\"):\n",
    "    col = row.find_all(\"td\")\n",
    "    if (col != []):\n",
    "        rank = col[0].text\n",
    "        country = col[1].text\n",
    "        population = col[2].text.strip()\n",
    "        area = col[3].text.strip()\n",
    "        density = col[4].text.strip()\n",
    "        population_data = population_data.append({\"Rank\":rank, \"Country\":country, \"Population\":population, \"Area\":area, \"Density\":density}, ignore_index=True)\n",
    "\n",
    "population_data"
   ]
  },
  {
   "cell_type": "markdown",
   "metadata": {},
   "source": [
    "## Scrape data from HTML tables into a DataFrame using BeautifulSoup and read_html\n"
   ]
  },
  {
   "cell_type": "markdown",
   "metadata": {},
   "source": [
    "Using the same `url`, `data`, `soup`, and `tables` object as in the last section we can use the `read_html` function to create a DataFrame.\n",
    "\n",
    "Remember the table we need is located in `tables[table_index]`\n",
    "\n",
    "We can now use the `pandas` function `read_html` and give it the string version of the table as well as the `flavor` which is the parsing engine `bs4`.\n"
   ]
  },
  {
   "cell_type": "code",
   "execution_count": 59,
   "metadata": {},
   "outputs": [
    {
     "data": {
      "text/plain": [
       "[   Rank      Country  Population  Area(km2)  Density(pop/km2)\n",
       " 0     1    Singapore     5704000        710              8033\n",
       " 1     2   Bangladesh   171670000     143998              1192\n",
       " 2     3    Palestine     5266785       6020               847\n",
       " 3     4      Lebanon     6856000      10452               656\n",
       " 4     5       Taiwan    23604000      36193               652\n",
       " 5     6  South Korea    51781000      99538               520\n",
       " 6     7       Rwanda    12374000      26338               470\n",
       " 7     8        Haiti    11578000      27065               428\n",
       " 8     9  Netherlands    17660000      41526               425\n",
       " 9    10       Israel     9430000      22072               427]"
      ]
     },
     "execution_count": 59,
     "metadata": {},
     "output_type": "execute_result"
    }
   ],
   "source": [
    "pd.read_html(str(tables[5]), flavor='bs4')"
   ]
  },
  {
   "cell_type": "markdown",
   "metadata": {},
   "source": [
    "The function `read_html` always returns a list of DataFrames so we must pick the one we want out of the list.\n"
   ]
  },
  {
   "cell_type": "code",
   "execution_count": 60,
   "metadata": {},
   "outputs": [
    {
     "data": {
      "text/html": [
       "<div>\n",
       "<style scoped>\n",
       "    .dataframe tbody tr th:only-of-type {\n",
       "        vertical-align: middle;\n",
       "    }\n",
       "\n",
       "    .dataframe tbody tr th {\n",
       "        vertical-align: top;\n",
       "    }\n",
       "\n",
       "    .dataframe thead th {\n",
       "        text-align: right;\n",
       "    }\n",
       "</style>\n",
       "<table border=\"1\" class=\"dataframe\">\n",
       "  <thead>\n",
       "    <tr style=\"text-align: right;\">\n",
       "      <th></th>\n",
       "      <th>Rank</th>\n",
       "      <th>Country</th>\n",
       "      <th>Population</th>\n",
       "      <th>Area(km2)</th>\n",
       "      <th>Density(pop/km2)</th>\n",
       "    </tr>\n",
       "  </thead>\n",
       "  <tbody>\n",
       "    <tr>\n",
       "      <th>0</th>\n",
       "      <td>1</td>\n",
       "      <td>Singapore</td>\n",
       "      <td>5704000</td>\n",
       "      <td>710</td>\n",
       "      <td>8033</td>\n",
       "    </tr>\n",
       "    <tr>\n",
       "      <th>1</th>\n",
       "      <td>2</td>\n",
       "      <td>Bangladesh</td>\n",
       "      <td>171670000</td>\n",
       "      <td>143998</td>\n",
       "      <td>1192</td>\n",
       "    </tr>\n",
       "    <tr>\n",
       "      <th>2</th>\n",
       "      <td>3</td>\n",
       "      <td>Palestine</td>\n",
       "      <td>5266785</td>\n",
       "      <td>6020</td>\n",
       "      <td>847</td>\n",
       "    </tr>\n",
       "    <tr>\n",
       "      <th>3</th>\n",
       "      <td>4</td>\n",
       "      <td>Lebanon</td>\n",
       "      <td>6856000</td>\n",
       "      <td>10452</td>\n",
       "      <td>656</td>\n",
       "    </tr>\n",
       "    <tr>\n",
       "      <th>4</th>\n",
       "      <td>5</td>\n",
       "      <td>Taiwan</td>\n",
       "      <td>23604000</td>\n",
       "      <td>36193</td>\n",
       "      <td>652</td>\n",
       "    </tr>\n",
       "    <tr>\n",
       "      <th>5</th>\n",
       "      <td>6</td>\n",
       "      <td>South Korea</td>\n",
       "      <td>51781000</td>\n",
       "      <td>99538</td>\n",
       "      <td>520</td>\n",
       "    </tr>\n",
       "    <tr>\n",
       "      <th>6</th>\n",
       "      <td>7</td>\n",
       "      <td>Rwanda</td>\n",
       "      <td>12374000</td>\n",
       "      <td>26338</td>\n",
       "      <td>470</td>\n",
       "    </tr>\n",
       "    <tr>\n",
       "      <th>7</th>\n",
       "      <td>8</td>\n",
       "      <td>Haiti</td>\n",
       "      <td>11578000</td>\n",
       "      <td>27065</td>\n",
       "      <td>428</td>\n",
       "    </tr>\n",
       "    <tr>\n",
       "      <th>8</th>\n",
       "      <td>9</td>\n",
       "      <td>Netherlands</td>\n",
       "      <td>17660000</td>\n",
       "      <td>41526</td>\n",
       "      <td>425</td>\n",
       "    </tr>\n",
       "    <tr>\n",
       "      <th>9</th>\n",
       "      <td>10</td>\n",
       "      <td>Israel</td>\n",
       "      <td>9430000</td>\n",
       "      <td>22072</td>\n",
       "      <td>427</td>\n",
       "    </tr>\n",
       "  </tbody>\n",
       "</table>\n",
       "</div>"
      ],
      "text/plain": [
       "   Rank      Country  Population  Area(km2)  Density(pop/km2)\n",
       "0     1    Singapore     5704000        710              8033\n",
       "1     2   Bangladesh   171670000     143998              1192\n",
       "2     3    Palestine     5266785       6020               847\n",
       "3     4      Lebanon     6856000      10452               656\n",
       "4     5       Taiwan    23604000      36193               652\n",
       "5     6  South Korea    51781000      99538               520\n",
       "6     7       Rwanda    12374000      26338               470\n",
       "7     8        Haiti    11578000      27065               428\n",
       "8     9  Netherlands    17660000      41526               425\n",
       "9    10       Israel     9430000      22072               427"
      ]
     },
     "execution_count": 60,
     "metadata": {},
     "output_type": "execute_result"
    }
   ],
   "source": [
    "population_data_read_html = pd.read_html(str(tables[5]), flavor='bs4')[0]\n",
    "\n",
    "population_data_read_html"
   ]
  },
  {
   "cell_type": "markdown",
   "metadata": {},
   "source": [
    "## Scrape data from HTML tables into a DataFrame using read_html\n"
   ]
  },
  {
   "cell_type": "markdown",
   "metadata": {},
   "source": [
    "We can also use the `read_html` function to directly get DataFrames from a `url`.\n"
   ]
  },
  {
   "cell_type": "code",
   "execution_count": 61,
   "metadata": {},
   "outputs": [],
   "source": [
    "dataframe_list = pd.read_html(url, flavor='bs4')"
   ]
  },
  {
   "cell_type": "markdown",
   "metadata": {},
   "source": [
    "We can see there are 25 DataFrames just like when we used `find_all` on the `soup` object.\n"
   ]
  },
  {
   "cell_type": "code",
   "execution_count": 62,
   "metadata": {},
   "outputs": [
    {
     "data": {
      "text/plain": [
       "26"
      ]
     },
     "execution_count": 62,
     "metadata": {},
     "output_type": "execute_result"
    }
   ],
   "source": [
    "len(dataframe_list)"
   ]
  },
  {
   "cell_type": "markdown",
   "metadata": {},
   "source": [
    "Finally we can pick the DataFrame we need out of the list.\n"
   ]
  },
  {
   "cell_type": "code",
   "execution_count": 63,
   "metadata": {},
   "outputs": [
    {
     "data": {
      "text/html": [
       "<div>\n",
       "<style scoped>\n",
       "    .dataframe tbody tr th:only-of-type {\n",
       "        vertical-align: middle;\n",
       "    }\n",
       "\n",
       "    .dataframe tbody tr th {\n",
       "        vertical-align: top;\n",
       "    }\n",
       "\n",
       "    .dataframe thead th {\n",
       "        text-align: right;\n",
       "    }\n",
       "</style>\n",
       "<table border=\"1\" class=\"dataframe\">\n",
       "  <thead>\n",
       "    <tr style=\"text-align: right;\">\n",
       "      <th></th>\n",
       "      <th>Rank</th>\n",
       "      <th>Country</th>\n",
       "      <th>Population</th>\n",
       "      <th>Area(km2)</th>\n",
       "      <th>Density(pop/km2)</th>\n",
       "    </tr>\n",
       "  </thead>\n",
       "  <tbody>\n",
       "    <tr>\n",
       "      <th>0</th>\n",
       "      <td>1</td>\n",
       "      <td>Singapore</td>\n",
       "      <td>5704000</td>\n",
       "      <td>710</td>\n",
       "      <td>8033</td>\n",
       "    </tr>\n",
       "    <tr>\n",
       "      <th>1</th>\n",
       "      <td>2</td>\n",
       "      <td>Bangladesh</td>\n",
       "      <td>171670000</td>\n",
       "      <td>143998</td>\n",
       "      <td>1192</td>\n",
       "    </tr>\n",
       "    <tr>\n",
       "      <th>2</th>\n",
       "      <td>3</td>\n",
       "      <td>Palestine</td>\n",
       "      <td>5266785</td>\n",
       "      <td>6020</td>\n",
       "      <td>847</td>\n",
       "    </tr>\n",
       "    <tr>\n",
       "      <th>3</th>\n",
       "      <td>4</td>\n",
       "      <td>Lebanon</td>\n",
       "      <td>6856000</td>\n",
       "      <td>10452</td>\n",
       "      <td>656</td>\n",
       "    </tr>\n",
       "    <tr>\n",
       "      <th>4</th>\n",
       "      <td>5</td>\n",
       "      <td>Taiwan</td>\n",
       "      <td>23604000</td>\n",
       "      <td>36193</td>\n",
       "      <td>652</td>\n",
       "    </tr>\n",
       "    <tr>\n",
       "      <th>5</th>\n",
       "      <td>6</td>\n",
       "      <td>South Korea</td>\n",
       "      <td>51781000</td>\n",
       "      <td>99538</td>\n",
       "      <td>520</td>\n",
       "    </tr>\n",
       "    <tr>\n",
       "      <th>6</th>\n",
       "      <td>7</td>\n",
       "      <td>Rwanda</td>\n",
       "      <td>12374000</td>\n",
       "      <td>26338</td>\n",
       "      <td>470</td>\n",
       "    </tr>\n",
       "    <tr>\n",
       "      <th>7</th>\n",
       "      <td>8</td>\n",
       "      <td>Haiti</td>\n",
       "      <td>11578000</td>\n",
       "      <td>27065</td>\n",
       "      <td>428</td>\n",
       "    </tr>\n",
       "    <tr>\n",
       "      <th>8</th>\n",
       "      <td>9</td>\n",
       "      <td>Netherlands</td>\n",
       "      <td>17660000</td>\n",
       "      <td>41526</td>\n",
       "      <td>425</td>\n",
       "    </tr>\n",
       "    <tr>\n",
       "      <th>9</th>\n",
       "      <td>10</td>\n",
       "      <td>Israel</td>\n",
       "      <td>9430000</td>\n",
       "      <td>22072</td>\n",
       "      <td>427</td>\n",
       "    </tr>\n",
       "  </tbody>\n",
       "</table>\n",
       "</div>"
      ],
      "text/plain": [
       "   Rank      Country  Population  Area(km2)  Density(pop/km2)\n",
       "0     1    Singapore     5704000        710              8033\n",
       "1     2   Bangladesh   171670000     143998              1192\n",
       "2     3    Palestine     5266785       6020               847\n",
       "3     4      Lebanon     6856000      10452               656\n",
       "4     5       Taiwan    23604000      36193               652\n",
       "5     6  South Korea    51781000      99538               520\n",
       "6     7       Rwanda    12374000      26338               470\n",
       "7     8        Haiti    11578000      27065               428\n",
       "8     9  Netherlands    17660000      41526               425\n",
       "9    10       Israel     9430000      22072               427"
      ]
     },
     "execution_count": 63,
     "metadata": {},
     "output_type": "execute_result"
    }
   ],
   "source": [
    "dataframe_list[5]"
   ]
  },
  {
   "cell_type": "markdown",
   "metadata": {},
   "source": [
    "We can also use the `match` parameter to select the specific table we want. If the table contains a string matching the text it will be read.\n"
   ]
  },
  {
   "cell_type": "code",
   "execution_count": 64,
   "metadata": {},
   "outputs": [
    {
     "data": {
      "text/html": [
       "<div>\n",
       "<style scoped>\n",
       "    .dataframe tbody tr th:only-of-type {\n",
       "        vertical-align: middle;\n",
       "    }\n",
       "\n",
       "    .dataframe tbody tr th {\n",
       "        vertical-align: top;\n",
       "    }\n",
       "\n",
       "    .dataframe thead th {\n",
       "        text-align: right;\n",
       "    }\n",
       "</style>\n",
       "<table border=\"1\" class=\"dataframe\">\n",
       "  <thead>\n",
       "    <tr style=\"text-align: right;\">\n",
       "      <th></th>\n",
       "      <th>Rank</th>\n",
       "      <th>Country</th>\n",
       "      <th>Population</th>\n",
       "      <th>Area(km2)</th>\n",
       "      <th>Density(pop/km2)</th>\n",
       "    </tr>\n",
       "  </thead>\n",
       "  <tbody>\n",
       "    <tr>\n",
       "      <th>0</th>\n",
       "      <td>1</td>\n",
       "      <td>Singapore</td>\n",
       "      <td>5704000</td>\n",
       "      <td>710</td>\n",
       "      <td>8033</td>\n",
       "    </tr>\n",
       "    <tr>\n",
       "      <th>1</th>\n",
       "      <td>2</td>\n",
       "      <td>Bangladesh</td>\n",
       "      <td>171670000</td>\n",
       "      <td>143998</td>\n",
       "      <td>1192</td>\n",
       "    </tr>\n",
       "    <tr>\n",
       "      <th>2</th>\n",
       "      <td>3</td>\n",
       "      <td>Palestine</td>\n",
       "      <td>5266785</td>\n",
       "      <td>6020</td>\n",
       "      <td>847</td>\n",
       "    </tr>\n",
       "    <tr>\n",
       "      <th>3</th>\n",
       "      <td>4</td>\n",
       "      <td>Lebanon</td>\n",
       "      <td>6856000</td>\n",
       "      <td>10452</td>\n",
       "      <td>656</td>\n",
       "    </tr>\n",
       "    <tr>\n",
       "      <th>4</th>\n",
       "      <td>5</td>\n",
       "      <td>Taiwan</td>\n",
       "      <td>23604000</td>\n",
       "      <td>36193</td>\n",
       "      <td>652</td>\n",
       "    </tr>\n",
       "    <tr>\n",
       "      <th>5</th>\n",
       "      <td>6</td>\n",
       "      <td>South Korea</td>\n",
       "      <td>51781000</td>\n",
       "      <td>99538</td>\n",
       "      <td>520</td>\n",
       "    </tr>\n",
       "    <tr>\n",
       "      <th>6</th>\n",
       "      <td>7</td>\n",
       "      <td>Rwanda</td>\n",
       "      <td>12374000</td>\n",
       "      <td>26338</td>\n",
       "      <td>470</td>\n",
       "    </tr>\n",
       "    <tr>\n",
       "      <th>7</th>\n",
       "      <td>8</td>\n",
       "      <td>Haiti</td>\n",
       "      <td>11578000</td>\n",
       "      <td>27065</td>\n",
       "      <td>428</td>\n",
       "    </tr>\n",
       "    <tr>\n",
       "      <th>8</th>\n",
       "      <td>9</td>\n",
       "      <td>Netherlands</td>\n",
       "      <td>17660000</td>\n",
       "      <td>41526</td>\n",
       "      <td>425</td>\n",
       "    </tr>\n",
       "    <tr>\n",
       "      <th>9</th>\n",
       "      <td>10</td>\n",
       "      <td>Israel</td>\n",
       "      <td>9430000</td>\n",
       "      <td>22072</td>\n",
       "      <td>427</td>\n",
       "    </tr>\n",
       "  </tbody>\n",
       "</table>\n",
       "</div>"
      ],
      "text/plain": [
       "   Rank      Country  Population  Area(km2)  Density(pop/km2)\n",
       "0     1    Singapore     5704000        710              8033\n",
       "1     2   Bangladesh   171670000     143998              1192\n",
       "2     3    Palestine     5266785       6020               847\n",
       "3     4      Lebanon     6856000      10452               656\n",
       "4     5       Taiwan    23604000      36193               652\n",
       "5     6  South Korea    51781000      99538               520\n",
       "6     7       Rwanda    12374000      26338               470\n",
       "7     8        Haiti    11578000      27065               428\n",
       "8     9  Netherlands    17660000      41526               425\n",
       "9    10       Israel     9430000      22072               427"
      ]
     },
     "execution_count": 64,
     "metadata": {},
     "output_type": "execute_result"
    }
   ],
   "source": [
    "pd.read_html(url, match=\"10 most densely populated countries\", flavor='bs4')[0]"
   ]
  },
  {
   "cell_type": "markdown",
   "metadata": {},
   "source": [
    "## Authors\n"
   ]
  },
  {
   "cell_type": "markdown",
   "metadata": {},
   "source": [
    "Ramesh Sannareddy\n"
   ]
  },
  {
   "cell_type": "markdown",
   "metadata": {},
   "source": [
    "### Other Contributors\n"
   ]
  },
  {
   "cell_type": "markdown",
   "metadata": {},
   "source": [
    "Rav Ahuja\n"
   ]
  },
  {
   "cell_type": "markdown",
   "metadata": {},
   "source": [
    "## Change Log\n"
   ]
  },
  {
   "cell_type": "markdown",
   "metadata": {},
   "source": [
    "| Date (YYYY-MM-DD) | Version | Changed By                                               | Change Description |\n",
    "| ----------------- | ------- | -------------------------------------------------------- | ------------------ |\n",
    "| 2021-08-04        | 0.2     | Made changes to markdown of nextsibling                  |                    |\n",
    "| 2020-10-17        | 0.1     | Joseph Santarcangelo  Created initial version of the lab |                    |\n"
   ]
  },
  {
   "cell_type": "markdown",
   "metadata": {},
   "source": [
    "Copyright © 2020 IBM Corporation. This notebook and its source code are released under the terms of the [MIT License](https://cognitiveclass.ai/mit-license?utm_medium=Exinfluencer&utm_source=Exinfluencer&utm_content=000026UJ&utm_term=10006555&utm_id=NA-SkillsNetwork-Channel-SkillsNetworkCoursesIBMDeveloperSkillsNetworkPY0220ENSkillsNetwork23455606-2021-01-01&cm_mmc=Email_Newsletter-_-Developer_Ed%2BTech-_-WW_WW-_-SkillsNetwork-Courses-IBMDeveloperSkillsNetwork-PY0101EN-SkillsNetwork-19487395&cm_mmca1=000026UJ&cm_mmca2=10006555&cm_mmca3=M12345678&cvosrc=email.Newsletter.M12345678&cvo_campaign=000026UJ).\n"
   ]
  },
  {
   "cell_type": "code",
   "execution_count": null,
   "metadata": {},
   "outputs": [],
   "source": []
  },
  {
   "cell_type": "code",
   "execution_count": null,
   "metadata": {},
   "outputs": [],
   "source": []
  }
 ],
 "metadata": {
  "kernelspec": {
   "display_name": "Python",
   "language": "python",
   "name": "conda-env-python-py"
  },
  "language_info": {
   "codemirror_mode": {
    "name": "ipython",
    "version": 3
   },
   "file_extension": ".py",
   "mimetype": "text/x-python",
   "name": "python",
   "nbconvert_exporter": "python",
   "pygments_lexer": "ipython3",
   "version": "3.7.12"
  }
 },
 "nbformat": 4,
 "nbformat_minor": 4
}
